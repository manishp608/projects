{
 "cells": [
  {
   "cell_type": "markdown",
   "id": "8d7b290e",
   "metadata": {},
   "source": [
    "# Resume Testing Using SpaCy"
   ]
  },
  {
   "cell_type": "code",
   "execution_count": 12,
   "id": "789177ad",
   "metadata": {},
   "outputs": [],
   "source": [
    "import spacy"
   ]
  },
  {
   "cell_type": "code",
   "execution_count": 13,
   "id": "67ab15b5",
   "metadata": {},
   "outputs": [],
   "source": [
    "with open('resume.txt', 'r') as f:\n",
    "    text = f.read()"
   ]
  },
  {
   "cell_type": "code",
   "execution_count": 14,
   "id": "c2080ea0",
   "metadata": {},
   "outputs": [
    {
     "name": "stdout",
     "output_type": "stream",
     "text": [
      " \n",
      "OBJECTIVE \n",
      " \n",
      "To obtain an opportunity to work with \n",
      "other people who share the same \n",
      "interest and contribute to the \n",
      "development as a whole..  \n",
      "  Palavalasa \n",
      "Manish \n",
      "STUDENT \n",
      " \n",
      "I am passionate ab out Computer Science with a strong interest in \n",
      "Open Source and AI/ML technologies. Want to collab with \n",
      "experienced persons for contributing to development as a whole.  \n",
      " \n",
      " \n",
      " \n",
      "CONTACT \n",
      " \n",
      "ï‚· manishpalavalasa@gmail.com  \n",
      "ï‚· https://manishp608.github.io/devl\n",
      "og/ \n",
      "ï‚· https://www.linkedin.com/in/pala\n",
      "valasa-manish-665aaa2b9/  \n",
      " \n",
      " \n",
      " \n",
      " \n",
      "EDUCATION \n",
      " \n",
      "B.Tech 2nd year in Comupter \n",
      "Science, IIIT Design and \n",
      "Manufacturing, Kurnool. \n",
      " \n",
      "CGPA â€“ 7.9 \n",
      " \n",
      " \n",
      " \n",
      " \n",
      "SKILLS \n",
      " \n",
      "ï‚· Contributor \n",
      "ï‚· Good in C and Python \n",
      "ï‚· Knowledge of Unity \n",
      "ï‚· Project management  \n",
      "TECHNICAL SKILLS \n",
      " \n",
      "ï‚· Have idea about entry level Frontend. \n",
      " \n",
      "ï‚· Knowledge of C, python, C# \n",
      " \n",
      "ï‚· Entry level understanding of Unity game engine. \n",
      " \n",
      "ï‚· Knowledge of various specific devices and hardware. \n",
      "  \n",
      " \n",
      "HOBBIES AND ACHIEVEMENTS \n",
      "ï‚· Made a clone of flappy bird in Unity. Also made pong in \n",
      "both Unity and python. \n",
      " \n",
      "ï‚· Likes playing games \n",
      " \n",
      "ï‚· Made a basic website and want to blog in it. \n",
      " \n",
      "  \n",
      " \n",
      "SOFT SKILLS \n",
      "  \n",
      "ï‚· Worked for a small group project. \n",
      " \n",
      "ï‚· Good at communicating in English, Hindi and Telugu. \n",
      " \n",
      "ï‚· Always excited to try out new stuff. \n",
      " \n"
     ]
    }
   ],
   "source": [
    "print(text)"
   ]
  },
  {
   "cell_type": "code",
   "execution_count": 15,
   "id": "f3ded7be",
   "metadata": {},
   "outputs": [],
   "source": [
    "nlp = spacy.blank(\"en\")\n",
    "ruler = nlp.add_pipe(\"entity_ruler\")\n",
    "skills = ['C#', 'C', 'Python', 'Unity', 'Frontend', 'HTML', 'CSS', 'JS', 'JavaScript']\n",
    "soft_skills = ['project management', 'hindi', 'english', 'telugu', 'kannada']"
   ]
  },
  {
   "cell_type": "code",
   "execution_count": 16,
   "id": "95d9c594",
   "metadata": {},
   "outputs": [],
   "source": [
    "patterns = []\n",
    "for skill in skills:\n",
    "    tokens = skill.split()\n",
    "    pattern = [{\"LOWER\": token.lower()} for token in tokens]\n",
    "    patterns.append({\"label\": \"SKILL\", \"pattern\": pattern})\n",
    "\n",
    "for sk in soft_skills:\n",
    "    tokens = sk.split()\n",
    "    pattern = [{\"LOWER\": token.lower()} for token in tokens]\n",
    "    patterns.append({\"label\": \"SOFT_SKILL\", \"pattern\": pattern})\n",
    "\n",
    "ruler.add_patterns(patterns)"
   ]
  },
  {
   "cell_type": "code",
   "execution_count": 17,
   "id": "fea960e5",
   "metadata": {},
   "outputs": [
    {
     "name": "stdout",
     "output_type": "stream",
     "text": [
      "C SKILL\n",
      "Python SKILL\n",
      "Unity SKILL\n",
      "Project management SOFT_SKILL\n",
      "Frontend SKILL\n",
      "C SKILL\n",
      "python SKILL\n",
      "C SKILL\n",
      "Unity SKILL\n",
      "Unity SKILL\n",
      "Unity SKILL\n",
      "python SKILL\n",
      "English SOFT_SKILL\n",
      "Hindi SOFT_SKILL\n",
      "Telugu SOFT_SKILL\n"
     ]
    }
   ],
   "source": [
    "doc = nlp(text)\n",
    "for ent in doc.ents:\n",
    "    print(ent.text, ent.label_)"
   ]
  },
  {
   "cell_type": "markdown",
   "id": "3d55422d",
   "metadata": {},
   "source": [
    "# With an existing model"
   ]
  },
  {
   "cell_type": "code",
   "execution_count": 18,
   "id": "43e9872f",
   "metadata": {},
   "outputs": [],
   "source": [
    "nlp2 = spacy.load(\"en_core_web_md\")"
   ]
  },
  {
   "cell_type": "code",
   "execution_count": 19,
   "id": "064a7768",
   "metadata": {},
   "outputs": [],
   "source": [
    "doc2 = nlp2(text)"
   ]
  },
  {
   "cell_type": "code",
   "execution_count": 20,
   "id": "08ddb6d0",
   "metadata": {},
   "outputs": [
    {
     "name": "stdout",
     "output_type": "stream",
     "text": [
      "Palavalasa ORG\n",
      "Manish PERSON\n",
      "Computer Science ORG\n",
      "EDUCATION ORG\n",
      "B.Tech 2nd year DATE\n",
      "Comupter \n",
      "Science ORG\n",
      "Kurnool PERSON\n",
      "CGPA PERSON\n",
      "7.9 CARDINAL\n",
      "Frontend ORG\n",
      "HOBBIES EVENT\n",
      "English LANGUAGE\n",
      "Hindi NORP\n",
      "Telugu GPE\n"
     ]
    }
   ],
   "source": [
    "for ent in doc2.ents:\n",
    "    print(ent.text, ent.label_)"
   ]
  },
  {
   "cell_type": "code",
   "execution_count": null,
   "id": "9947911f",
   "metadata": {},
   "outputs": [],
   "source": []
  }
 ],
 "metadata": {
  "kernelspec": {
   "display_name": "Python 3",
   "language": "python",
   "name": "python3"
  },
  "language_info": {
   "codemirror_mode": {
    "name": "ipython",
    "version": 3
   },
   "file_extension": ".py",
   "mimetype": "text/x-python",
   "name": "python",
   "nbconvert_exporter": "python",
   "pygments_lexer": "ipython3",
   "version": "3.12.1"
  }
 },
 "nbformat": 4,
 "nbformat_minor": 5
}
