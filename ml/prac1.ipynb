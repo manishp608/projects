{
 "cells": [
  {
   "cell_type": "markdown",
   "id": "45aed8a2",
   "metadata": {},
   "source": [
    "# Univariate Linear Regression"
   ]
  },
  {
   "cell_type": "code",
   "execution_count": 1,
   "id": "febcff8a",
   "metadata": {},
   "outputs": [
    {
     "name": "stderr",
     "output_type": "stream",
     "text": [
      "C:\\Users\\manis\\AppData\\Local\\Temp\\ipykernel_6060\\1662815981.py:2: DeprecationWarning: \n",
      "Pyarrow will become a required dependency of pandas in the next major release of pandas (pandas 3.0),\n",
      "(to allow more performant data types, such as the Arrow string type, and better interoperability with other libraries)\n",
      "but was not found to be installed on your system.\n",
      "If this would cause problems for you,\n",
      "please provide us feedback at https://github.com/pandas-dev/pandas/issues/54466\n",
      "        \n",
      "  import pandas as pd\n"
     ]
    }
   ],
   "source": [
    "import numpy as np\n",
    "import pandas as pd"
   ]
  },
  {
   "cell_type": "code",
   "execution_count": 9,
   "id": "66d9d500",
   "metadata": {},
   "outputs": [],
   "source": [
    "df = [\n",
    "    [35.0, 179.0],\n",
    "    [42.0, 200.0],\n",
    "    [50.0, 221.0],\n",
    "    [60.0, 263.0],\n",
    "    [67.0, 280.0],\n",
    "    [75.0, 314.0],\n",
    "    [80.0, 327.0],\n",
    "    [90.0, 360.0],\n",
    "    [95.0, 377.0],\n",
    "    [100.0, 391.0],\n",
    "    [110.0, 425.0],\n",
    "    [120.0, 462.0],\n",
    "    [130.0, 493.0],\n",
    "    [140.0, 521.0],\n",
    "    [150.0, 552.0],\n",
    "    [160.0, 582.0],\n",
    "    [175.0, 631.0],\n",
    "    [190.0, 675.0],\n",
    "    [210.0, 740.0],\n",
    "    [230.0, 804.0]\n",
    "]\n"
   ]
  },
  {
   "cell_type": "code",
   "execution_count": 10,
   "id": "09958e8f",
   "metadata": {},
   "outputs": [],
   "source": [
    "df = pd.DataFrame(df, columns=['feature', 'target'])"
   ]
  },
  {
   "cell_type": "code",
   "execution_count": 11,
   "id": "9ac85cdb",
   "metadata": {},
   "outputs": [
    {
     "name": "stdout",
     "output_type": "stream",
     "text": [
      "   feature  target\n",
      "0     35.0   179.0\n",
      "1     42.0   200.0\n",
      "2     50.0   221.0\n",
      "3     60.0   263.0\n",
      "4     67.0   280.0\n"
     ]
    }
   ],
   "source": [
    "print(df.head())"
   ]
  },
  {
   "cell_type": "code",
   "execution_count": 12,
   "id": "1a267dea",
   "metadata": {},
   "outputs": [
    {
     "name": "stdout",
     "output_type": "stream",
     "text": [
      "(20, 2)\n"
     ]
    }
   ],
   "source": [
    "print(df.shape)"
   ]
  },
  {
   "cell_type": "code",
   "execution_count": 13,
   "id": "22737d18",
   "metadata": {},
   "outputs": [],
   "source": [
    "X = df['feature']\n",
    "y = df['target']"
   ]
  },
  {
   "cell_type": "code",
   "execution_count": 14,
   "id": "005f8cee",
   "metadata": {},
   "outputs": [
    {
     "name": "stdout",
     "output_type": "stream",
     "text": [
      "0    35.0\n",
      "1    42.0\n",
      "2    50.0\n",
      "3    60.0\n",
      "4    67.0\n",
      "Name: feature, dtype: float64\n",
      "0    179.0\n",
      "1    200.0\n",
      "2    221.0\n",
      "3    263.0\n",
      "4    280.0\n",
      "Name: target, dtype: float64\n"
     ]
    }
   ],
   "source": [
    "print(X.head())\n",
    "print(y.head())"
   ]
  },
  {
   "cell_type": "code",
   "execution_count": 16,
   "id": "7830db36",
   "metadata": {},
   "outputs": [
    {
     "name": "stdout",
     "output_type": "stream",
     "text": [
      "115.45 35.00 230.00 55.22\n",
      "439.85 179.00 804.00 177.34\n"
     ]
    }
   ],
   "source": [
    "X_mean = X.mean()\n",
    "X_min = X.min()\n",
    "X_max = X.max()\n",
    "X_std = X.std(ddof=0)\n",
    "\n",
    "y_mean =y.mean()\n",
    "y_min = y.min()\n",
    "y_max = y.max()\n",
    "y_std = y.std(ddof=0)\n",
    "\n",
    "print(f\"{X_mean:.2f} {X_min:.2f} {X_max:.2f} {X_std:.2f}\")\n",
    "print(f\"{y_mean:.2f} {y_min:.2f} {y_max:.2f} {y_std:.2f}\")"
   ]
  },
  {
   "cell_type": "code",
   "execution_count": 17,
   "id": "9eff421b",
   "metadata": {},
   "outputs": [],
   "source": [
    "alpha = 0.01\n",
    "epochs = 1000"
   ]
  },
  {
   "cell_type": "code",
   "execution_count": 18,
   "id": "01aaaf3f",
   "metadata": {},
   "outputs": [],
   "source": [
    "X_norm = (X - X_mean) / (X_std)"
   ]
  },
  {
   "cell_type": "code",
   "execution_count": 19,
   "id": "f4177991",
   "metadata": {},
   "outputs": [
    {
     "name": "stdout",
     "output_type": "stream",
     "text": [
      "0   -1.456972\n",
      "1   -1.330200\n",
      "2   -1.185317\n",
      "3   -1.004215\n",
      "4   -0.877443\n",
      "Name: feature, dtype: float64\n"
     ]
    }
   ],
   "source": [
    "print(X_norm.head())"
   ]
  },
  {
   "cell_type": "code",
   "execution_count": 28,
   "id": "ee1488b4",
   "metadata": {},
   "outputs": [],
   "source": [
    "def gradient_descent(X, y, alpha=0.01, epochs=1000):\n",
    "    theta0, theta1 = 0, 0\n",
    "    \n",
    "    n = len(X)\n",
    "\n",
    "    for epoch in range(epochs):\n",
    "        y_cap = theta0 + (theta1 * X)\n",
    "        grad0 = sum((y_cap - y)) / n\n",
    "        grad1 = sum(((y_cap - y) * X)) / n\n",
    "\n",
    "        theta0 -= alpha * grad0\n",
    "        theta1 -= alpha * grad1\n",
    "\n",
    "    return theta0, theta1"
   ]
  },
  {
   "cell_type": "code",
   "execution_count": 29,
   "id": "854c6cde",
   "metadata": {},
   "outputs": [],
   "source": [
    "theta0, theta1 = gradient_descent(X_norm, y)"
   ]
  },
  {
   "cell_type": "code",
   "execution_count": 30,
   "id": "c882123d",
   "metadata": {},
   "outputs": [
    {
     "name": "stdout",
     "output_type": "stream",
     "text": [
      "439.83101112682647 177.29315298210062\n"
     ]
    }
   ],
   "source": [
    "print(theta0, theta1)"
   ]
  },
  {
   "cell_type": "code",
   "execution_count": 31,
   "id": "e69ad3fe",
   "metadata": {},
   "outputs": [],
   "source": [
    "def mse(X, y):\n",
    "    y_cap = theta0 + (theta1 * X)\n",
    "    n = len(X)\n",
    "    return sum((y_cap - y) ** 2) / (2 * n)"
   ]
  },
  {
   "cell_type": "code",
   "execution_count": 32,
   "id": "8134c0ec",
   "metadata": {},
   "outputs": [],
   "source": [
    "error = mse(X_norm, y)"
   ]
  },
  {
   "cell_type": "code",
   "execution_count": 33,
   "id": "245f55bb",
   "metadata": {},
   "outputs": [
    {
     "name": "stdout",
     "output_type": "stream",
     "text": [
      "7.57582866937003\n"
     ]
    }
   ],
   "source": [
    "print(error)"
   ]
  },
  {
   "cell_type": "code",
   "execution_count": 38,
   "id": "2d3fe7ab",
   "metadata": {},
   "outputs": [],
   "source": [
    "def predict(val):\n",
    "    X = (val - X_mean) / X_std\n",
    "    return theta0 + (theta1 * X)"
   ]
  },
  {
   "cell_type": "code",
   "execution_count": 39,
   "id": "a3864d8d",
   "metadata": {},
   "outputs": [
    {
     "name": "stdout",
     "output_type": "stream",
     "text": [
      "550.7651054617813\n",
      "711.3064865543353\n"
     ]
    }
   ],
   "source": [
    "print(predict(150))\n",
    "print(predict(200))"
   ]
  },
  {
   "cell_type": "markdown",
   "id": "21e49ee6",
   "metadata": {},
   "source": [
    "# Multi Variate Linear Regression"
   ]
  },
  {
   "cell_type": "code",
   "execution_count": null,
   "id": "81100dbb",
   "metadata": {},
   "outputs": [],
   "source": []
  }
 ],
 "metadata": {
  "kernelspec": {
   "display_name": "Python 3",
   "language": "python",
   "name": "python3"
  },
  "language_info": {
   "codemirror_mode": {
    "name": "ipython",
    "version": 3
   },
   "file_extension": ".py",
   "mimetype": "text/x-python",
   "name": "python",
   "nbconvert_exporter": "python",
   "pygments_lexer": "ipython3",
   "version": "3.12.1"
  }
 },
 "nbformat": 4,
 "nbformat_minor": 5
}
