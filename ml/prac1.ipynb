{
 "cells": [
  {
   "cell_type": "markdown",
   "id": "45aed8a2",
   "metadata": {},
   "source": [
    "# Univariate Linear Regression"
   ]
  },
  {
   "cell_type": "code",
   "execution_count": 1,
   "id": "febcff8a",
   "metadata": {},
   "outputs": [
    {
     "name": "stderr",
     "output_type": "stream",
     "text": [
      "C:\\Users\\manis\\AppData\\Local\\Temp\\ipykernel_6060\\1662815981.py:2: DeprecationWarning: \n",
      "Pyarrow will become a required dependency of pandas in the next major release of pandas (pandas 3.0),\n",
      "(to allow more performant data types, such as the Arrow string type, and better interoperability with other libraries)\n",
      "but was not found to be installed on your system.\n",
      "If this would cause problems for you,\n",
      "please provide us feedback at https://github.com/pandas-dev/pandas/issues/54466\n",
      "        \n",
      "  import pandas as pd\n"
     ]
    }
   ],
   "source": [
    "import numpy as np\n",
    "import pandas as pd"
   ]
  },
  {
   "cell_type": "code",
   "execution_count": 9,
   "id": "66d9d500",
   "metadata": {},
   "outputs": [],
   "source": [
    "df = [\n",
    "    [35.0, 179.0],\n",
    "    [42.0, 200.0],\n",
    "    [50.0, 221.0],\n",
    "    [60.0, 263.0],\n",
    "    [67.0, 280.0],\n",
    "    [75.0, 314.0],\n",
    "    [80.0, 327.0],\n",
    "    [90.0, 360.0],\n",
    "    [95.0, 377.0],\n",
    "    [100.0, 391.0],\n",
    "    [110.0, 425.0],\n",
    "    [120.0, 462.0],\n",
    "    [130.0, 493.0],\n",
    "    [140.0, 521.0],\n",
    "    [150.0, 552.0],\n",
    "    [160.0, 582.0],\n",
    "    [175.0, 631.0],\n",
    "    [190.0, 675.0],\n",
    "    [210.0, 740.0],\n",
    "    [230.0, 804.0]\n",
    "]\n"
   ]
  },
  {
   "cell_type": "code",
   "execution_count": 10,
   "id": "09958e8f",
   "metadata": {},
   "outputs": [],
   "source": [
    "df = pd.DataFrame(df, columns=['feature', 'target'])"
   ]
  },
  {
   "cell_type": "code",
   "execution_count": 11,
   "id": "9ac85cdb",
   "metadata": {},
   "outputs": [
    {
     "name": "stdout",
     "output_type": "stream",
     "text": [
      "   feature  target\n",
      "0     35.0   179.0\n",
      "1     42.0   200.0\n",
      "2     50.0   221.0\n",
      "3     60.0   263.0\n",
      "4     67.0   280.0\n"
     ]
    }
   ],
   "source": [
    "print(df.head())"
   ]
  },
  {
   "cell_type": "code",
   "execution_count": 12,
   "id": "1a267dea",
   "metadata": {},
   "outputs": [
    {
     "name": "stdout",
     "output_type": "stream",
     "text": [
      "(20, 2)\n"
     ]
    }
   ],
   "source": [
    "print(df.shape)"
   ]
  },
  {
   "cell_type": "code",
   "execution_count": 13,
   "id": "22737d18",
   "metadata": {},
   "outputs": [],
   "source": [
    "X = df['feature']\n",
    "y = df['target']"
   ]
  },
  {
   "cell_type": "code",
   "execution_count": 14,
   "id": "005f8cee",
   "metadata": {},
   "outputs": [
    {
     "name": "stdout",
     "output_type": "stream",
     "text": [
      "0    35.0\n",
      "1    42.0\n",
      "2    50.0\n",
      "3    60.0\n",
      "4    67.0\n",
      "Name: feature, dtype: float64\n",
      "0    179.0\n",
      "1    200.0\n",
      "2    221.0\n",
      "3    263.0\n",
      "4    280.0\n",
      "Name: target, dtype: float64\n"
     ]
    }
   ],
   "source": [
    "print(X.head())\n",
    "print(y.head())"
   ]
  },
  {
   "cell_type": "code",
   "execution_count": 16,
   "id": "7830db36",
   "metadata": {},
   "outputs": [
    {
     "name": "stdout",
     "output_type": "stream",
     "text": [
      "115.45 35.00 230.00 55.22\n",
      "439.85 179.00 804.00 177.34\n"
     ]
    }
   ],
   "source": [
    "X_mean = X.mean()\n",
    "X_min = X.min()\n",
    "X_max = X.max()\n",
    "X_std = X.std(ddof=0)\n",
    "\n",
    "y_mean =y.mean()\n",
    "y_min = y.min()\n",
    "y_max = y.max()\n",
    "y_std = y.std(ddof=0)\n",
    "\n",
    "print(f\"{X_mean:.2f} {X_min:.2f} {X_max:.2f} {X_std:.2f}\")\n",
    "print(f\"{y_mean:.2f} {y_min:.2f} {y_max:.2f} {y_std:.2f}\")"
   ]
  },
  {
   "cell_type": "code",
   "execution_count": 17,
   "id": "9eff421b",
   "metadata": {},
   "outputs": [],
   "source": [
    "alpha = 0.01\n",
    "epochs = 1000"
   ]
  },
  {
   "cell_type": "code",
   "execution_count": 18,
   "id": "01aaaf3f",
   "metadata": {},
   "outputs": [],
   "source": [
    "X_norm = (X - X_mean) / (X_std)"
   ]
  },
  {
   "cell_type": "code",
   "execution_count": 19,
   "id": "f4177991",
   "metadata": {},
   "outputs": [
    {
     "name": "stdout",
     "output_type": "stream",
     "text": [
      "0   -1.456972\n",
      "1   -1.330200\n",
      "2   -1.185317\n",
      "3   -1.004215\n",
      "4   -0.877443\n",
      "Name: feature, dtype: float64\n"
     ]
    }
   ],
   "source": [
    "print(X_norm.head())"
   ]
  },
  {
   "cell_type": "code",
   "execution_count": 28,
   "id": "ee1488b4",
   "metadata": {},
   "outputs": [],
   "source": [
    "def gradient_descent(X, y, alpha=0.01, epochs=1000):\n",
    "    theta0, theta1 = 0, 0\n",
    "    \n",
    "    n = len(X)\n",
    "\n",
    "    for epoch in range(epochs):\n",
    "        y_cap = theta0 + (theta1 * X)\n",
    "        grad0 = sum((y_cap - y)) / n\n",
    "        grad1 = sum(((y_cap - y) * X)) / n\n",
    "\n",
    "        theta0 -= alpha * grad0\n",
    "        theta1 -= alpha * grad1\n",
    "\n",
    "    return theta0, theta1"
   ]
  },
  {
   "cell_type": "code",
   "execution_count": 29,
   "id": "854c6cde",
   "metadata": {},
   "outputs": [],
   "source": [
    "theta0, theta1 = gradient_descent(X_norm, y)"
   ]
  },
  {
   "cell_type": "code",
   "execution_count": 30,
   "id": "c882123d",
   "metadata": {},
   "outputs": [
    {
     "name": "stdout",
     "output_type": "stream",
     "text": [
      "439.83101112682647 177.29315298210062\n"
     ]
    }
   ],
   "source": [
    "print(theta0, theta1)"
   ]
  },
  {
   "cell_type": "code",
   "execution_count": 31,
   "id": "e69ad3fe",
   "metadata": {},
   "outputs": [],
   "source": [
    "def mse(X, y):\n",
    "    y_cap = theta0 + (theta1 * X)\n",
    "    n = len(X)\n",
    "    return sum((y_cap - y) ** 2) / (2 * n)"
   ]
  },
  {
   "cell_type": "code",
   "execution_count": 32,
   "id": "8134c0ec",
   "metadata": {},
   "outputs": [],
   "source": [
    "error = mse(X_norm, y)"
   ]
  },
  {
   "cell_type": "code",
   "execution_count": 33,
   "id": "245f55bb",
   "metadata": {},
   "outputs": [
    {
     "name": "stdout",
     "output_type": "stream",
     "text": [
      "7.57582866937003\n"
     ]
    }
   ],
   "source": [
    "print(error)"
   ]
  },
  {
   "cell_type": "code",
   "execution_count": 38,
   "id": "2d3fe7ab",
   "metadata": {},
   "outputs": [],
   "source": [
    "def predict(val):\n",
    "    X = (val - X_mean) / X_std\n",
    "    return theta0 + (theta1 * X)"
   ]
  },
  {
   "cell_type": "code",
   "execution_count": 39,
   "id": "a3864d8d",
   "metadata": {},
   "outputs": [
    {
     "name": "stdout",
     "output_type": "stream",
     "text": [
      "550.7651054617813\n",
      "711.3064865543353\n"
     ]
    }
   ],
   "source": [
    "print(predict(150))\n",
    "print(predict(200))"
   ]
  },
  {
   "cell_type": "markdown",
   "id": "21e49ee6",
   "metadata": {},
   "source": [
    "# Multi Variate Linear Regression"
   ]
  },
  {
   "cell_type": "code",
   "execution_count": 40,
   "id": "81100dbb",
   "metadata": {},
   "outputs": [],
   "source": [
    "df = [\n",
    "    [35.0, 1.0, 20.0, 179.0],\n",
    "    [42.0, 2.0, 15.0, 200.0],\n",
    "    [50.0, 2.0, 18.0, 221.0],\n",
    "    [60.0, 3.0, 10.0, 263.0],\n",
    "    [67.0, 3.0, 8.0, 280.0],\n",
    "    [75.0, 3.0, 12.0, 314.0],\n",
    "    [80.0, 4.0, 5.0, 327.0],\n",
    "    [90.0, 4.0, 5.0, 360.0],\n",
    "    [95.0, 4.0, 6.0, 377.0],\n",
    "    [100.0, 5.0, 5.0, 391.0],\n",
    "    [110.0, 5.0, 3.0, 425.0],\n",
    "    [120.0, 5.0, 2.0, 462.0],\n",
    "    [130.0, 6.0, 2.0, 493.0],\n",
    "    [140.0, 6.0, 1.0, 521.0],\n",
    "    [150.0, 6.0, 1.0, 552.0],\n",
    "    [160.0, 7.0, 1.0, 582.0],\n",
    "    [175.0, 7.0, 2.0, 631.0],\n",
    "    [190.0, 8.0, 2.0, 675.0],\n",
    "    [210.0, 8.0, 1.0, 740.0],\n",
    "    [230.0, 9.0, 1.0, 804.0]\n",
    "]\n"
   ]
  },
  {
   "cell_type": "code",
   "execution_count": 41,
   "id": "70e3d2d7",
   "metadata": {},
   "outputs": [],
   "source": [
    "df = pd.DataFrame(df, columns=['size', 'rooms', 'age', 'price'])"
   ]
  },
  {
   "cell_type": "code",
   "execution_count": 42,
   "id": "ac8dcb96",
   "metadata": {},
   "outputs": [
    {
     "name": "stdout",
     "output_type": "stream",
     "text": [
      "   size  rooms   age  price\n",
      "0  35.0    1.0  20.0  179.0\n",
      "1  42.0    2.0  15.0  200.0\n",
      "2  50.0    2.0  18.0  221.0\n",
      "3  60.0    3.0  10.0  263.0\n",
      "4  67.0    3.0   8.0  280.0\n"
     ]
    }
   ],
   "source": [
    "print(df.head())"
   ]
  },
  {
   "cell_type": "code",
   "execution_count": 43,
   "id": "246e2a97",
   "metadata": {},
   "outputs": [
    {
     "name": "stdout",
     "output_type": "stream",
     "text": [
      "(20, 4)\n"
     ]
    }
   ],
   "source": [
    "print(df.shape)"
   ]
  },
  {
   "cell_type": "code",
   "execution_count": 45,
   "id": "e0cbc179",
   "metadata": {},
   "outputs": [],
   "source": [
    "mean_vals = df.mean()\n",
    "min_vals = df.min()\n",
    "max_vals = df.max()\n",
    "std_vals = df.std(ddof=0)"
   ]
  },
  {
   "cell_type": "code",
   "execution_count": 46,
   "id": "72d36c1f",
   "metadata": {},
   "outputs": [
    {
     "name": "stdout",
     "output_type": "stream",
     "text": [
      "size     115.45\n",
      "rooms      4.90\n",
      "age        6.00\n",
      "price    439.85\n",
      "dtype: float64 size      35.0\n",
      "rooms      1.0\n",
      "age        1.0\n",
      "price    179.0\n",
      "dtype: float64 size     230.0\n",
      "rooms      9.0\n",
      "age       20.0\n",
      "price    804.0\n",
      "dtype: float64 size      55.217275\n",
      "rooms      2.165641\n",
      "age        5.822371\n",
      "price    177.343530\n",
      "dtype: float64\n"
     ]
    }
   ],
   "source": [
    "print(mean_vals, min_vals, max_vals, std_vals)"
   ]
  },
  {
   "cell_type": "code",
   "execution_count": 47,
   "id": "2e0598d0",
   "metadata": {},
   "outputs": [],
   "source": [
    "alpha = 0.01\n",
    "epochs = 300"
   ]
  },
  {
   "cell_type": "code",
   "execution_count": 48,
   "id": "f9620f18",
   "metadata": {},
   "outputs": [],
   "source": [
    "X = df.iloc[:, :-1]\n",
    "y = df.iloc[:, -1]"
   ]
  },
  {
   "cell_type": "code",
   "execution_count": 49,
   "id": "c6e8432d",
   "metadata": {},
   "outputs": [
    {
     "name": "stdout",
     "output_type": "stream",
     "text": [
      "   size  rooms   age\n",
      "0  35.0    1.0  20.0\n",
      "1  42.0    2.0  15.0\n",
      "2  50.0    2.0  18.0\n",
      "3  60.0    3.0  10.0\n",
      "4  67.0    3.0   8.0\n",
      "0    179.0\n",
      "1    200.0\n",
      "2    221.0\n",
      "3    263.0\n",
      "4    280.0\n",
      "Name: price, dtype: float64\n"
     ]
    }
   ],
   "source": [
    "print(X.head())\n",
    "print(y.head())"
   ]
  },
  {
   "cell_type": "code",
   "execution_count": 50,
   "id": "1c15ea6a",
   "metadata": {},
   "outputs": [],
   "source": [
    "X_mean = mean_vals[:-1]\n",
    "X_std = std_vals[:-1]\n",
    "X_norm = (X - X_mean) / X_std"
   ]
  },
  {
   "cell_type": "code",
   "execution_count": 52,
   "id": "2e58b79d",
   "metadata": {},
   "outputs": [
    {
     "name": "stdout",
     "output_type": "stream",
     "text": [
      "       size     rooms       age\n",
      "0 -1.456972 -1.800853  2.404519\n",
      "1 -1.330200 -1.339096  1.545762\n",
      "2 -1.185317 -1.339096  2.061016\n",
      "3 -1.004215 -0.877338  0.687005\n",
      "4 -0.877443 -0.877338  0.343503\n"
     ]
    }
   ],
   "source": [
    "print(X_norm.head())"
   ]
  },
  {
   "cell_type": "code",
   "execution_count": 54,
   "id": "f54d90b1",
   "metadata": {},
   "outputs": [],
   "source": [
    "X_aug = np.c_[np.ones(X_norm.shape[0]), X_norm]\n"
   ]
  },
  {
   "cell_type": "code",
   "execution_count": 69,
   "id": "f522ad72",
   "metadata": {},
   "outputs": [],
   "source": [
    "def gradient_descent(X, y, theta, alpha=0.01, epochs=300):\n",
    "    theta = np.zeros(X.shape[1])\n",
    "    n = len(X)\n",
    "\n",
    "    for epoch in range(epochs):\n",
    "        y_cap = X.dot(theta)\n",
    "        grad = X.T.dot(y_cap - y) / n\n",
    "        theta -= alpha * grad\n",
    "    \n",
    "    return theta"
   ]
  },
  {
   "cell_type": "code",
   "execution_count": 70,
   "id": "14a61a83",
   "metadata": {},
   "outputs": [],
   "source": [
    "theta = 0\n",
    "theta = gradient_descent(X_aug, y, theta)"
   ]
  },
  {
   "cell_type": "code",
   "execution_count": 71,
   "id": "b038bb0a",
   "metadata": {},
   "outputs": [
    {
     "name": "stdout",
     "output_type": "stream",
     "text": [
      "[418.27936274  82.59776628  69.70922778 -25.24441416]\n"
     ]
    }
   ],
   "source": [
    "print(theta)"
   ]
  },
  {
   "cell_type": "code",
   "execution_count": 72,
   "id": "e1aae1e7",
   "metadata": {},
   "outputs": [],
   "source": [
    "def mse(X, y, theta):\n",
    "    n = len(X)\n",
    "    y_cap = X.dot(theta)\n",
    "    error = np.sum((y_cap - y) ** 2) / (2 * n)\n",
    "    return error"
   ]
  },
  {
   "cell_type": "code",
   "execution_count": 73,
   "id": "da2e90fc",
   "metadata": {},
   "outputs": [],
   "source": [
    "error = mse(X_aug, y, theta)"
   ]
  },
  {
   "cell_type": "code",
   "execution_count": 74,
   "id": "257e5ec4",
   "metadata": {},
   "outputs": [
    {
     "name": "stdout",
     "output_type": "stream",
     "text": [
      "507.4749084772522\n"
     ]
    }
   ],
   "source": [
    "print(error)"
   ]
  },
  {
   "cell_type": "code",
   "execution_count": 75,
   "id": "a0979eca",
   "metadata": {},
   "outputs": [],
   "source": [
    "theta_norm = np.linalg.inv(X_aug.T.dot(X_aug)).dot(X_aug.T).dot(y)"
   ]
  },
  {
   "cell_type": "code",
   "execution_count": 76,
   "id": "0d8e2bd3",
   "metadata": {},
   "outputs": [
    {
     "name": "stdout",
     "output_type": "stream",
     "text": [
      "[439.85       178.33638311  -5.88264569  -5.86457497] [418.27936274  82.59776628  69.70922778 -25.24441416]\n"
     ]
    }
   ],
   "source": [
    "print(theta_norm, theta)"
   ]
  },
  {
   "cell_type": "code",
   "execution_count": 77,
   "id": "09d09c29",
   "metadata": {},
   "outputs": [],
   "source": [
    "mse_norm = mse(X_aug, y, theta_norm)"
   ]
  },
  {
   "cell_type": "code",
   "execution_count": 78,
   "id": "e464e3ec",
   "metadata": {},
   "outputs": [
    {
     "name": "stdout",
     "output_type": "stream",
     "text": [
      "3.7089239283979465\n"
     ]
    }
   ],
   "source": [
    "print(mse_norm)"
   ]
  },
  {
   "cell_type": "code",
   "execution_count": 80,
   "id": "0edfecef",
   "metadata": {},
   "outputs": [
    {
     "name": "stdout",
     "output_type": "stream",
     "text": [
      "MSE Difference=503.76598\n"
     ]
    }
   ],
   "source": [
    "print(f\"MSE Difference={round(abs(error - mse_norm), 5)}\")"
   ]
  },
  {
   "cell_type": "code",
   "execution_count": 87,
   "id": "1bd8bdd0",
   "metadata": {},
   "outputs": [],
   "source": [
    "new = pd.DataFrame([[150, 3, 5], [200, 4, 2]], columns=['size', 'rooms', 'age'])\n",
    "new_norm = (new - X_mean) / (X_std)\n",
    "new_aug = np.c_[np.ones(new_norm.shape[0]), new_norm]"
   ]
  },
  {
   "cell_type": "code",
   "execution_count": 88,
   "id": "dc055e2f",
   "metadata": {},
   "outputs": [
    {
     "name": "stdout",
     "output_type": "stream",
     "text": [
      "413.14\n",
      "533.13\n"
     ]
    }
   ],
   "source": [
    "pred_gd = new_aug.dot(theta)\n",
    "\n",
    "for price in pred_gd:\n",
    "    print(round(price, 2))"
   ]
  },
  {
   "cell_type": "code",
   "execution_count": null,
   "id": "f17b0fd3",
   "metadata": {},
   "outputs": [],
   "source": []
  },
  {
   "cell_type": "markdown",
   "id": "6b5750e9",
   "metadata": {},
   "source": [
    "# Univariate Logisitic Regression"
   ]
  },
  {
   "cell_type": "code",
   "execution_count": 1,
   "id": "c72f80e1",
   "metadata": {},
   "outputs": [
    {
     "name": "stderr",
     "output_type": "stream",
     "text": [
      "C:\\Users\\manis\\AppData\\Local\\Temp\\ipykernel_21140\\1662815981.py:2: DeprecationWarning: \n",
      "Pyarrow will become a required dependency of pandas in the next major release of pandas (pandas 3.0),\n",
      "(to allow more performant data types, such as the Arrow string type, and better interoperability with other libraries)\n",
      "but was not found to be installed on your system.\n",
      "If this would cause problems for you,\n",
      "please provide us feedback at https://github.com/pandas-dev/pandas/issues/54466\n",
      "        \n",
      "  import pandas as pd\n"
     ]
    }
   ],
   "source": [
    "import numpy as np\n",
    "import pandas as pd"
   ]
  },
  {
   "cell_type": "code",
   "execution_count": 2,
   "id": "ccd6c995",
   "metadata": {},
   "outputs": [],
   "source": [
    "df = [\n",
    "    [35.0, 0.0],\n",
    "    [42.0, 0.0],\n",
    "    [50.0, 0.0],\n",
    "    [60.0, 0.0],\n",
    "    [67.0, 1.0],\n",
    "    [75.0, 1.0],\n",
    "    [80.0, 1.0],\n",
    "    [90.0, 1.0],\n",
    "    [95.0, 1.0],\n",
    "    [100.0, 1.0],\n",
    "    [110.0, 1.0],\n",
    "    [120.0, 1.0],\n",
    "    [130.0, 1.0],\n",
    "    [140.0, 1.0],\n",
    "    [150.0, 1.0],\n",
    "    [160.0, 1.0],\n",
    "    [175.0, 1.0],\n",
    "    [190.0, 1.0],\n",
    "    [210.0, 1.0],\n",
    "    [230.0, 1.0]\n",
    "]\n"
   ]
  },
  {
   "cell_type": "code",
   "execution_count": 3,
   "id": "5b1adbca",
   "metadata": {},
   "outputs": [],
   "source": [
    "df = pd.DataFrame(df, columns=['exam_score', 'admitted'])"
   ]
  },
  {
   "cell_type": "code",
   "execution_count": 4,
   "id": "94b9bf4a",
   "metadata": {},
   "outputs": [
    {
     "name": "stdout",
     "output_type": "stream",
     "text": [
      "   exam_score  admitted\n",
      "0        35.0       0.0\n",
      "1        42.0       0.0\n",
      "2        50.0       0.0\n",
      "3        60.0       0.0\n",
      "4        67.0       1.0\n"
     ]
    }
   ],
   "source": [
    "print(df.head())"
   ]
  },
  {
   "cell_type": "code",
   "execution_count": 5,
   "id": "e0beccb2",
   "metadata": {},
   "outputs": [
    {
     "name": "stdout",
     "output_type": "stream",
     "text": [
      "(20, 2)\n"
     ]
    }
   ],
   "source": [
    "print(df.shape)"
   ]
  },
  {
   "cell_type": "code",
   "execution_count": 6,
   "id": "9785304f",
   "metadata": {},
   "outputs": [],
   "source": [
    "X = df['exam_score']\n",
    "y = df['admitted']"
   ]
  },
  {
   "cell_type": "code",
   "execution_count": 7,
   "id": "acb50718",
   "metadata": {},
   "outputs": [
    {
     "name": "stdout",
     "output_type": "stream",
     "text": [
      "0    35.0\n",
      "1    42.0\n",
      "2    50.0\n",
      "3    60.0\n",
      "4    67.0\n",
      "Name: exam_score, dtype: float64\n",
      "0    0.0\n",
      "1    0.0\n",
      "2    0.0\n",
      "3    0.0\n",
      "4    1.0\n",
      "Name: admitted, dtype: float64\n"
     ]
    }
   ],
   "source": [
    "print(X.head())\n",
    "print(y.head())"
   ]
  },
  {
   "cell_type": "code",
   "execution_count": 8,
   "id": "4362e639",
   "metadata": {},
   "outputs": [],
   "source": [
    "X_mean = X.mean()\n",
    "X_min = X.min()\n",
    "X_max = X.max()\n",
    "X_std = X.std(ddof=0)"
   ]
  },
  {
   "cell_type": "code",
   "execution_count": 9,
   "id": "bce9bfcd",
   "metadata": {},
   "outputs": [
    {
     "name": "stdout",
     "output_type": "stream",
     "text": [
      "115.45 35.0 230.0 55.21727537646167\n"
     ]
    }
   ],
   "source": [
    "print(X_mean, X_min, X_max, X_std)"
   ]
  },
  {
   "cell_type": "code",
   "execution_count": 10,
   "id": "e0373c04",
   "metadata": {},
   "outputs": [],
   "source": [
    "def sigmoid(z):\n",
    "    return 1 / (1 + np.exp(-z))"
   ]
  },
  {
   "cell_type": "code",
   "execution_count": 11,
   "id": "40f13178",
   "metadata": {},
   "outputs": [],
   "source": [
    "def loss_fn(X, y, theta0, theta1):\n",
    "    ep = 1e-8\n",
    "    n = len(X)\n",
    "    z = theta0 + (theta1 * X)\n",
    "    y_cap = sigmoid(z)\n",
    "\n",
    "    grad = np.sum((y * np.log(y_cap + ep)) + ((1 - y) * np.log(1 - y_cap + ep)))\n",
    "    return (-1 / n) * grad"
   ]
  },
  {
   "cell_type": "code",
   "execution_count": 12,
   "id": "749da7ec",
   "metadata": {},
   "outputs": [],
   "source": [
    "def gradient_descent(X, y, alpha=0.01, epochs=1000):\n",
    "    theta0, theta1 = 0, 0\n",
    "    n = len(X)\n",
    "    for epoch in range(epochs):\n",
    "        z = theta0 + (theta1 * X)\n",
    "        y_cap = sigmoid(z)\n",
    "\n",
    "        grad0 = np.sum(y_cap - y) / n\n",
    "        grad1 = np.sum((y_cap - y) * X) / n\n",
    "\n",
    "        theta0 -= alpha * grad0\n",
    "        theta1 -= alpha * grad1\n",
    "\n",
    "    return theta0, theta1"
   ]
  },
  {
   "cell_type": "code",
   "execution_count": 13,
   "id": "58ea4867",
   "metadata": {},
   "outputs": [],
   "source": [
    "theta0, theta1 = gradient_descent(X, y)"
   ]
  },
  {
   "cell_type": "code",
   "execution_count": 14,
   "id": "6b3d8559",
   "metadata": {},
   "outputs": [
    {
     "name": "stdout",
     "output_type": "stream",
     "text": [
      "-1.176757571288268 0.19101263702684323\n"
     ]
    }
   ],
   "source": [
    "print(theta0, theta1)"
   ]
  },
  {
   "cell_type": "code",
   "execution_count": 15,
   "id": "1a7a73f6",
   "metadata": {},
   "outputs": [],
   "source": [
    "final_loss = loss_fn(X, y, theta0, theta1)"
   ]
  },
  {
   "cell_type": "code",
   "execution_count": 16,
   "id": "08326ea9",
   "metadata": {},
   "outputs": [
    {
     "name": "stdout",
     "output_type": "stream",
     "text": [
      "1.5508684160835362\n"
     ]
    }
   ],
   "source": [
    "print(final_loss)"
   ]
  },
  {
   "cell_type": "code",
   "execution_count": 17,
   "id": "6413e668",
   "metadata": {},
   "outputs": [],
   "source": [
    "def predict(val):\n",
    "    z = theta0 + (theta1 * val)\n",
    "    y_cap = sigmoid(z)\n",
    "    return y_cap"
   ]
  },
  {
   "cell_type": "code",
   "execution_count": 18,
   "id": "5cf638f7",
   "metadata": {},
   "outputs": [
    {
     "name": "stdout",
     "output_type": "stream",
     "text": [
      "0.9999868498446497\n",
      "0.9999999999995504\n"
     ]
    }
   ],
   "source": [
    "print(predict(65))\n",
    "print(predict(155))"
   ]
  },
  {
   "cell_type": "markdown",
   "id": "c4eb7c84",
   "metadata": {},
   "source": [
    "# Multivariate Logistic Regression"
   ]
  },
  {
   "cell_type": "code",
   "execution_count": 19,
   "id": "a09dd89b",
   "metadata": {},
   "outputs": [],
   "source": [
    "df = [\n",
    "    [35, 40, 5, 0],\n",
    "    [42, 50, 6, 0],\n",
    "    [50, 52, 7, 0],\n",
    "    [60, 65, 8, 0],\n",
    "    [67, 70, 9, 1],\n",
    "    [75, 78, 10, 1],\n",
    "    [80, 85, 12, 1],\n",
    "    [90, 88, 14, 1],\n",
    "    [95, 90, 15, 1],\n",
    "    [100, 92, 16, 1],\n",
    "    [110, 100, 17, 1],\n",
    "    [120, 105, 18, 1],\n",
    "    [130, 110, 19, 1],\n",
    "    [140, 115, 20, 1],\n",
    "    [150, 118, 22, 1],\n",
    "    [160, 120, 24, 1],\n",
    "    [175, 125, 25, 1],\n",
    "    [190, 128, 26, 1],\n",
    "    [210, 130, 28, 1],\n",
    "    [230, 135, 30, 1]\n",
    "]\n",
    "\n",
    "df = pd.DataFrame(df, columns=['exam1', 'exam2', 'hours_study', 'admitted'])\n"
   ]
  },
  {
   "cell_type": "code",
   "execution_count": 20,
   "id": "431e355a",
   "metadata": {},
   "outputs": [
    {
     "name": "stdout",
     "output_type": "stream",
     "text": [
      "   exam1  exam2  hours_study  admitted\n",
      "0     35     40            5         0\n",
      "1     42     50            6         0\n",
      "2     50     52            7         0\n",
      "3     60     65            8         0\n",
      "4     67     70            9         1\n"
     ]
    }
   ],
   "source": [
    "print(df.head())"
   ]
  },
  {
   "cell_type": "code",
   "execution_count": 21,
   "id": "3928d2ea",
   "metadata": {},
   "outputs": [
    {
     "name": "stdout",
     "output_type": "stream",
     "text": [
      "(20, 4)\n"
     ]
    }
   ],
   "source": [
    "print(df.shape)"
   ]
  },
  {
   "cell_type": "code",
   "execution_count": 22,
   "id": "42e88222",
   "metadata": {},
   "outputs": [],
   "source": [
    "X = df.iloc[:, :-1]\n",
    "y = df.iloc[:, -1]"
   ]
  },
  {
   "cell_type": "code",
   "execution_count": 23,
   "id": "cac8d622",
   "metadata": {},
   "outputs": [
    {
     "name": "stdout",
     "output_type": "stream",
     "text": [
      "   exam1  exam2  hours_study\n",
      "0     35     40            5\n",
      "1     42     50            6\n",
      "2     50     52            7\n",
      "3     60     65            8\n",
      "4     67     70            9\n",
      "0    0\n",
      "1    0\n",
      "2    0\n",
      "3    0\n",
      "4    1\n",
      "Name: admitted, dtype: int64\n"
     ]
    }
   ],
   "source": [
    "print(X.head())\n",
    "print(y.head())"
   ]
  },
  {
   "cell_type": "code",
   "execution_count": 27,
   "id": "de40c757",
   "metadata": {},
   "outputs": [],
   "source": [
    "X_mean = X.mean()\n",
    "X_min = X.min()\n",
    "X_max = X.max()\n",
    "X_std = X.std(ddof=1)"
   ]
  },
  {
   "cell_type": "code",
   "execution_count": 28,
   "id": "f6285423",
   "metadata": {},
   "outputs": [
    {
     "name": "stdout",
     "output_type": "stream",
     "text": [
      "exam1          115.45\n",
      "exam2           94.80\n",
      "hours_study     16.55\n",
      "dtype: float64 exam1          35\n",
      "exam2          40\n",
      "hours_study     5\n",
      "dtype: int64 exam1          230\n",
      "exam2          135\n",
      "hours_study     30\n",
      "dtype: int64 exam1          56.651729\n",
      "exam2          28.666136\n",
      "hours_study     7.667258\n",
      "dtype: float64\n"
     ]
    }
   ],
   "source": [
    "print(X_mean, X_min, X_max, X_std)"
   ]
  },
  {
   "cell_type": "code",
   "execution_count": 29,
   "id": "17d2ba3b",
   "metadata": {},
   "outputs": [],
   "source": [
    "X_std = X.std(ddof=0)"
   ]
  },
  {
   "cell_type": "code",
   "execution_count": 30,
   "id": "7b9ea379",
   "metadata": {},
   "outputs": [],
   "source": [
    "def sigmoid(z):\n",
    "    return 1 / (1 + np.exp(-z))"
   ]
  },
  {
   "cell_type": "code",
   "execution_count": 31,
   "id": "425474cd",
   "metadata": {},
   "outputs": [],
   "source": [
    "def loss_fn(X, y, theta):\n",
    "    z = X.dot(theta)\n",
    "    y_cap = sigmoid(z)\n",
    "    ep = 1e-8\n",
    "    n = len(X)\n",
    "\n",
    "    return -np.sum((y * np.log(y_cap + ep)) + ((1 - y) * np.log(1 - y_cap + ep))) / n"
   ]
  },
  {
   "cell_type": "code",
   "execution_count": 32,
   "id": "4a924c00",
   "metadata": {},
   "outputs": [],
   "source": [
    "def gradient_descent(X, y, alpha=0.01, epochs=1500):\n",
    "    theta = np.zeros(X.shape[1])\n",
    "    n = len(X)\n",
    "    \n",
    "\n",
    "    for epoch in range(epochs):\n",
    "        z = X.dot(theta)\n",
    "        y_cap = sigmoid(z)\n",
    "\n",
    "        grad = X.T.dot(y_cap - y) / n\n",
    "        theta -= alpha * grad\n",
    "\n",
    "    return theta"
   ]
  },
  {
   "cell_type": "code",
   "execution_count": 33,
   "id": "9fb9021e",
   "metadata": {},
   "outputs": [],
   "source": [
    "X_norm = (X - X_mean) / X_std"
   ]
  },
  {
   "cell_type": "code",
   "execution_count": 34,
   "id": "7ec46eb2",
   "metadata": {},
   "outputs": [],
   "source": [
    "X_aug = np.c_[np.ones(X_norm.shape[0]), X_norm]"
   ]
  },
  {
   "cell_type": "code",
   "execution_count": 35,
   "id": "30bcd3f0",
   "metadata": {},
   "outputs": [
    {
     "name": "stdout",
     "output_type": "stream",
     "text": [
      "[[ 1.         -1.45697156 -1.96132514 -1.54553952]\n",
      " [ 1.         -1.33019964 -1.60341909 -1.41172658]\n",
      " [ 1.         -1.18531745 -1.53183788 -1.27791363]\n",
      " [ 1.         -1.00421471 -1.06656002 -1.14410069]\n",
      " [ 1.         -0.87744279 -0.887607   -1.01028774]\n",
      " [ 1.         -0.73256059 -0.60128216 -0.8764748 ]\n",
      " [ 1.         -0.64200922 -0.35074793 -0.6088489 ]\n",
      " [ 1.         -0.46090648 -0.24337611 -0.34122301]\n",
      " [ 1.         -0.37035511 -0.1717949  -0.20741007]\n",
      " [ 1.         -0.27980374 -0.10021369 -0.07359712]\n",
      " [ 1.         -0.09870099  0.18611114  0.06021583]\n",
      " [ 1.          0.08240175  0.36506417  0.19402877]\n",
      " [ 1.          0.26350449  0.54401719  0.32784172]\n",
      " [ 1.          0.44460723  0.72297022  0.46165466]\n",
      " [ 1.          0.62570998  0.83034203  0.72928055]\n",
      " [ 1.          0.80681272  0.90192324  0.99690645]\n",
      " [ 1.          1.07846683  1.08087626  1.13071939]\n",
      " [ 1.          1.35012094  1.18824808  1.26453234]\n",
      " [ 1.          1.71232643  1.25982929  1.53215823]\n",
      " [ 1.          2.07453191  1.43878231  1.79978412]]\n"
     ]
    }
   ],
   "source": [
    "print(X_aug)"
   ]
  },
  {
   "cell_type": "code",
   "execution_count": 36,
   "id": "9537dae4",
   "metadata": {},
   "outputs": [],
   "source": [
    "theta = gradient_descent(X_aug, y)"
   ]
  },
  {
   "cell_type": "code",
   "execution_count": 37,
   "id": "9c8a4e69",
   "metadata": {},
   "outputs": [
    {
     "name": "stdout",
     "output_type": "stream",
     "text": [
      "[1.85554877 0.44588511 1.06200287 0.60765865]\n"
     ]
    }
   ],
   "source": [
    "print(theta)"
   ]
  },
  {
   "cell_type": "code",
   "execution_count": 38,
   "id": "7b3087b7",
   "metadata": {},
   "outputs": [],
   "source": [
    "final_loss = loss_fn(X_aug, y, theta)"
   ]
  },
  {
   "cell_type": "code",
   "execution_count": 39,
   "id": "ea671c22",
   "metadata": {},
   "outputs": [
    {
     "name": "stdout",
     "output_type": "stream",
     "text": [
      "0.19543268196377778\n"
     ]
    }
   ],
   "source": [
    "print(final_loss)"
   ]
  },
  {
   "cell_type": "code",
   "execution_count": 40,
   "id": "c12d9a68",
   "metadata": {},
   "outputs": [],
   "source": [
    "def predict(X):\n",
    "    X_std = (X - mean_vals) / std_vals\n",
    "    X_aug = np.c_[np.ones(X_std.shape[0]), X_std]\n",
    "    p = sigmoid(X_aug.dot(theta))\n",
    "    return p"
   ]
  },
  {
   "cell_type": "code",
   "execution_count": 42,
   "id": "d2a134c5",
   "metadata": {},
   "outputs": [],
   "source": [
    "new = pd.DataFrame([[72, 80, 11], [150, 118, 20]], columns=['exam1', 'exam2', 'hours_study'])\n",
    "new_norm = (new - X_mean) / (X_std)\n",
    "new_aug = np.c_[np.ones(new_norm.shape[0]), new_norm]"
   ]
  },
  {
   "cell_type": "code",
   "execution_count": 43,
   "id": "4d9bed12",
   "metadata": {},
   "outputs": [
    {
     "name": "stdout",
     "output_type": "stream",
     "text": [
      "0.62\n",
      "0.96\n"
     ]
    }
   ],
   "source": [
    "\n",
    "pred = new_aug.dot(theta)\n",
    "pred = sigmoid(pred)\n",
    "\n",
    "for price in pred:\n",
    "    print(round(price, 2))"
   ]
  },
  {
   "cell_type": "code",
   "execution_count": null,
   "id": "b8584e4b",
   "metadata": {},
   "outputs": [],
   "source": []
  },
  {
   "cell_type": "markdown",
   "id": "b6d9aec4",
   "metadata": {},
   "source": [
    "# KNN with euclidean distance"
   ]
  },
  {
   "cell_type": "code",
   "execution_count": 14,
   "id": "15f71285",
   "metadata": {},
   "outputs": [],
   "source": [
    "import pandas as pd\n",
    "import numpy as np\n",
    "import math\n",
    "from collections import Counter"
   ]
  },
  {
   "cell_type": "code",
   "execution_count": 2,
   "id": "06a758ca",
   "metadata": {},
   "outputs": [],
   "source": [
    "df = [\n",
    "    [5.1, 3.5, 1.4, 0.2, \"setosa\"],\n",
    "    [4.9, 3.0, 1.4, 0.2, \"setosa\"],\n",
    "    [4.7, 3.2, 1.3, 0.2, \"setosa\"],\n",
    "    [4.6, 3.1, 1.5, 0.2, \"setosa\"],\n",
    "    [5.0, 3.6, 1.4, 0.2, \"setosa\"],\n",
    "    [5.4, 3.9, 1.7, 0.4, \"setosa\"],\n",
    "    [5.8, 4.0, 1.2, 0.2, \"setosa\"],\n",
    "    [6.0, 2.2, 4.0, 1.5, \"versicolor\"],\n",
    "    [6.1, 2.8, 4.7, 1.4, \"versicolor\"],\n",
    "    [5.9, 3.0, 4.2, 1.5, \"versicolor\"],\n",
    "    [6.7, 3.1, 4.4, 1.4, \"versicolor\"],\n",
    "    [6.3, 2.5, 4.9, 1.5, \"versicolor\"],\n",
    "    [6.5, 3.0, 5.1, 2.0, \"virginica\"],\n",
    "    [6.2, 2.8, 4.5, 1.5, \"versicolor\"],\n",
    "    [6.4, 2.9, 4.3, 1.3, \"versicolor\"],\n",
    "    [5.5, 2.4, 4.0, 1.3, \"versicolor\"],\n",
    "    [5.7, 2.8, 4.1, 1.3, \"versicolor\"],\n",
    "    [5.8, 2.7, 5.1, 1.9, \"virginica\"],\n",
    "    [6.9, 3.1, 5.4, 2.3, \"virginica\"],\n",
    "    [6.0, 2.2, 5.0, 1.5, \"virginica\"],\n",
    "    [6.3, 2.3, 5.6, 2.4, \"virginica\"],\n",
    "    [6.1, 2.8, 5.6, 2.4, \"virginica\"],\n",
    "    [5.6, 2.9, 3.6, 1.3, \"versicolor\"],\n",
    "    [5.8, 2.7, 4.1, 1.0, \"versicolor\"],\n",
    "    [6.0, 2.9, 4.5, 1.5, \"versicolor\"],\n",
    "    [6.1, 2.6, 4.7, 1.4, \"versicolor\"],\n",
    "    [6.5, 3.0, 5.2, 2.0, \"virginica\"],\n",
    "    [6.2, 2.9, 5.4, 2.3, \"virginica\"],\n",
    "    [5.9, 3.0, 5.1, 1.8, \"virginica\"],\n",
    "    [6.3, 2.7, 5.6, 2.1, \"virginica\"]\n",
    "]\n"
   ]
  },
  {
   "cell_type": "code",
   "execution_count": 3,
   "id": "15b9bbb2",
   "metadata": {},
   "outputs": [],
   "source": [
    "df = pd.DataFrame(df, columns=['SepalLength', 'SepalWidth', 'PetalLength', 'PetalWdith', 'Class'])"
   ]
  },
  {
   "cell_type": "code",
   "execution_count": 4,
   "id": "cc1a1b74",
   "metadata": {},
   "outputs": [
    {
     "name": "stdout",
     "output_type": "stream",
     "text": [
      "   SepalLength  SepalWidth  PetalLength  PetalWdith   Class\n",
      "0          5.1         3.5          1.4         0.2  setosa\n",
      "1          4.9         3.0          1.4         0.2  setosa\n",
      "2          4.7         3.2          1.3         0.2  setosa\n",
      "3          4.6         3.1          1.5         0.2  setosa\n",
      "4          5.0         3.6          1.4         0.2  setosa\n"
     ]
    }
   ],
   "source": [
    "print(df.head())"
   ]
  },
  {
   "cell_type": "code",
   "execution_count": 5,
   "id": "ffa65eae",
   "metadata": {},
   "outputs": [
    {
     "name": "stdout",
     "output_type": "stream",
     "text": [
      "(30, 5)\n"
     ]
    }
   ],
   "source": [
    "print(df.shape)"
   ]
  },
  {
   "cell_type": "code",
   "execution_count": 7,
   "id": "7f55a95e",
   "metadata": {},
   "outputs": [],
   "source": [
    "def distance(p1, p2):\n",
    "    return math.sqrt(sum((a - b) ** 2 for a, b in zip(p1, p2)))"
   ]
  },
  {
   "cell_type": "code",
   "execution_count": null,
   "id": "760afdcb",
   "metadata": {},
   "outputs": [],
   "source": [
    "def k_fold_split(df, k):\n",
    "    df = df.sample(frac=1, random_state=42).reset_index(drop=True)\n",
    "    return np.array_split(df, k)"
   ]
  },
  {
   "cell_type": "code",
   "execution_count": 15,
   "id": "14726006",
   "metadata": {},
   "outputs": [],
   "source": [
    "def knn(train_X, train_y, test_x, k):\n",
    "    distances = []\n",
    "    for i in range(len(train_X)):\n",
    "        dist = distance(train_X.iloc[i], test_x)\n",
    "        distances.append((dist, train_y.iloc[i]))\n",
    "    distances.sort(key=lambda x: x[0])\n",
    "    top_k = [label for _, label in distances[:k]]\n",
    "    return Counter(top_k).most_common(1)[0][0]\n"
   ]
  },
  {
   "cell_type": "code",
   "execution_count": 16,
   "id": "e8ceb59c",
   "metadata": {},
   "outputs": [],
   "source": [
    "def cross_validate(df, k_values, folds=5):\n",
    "    results = {}\n",
    "    split_data = k_fold_split(df, folds)\n",
    "    for k in k_values:\n",
    "        acc_list = []\n",
    "        for i in range(folds):\n",
    "            test_df = split_data[i]\n",
    "            train_df = pd.concat([split_data[j] for j in range(folds) if j != i])\n",
    "            train_X, train_y = train_df.iloc[:, :-1], train_df.iloc[:, -1]\n",
    "            test_X, test_y = test_df.iloc[:, :-1], test_df.iloc[:, -1]\n",
    "            correct = 0\n",
    "            for idx in range(len(test_df)):\n",
    "                pred = knn(train_X, train_y, test_X.iloc[idx], k)\n",
    "                if pred == test_y.iloc[idx]:\n",
    "                    correct += 1\n",
    "            acc_list.append(correct / len(test_df))\n",
    "        results[k] = round(np.mean(acc_list), 4)\n",
    "    \n",
    "    return results\n",
    "                "
   ]
  },
  {
   "cell_type": "code",
   "execution_count": 17,
   "id": "5a4855d5",
   "metadata": {},
   "outputs": [],
   "source": [
    "def final_test(df, best_k, test_ratio=0.2):\n",
    "    df = df.sample(frac=1, random_state=42).reset_index(drop=True)\n",
    "    split_idx = int(len(df) * (1 - test_ratio))\n",
    "    train_df, test_df = df[:split_idx], df[split_idx:]\n",
    "    train_X, train_y = train_df.iloc[:, :-1], train_df.iloc[:, -1]\n",
    "    test_X, test_y = test_df.iloc[:, :-1], test_df.iloc[:, -1]\n",
    "    correct = 0\n",
    "    for idx in range(len(test_df)):\n",
    "        pred = knn(train_X, train_y, test_X.iloc[idx], best_k)\n",
    "        if pred == test_y.iloc[idx]:\n",
    "            correct += 1\n",
    "        \n",
    "    accuracy = round(correct / len(test_df), 2)\n",
    "    print(f\"k={best_k} Accuracy:{accuracy:.2f}\")"
   ]
  },
  {
   "cell_type": "code",
   "execution_count": 19,
   "id": "a88bf309",
   "metadata": {},
   "outputs": [
    {
     "name": "stderr",
     "output_type": "stream",
     "text": [
      "C:\\Users\\manis\\AppData\\Roaming\\Python\\Python312\\site-packages\\numpy\\core\\fromnumeric.py:59: FutureWarning: 'DataFrame.swapaxes' is deprecated and will be removed in a future version. Please use 'DataFrame.transpose' instead.\n",
      "  return bound(*args, **kwds)\n"
     ]
    }
   ],
   "source": [
    "k_vals = [1, 3, 5, 7, 9]\n",
    "cv_results = cross_validate(df, k_vals)\n",
    "best_k = max(cv_results, key=cv_results.get)"
   ]
  },
  {
   "cell_type": "code",
   "execution_count": 21,
   "id": "4a6cea4d",
   "metadata": {},
   "outputs": [
    {
     "name": "stdout",
     "output_type": "stream",
     "text": [
      "{1: 0.9667, 3: 0.9667, 5: 0.9667, 7: 0.9333, 9: 0.8333}\n",
      "1\n"
     ]
    }
   ],
   "source": [
    "print(cv_results)\n",
    "print(best_k)"
   ]
  },
  {
   "cell_type": "code",
   "execution_count": 27,
   "id": "ebff97fd",
   "metadata": {},
   "outputs": [
    {
     "name": "stdout",
     "output_type": "stream",
     "text": [
      "k=1 Accuracy:0.83\n"
     ]
    }
   ],
   "source": [
    "final_test(df, best_k)"
   ]
  },
  {
   "cell_type": "markdown",
   "id": "a2939ac4",
   "metadata": {},
   "source": [
    "# KNN with manhatten and normalization"
   ]
  },
  {
   "cell_type": "code",
   "execution_count": 28,
   "id": "501c16c0",
   "metadata": {},
   "outputs": [],
   "source": [
    "df = [\n",
    "    [5.2, 3.4, 1.5, 0.2, \"setosa\"],\n",
    "    [4.8, 3.1, 1.6, 0.3, \"setosa\"],\n",
    "    [5.0, 3.2, 1.2, 0.2, \"setosa\"],\n",
    "    [5.3, 3.7, 1.4, 0.3, \"setosa\"],\n",
    "    [4.9, 3.0, 1.5, 0.1, \"setosa\"],\n",
    "    [5.1, 3.5, 1.3, 0.3, \"setosa\"],\n",
    "    [5.4, 3.4, 1.7, 0.2, \"setosa\"],\n",
    "    [5.0, 3.3, 1.4, 0.2, \"setosa\"],\n",
    "    [6.0, 2.7, 4.2, 1.3, \"versicolor\"],\n",
    "    [6.2, 2.9, 4.3, 1.3, \"versicolor\"],\n",
    "    [5.7, 2.6, 3.5, 1.0, \"versicolor\"],\n",
    "    [5.8, 2.7, 4.1, 1.2, \"versicolor\"],\n",
    "    [6.1, 3.0, 4.6, 1.4, \"versicolor\"],\n",
    "    [5.6, 2.8, 4.0, 1.3, \"versicolor\"],\n",
    "    [6.3, 2.5, 4.9, 1.5, \"versicolor\"],\n",
    "    [6.0, 3.4, 4.5, 1.6, \"versicolor\"],\n",
    "    [5.9, 3.0, 4.2, 1.5, \"versicolor\"],\n",
    "    [6.4, 2.8, 5.0, 1.7, \"versicolor\"],\n",
    "    [5.5, 2.5, 4.0, 1.2, \"versicolor\"],\n",
    "    [6.2, 2.2, 4.8, 1.8, \"versicolor\"],\n",
    "    [6.5, 3.0, 5.2, 2.0, \"virginica\"],\n",
    "    [6.9, 3.1, 5.4, 2.1, \"virginica\"],\n",
    "    [6.7, 3.0, 5.8, 2.2, \"virginica\"],\n",
    "    [7.1, 3.0, 5.9, 2.1, \"virginica\"],\n",
    "    [6.3, 2.9, 5.6, 1.8, \"virginica\"],\n",
    "    [6.6, 2.8, 5.3, 2.0, \"virginica\"],\n",
    "    [7.0, 3.2, 5.7, 2.3, \"virginica\"],\n",
    "    [6.5, 3.2, 5.1, 2.0, \"virginica\"],\n",
    "    [6.8, 3.0, 5.5, 2.1, \"virginica\"],\n",
    "    [6.4, 2.9, 5.6, 2.2, \"virginica\"],\n",
    "    [6.2, 3.4, 5.4, 2.3, \"virginica\"],\n",
    "    [6.9, 3.1, 5.1, 2.3, \"virginica\"],\n",
    "    [7.2, 3.2, 6.0, 2.2, \"virginica\"],\n",
    "    [6.3, 2.8, 5.7, 1.9, \"virginica\"],\n",
    "    [6.1, 3.0, 5.5, 1.8, \"virginica\"],\n",
    "    [6.7, 3.3, 5.7, 2.1, \"virginica\"],\n",
    "    [6.4, 3.1, 5.5, 1.8, \"virginica\"],\n",
    "    [6.8, 3.2, 5.9, 2.3, \"virginica\"],\n",
    "    [7.3, 2.9, 6.1, 2.5, \"virginica\"],\n",
    "    [6.5, 3.0, 5.8, 2.2, \"virginica\"]\n",
    "]\n"
   ]
  },
  {
   "cell_type": "code",
   "execution_count": 29,
   "id": "1566cf5b",
   "metadata": {},
   "outputs": [],
   "source": [
    "df = pd.DataFrame(df, columns=['SepalLength', 'SepalWidth', 'PetalLength', 'PetalWidth', 'Class'])"
   ]
  },
  {
   "cell_type": "code",
   "execution_count": 30,
   "id": "8398e7c8",
   "metadata": {},
   "outputs": [
    {
     "name": "stdout",
     "output_type": "stream",
     "text": [
      "   SepalLength  SepalWidth  PetalLength  PetalWidth   Class\n",
      "0          5.2         3.4          1.5         0.2  setosa\n",
      "1          4.8         3.1          1.6         0.3  setosa\n",
      "2          5.0         3.2          1.2         0.2  setosa\n",
      "3          5.3         3.7          1.4         0.3  setosa\n",
      "4          4.9         3.0          1.5         0.1  setosa\n"
     ]
    }
   ],
   "source": [
    "print(df.head())"
   ]
  },
  {
   "cell_type": "code",
   "execution_count": 31,
   "id": "d6b87c0d",
   "metadata": {},
   "outputs": [
    {
     "name": "stdout",
     "output_type": "stream",
     "text": [
      "(40, 5)\n"
     ]
    }
   ],
   "source": [
    "print(df.shape)"
   ]
  },
  {
   "cell_type": "code",
   "execution_count": 32,
   "id": "bdb28a37",
   "metadata": {},
   "outputs": [],
   "source": [
    "def manhatten(p1, p2):\n",
    "    return np.sum(np.abs(p1 - p2))"
   ]
  },
  {
   "cell_type": "code",
   "execution_count": 33,
   "id": "df64fb41",
   "metadata": {},
   "outputs": [],
   "source": [
    "def knn(train_X, train_y, test_x, k):\n",
    "    distances = []\n",
    "    for i in range(len(train_X)):\n",
    "        dist = manhatten(train_X.iloc[i], test_x)\n",
    "        distances.append((dist, train_y.iloc[i]))\n",
    "    distances.sort(key=lambda x: x[0])\n",
    "    best_k = [label for _, label in distances[:k]]\n",
    "    return Counter(best_k).most_common(1)[0][0]"
   ]
  },
  {
   "cell_type": "code",
   "execution_count": 34,
   "id": "12a3959c",
   "metadata": {},
   "outputs": [],
   "source": [
    "def normalize(df):\n",
    "    df_norm = df.copy()\n",
    "    for col in df.columns[:-1]:\n",
    "        df_norm[col] = (df[col] - df[col].min()) / (df[col].max() - df[col].min())\n",
    "    return df_norm"
   ]
  },
  {
   "cell_type": "code",
   "execution_count": 35,
   "id": "8e4842c7",
   "metadata": {},
   "outputs": [],
   "source": [
    "def k_fold(df, k=5):\n",
    "    df = df.sample(frac=1, random_state=42).reset_index(drop=True)\n",
    "    return np.array_split(df, k)"
   ]
  },
  {
   "cell_type": "code",
   "execution_count": 41,
   "id": "6c77e0ff",
   "metadata": {},
   "outputs": [],
   "source": [
    "def cross_validate(df, k_values, folds=5):\n",
    "    results = {}\n",
    "    split_data = k_fold(df, folds)\n",
    "    for k in k_values:\n",
    "        acc_list = []\n",
    "        for i in range(folds):\n",
    "            test_df = split_data[i]\n",
    "            train_df = pd.concat([split_data[j] for j in range(folds) if j != i])\n",
    "            train_X, train_y = train_df.iloc[:, :-1], train_df.iloc[:, -1]\n",
    "            test_X, test_y = test_df.iloc[:, :-1], test_df.iloc[:, -1]\n",
    "            correct = 0\n",
    "            for idx in range(len(test_df)):\n",
    "                pred = knn(train_X, train_y, test_X.iloc[idx], k)\n",
    "                if pred == test_y.iloc[idx]:\n",
    "                    correct += 1\n",
    "\n",
    "            acc_list.append(correct / len(test_df))\n",
    "        results[k] = round(np.mean(acc_list), 4)\n",
    "\n",
    "    return results"
   ]
  },
  {
   "cell_type": "code",
   "execution_count": 54,
   "id": "43baa4e8",
   "metadata": {},
   "outputs": [],
   "source": [
    "def final_test(df, best_k, test_ratio=0.2):\n",
    "    df = df.sample(frac=1, random_state=42).reset_index(drop=True)\n",
    "    split_idx = int(len(df) * (1 - test_ratio))\n",
    "    train_df, test_df = df[:split_idx], df[split_idx:]\n",
    "    train_X, train_y = train_df.iloc[:, :-1], train_df.iloc[:, -1]\n",
    "    test_X, test_y = test_df.iloc[:, :-1], test_df.iloc[:, -1]\n",
    "    correct = 0\n",
    "    for idx in range(len(test_df)):\n",
    "        pred = knn(train_X, train_y, test_X.iloc[idx], best_k)\n",
    "        if pred == test_y.iloc[idx]:\n",
    "            correct += 1\n",
    "    accuracy = round(correct / len(test_df), 2)\n",
    "    print(f\"k: {best_k} Accuracy: {accuracy:.2f}\")"
   ]
  },
  {
   "cell_type": "code",
   "execution_count": 55,
   "id": "634d1910",
   "metadata": {},
   "outputs": [],
   "source": [
    "df = normalize(df)"
   ]
  },
  {
   "cell_type": "code",
   "execution_count": 56,
   "id": "ed6465c1",
   "metadata": {},
   "outputs": [
    {
     "name": "stdout",
     "output_type": "stream",
     "text": [
      "   SepalLength  SepalWidth  PetalLength  PetalWidth   Class\n",
      "0         0.16    0.800000     0.061224    0.041667  setosa\n",
      "1         0.00    0.600000     0.081633    0.083333  setosa\n",
      "2         0.08    0.666667     0.000000    0.041667  setosa\n",
      "3         0.20    1.000000     0.040816    0.083333  setosa\n",
      "4         0.04    0.533333     0.061224    0.000000  setosa\n"
     ]
    }
   ],
   "source": [
    "print(df.head())"
   ]
  },
  {
   "cell_type": "code",
   "execution_count": 57,
   "id": "1896877b",
   "metadata": {},
   "outputs": [
    {
     "name": "stderr",
     "output_type": "stream",
     "text": [
      "C:\\Users\\manis\\AppData\\Roaming\\Python\\Python312\\site-packages\\numpy\\core\\fromnumeric.py:59: FutureWarning: 'DataFrame.swapaxes' is deprecated and will be removed in a future version. Please use 'DataFrame.transpose' instead.\n",
      "  return bound(*args, **kwds)\n"
     ]
    }
   ],
   "source": [
    "k_vals = [1, 3, 5, 7, 9]\n",
    "cv_results = cross_validate(df, k_vals)\n",
    "best_k = max(cv_results, key=cv_results.get)"
   ]
  },
  {
   "cell_type": "code",
   "execution_count": 58,
   "id": "408931e6",
   "metadata": {},
   "outputs": [
    {
     "name": "stdout",
     "output_type": "stream",
     "text": [
      "{1: 0.95, 3: 0.95, 5: 0.925, 7: 0.925, 9: 0.925}\n",
      "1\n"
     ]
    }
   ],
   "source": [
    "print(cv_results)\n",
    "print(best_k)"
   ]
  },
  {
   "cell_type": "code",
   "execution_count": 59,
   "id": "fd5bb762",
   "metadata": {},
   "outputs": [
    {
     "name": "stdout",
     "output_type": "stream",
     "text": [
      "k: 1 Accuracy: 1.00\n"
     ]
    }
   ],
   "source": [
    "final_test(df, best_k)"
   ]
  },
  {
   "cell_type": "code",
   "execution_count": null,
   "id": "ae12d9dc",
   "metadata": {},
   "outputs": [],
   "source": []
  },
  {
   "cell_type": "markdown",
   "id": "5e3535e0",
   "metadata": {},
   "source": [
    "# Naive Bayes"
   ]
  },
  {
   "cell_type": "code",
   "execution_count": 104,
   "id": "6a53f649",
   "metadata": {},
   "outputs": [],
   "source": [
    "import pandas as pd\n",
    "import numpy as np"
   ]
  },
  {
   "cell_type": "code",
   "execution_count": 105,
   "id": "ef61326f",
   "metadata": {},
   "outputs": [],
   "source": [
    "df = [\n",
    "    [4, 122, 61, 7, 52, 27.82219568, 0.635762173, 48, 0, 0],\n",
    "    [1, 104, 56, 11, 0, 24.24503026, 0.089848385, 60, 0, 0],\n",
    "    [3, 109, 62, 23, 0, 18.87690204, 0.332317171, 61, 0, 0],\n",
    "    [3, 117, 87, 21, 108, 30.4921571, 0.405407555, 25, 1, 0],\n",
    "    [2, 114, 56, 28, 10, 23.1479042, 0.120255598, 25, 0, 0],\n",
    "    [3, 120, 95, 13, 165, 32.39493617, 0.211376261, 26, 1, 0],\n",
    "    [2, 99, 59, 20, 3, 44.38536126, 0.219177313, 43, 0, 0],\n",
    "    [3, 150, 78, 13, 116, 33.39655129, 0.309157203, 23, 0, 0],\n",
    "    [0, 122, 68, 27, 19, 45.98096352, 0.298969424, 57, 0, 0],\n",
    "    [2, 104, 66, 31, 110, 25.12408723, 0.494678442, 53, 0, 0],\n",
    "    [4, 130, 54, 24, 0, 23.0334144, 0.340692543, 63, 1, 0],\n",
    "    [2, 117, 68, 30, 43, 24.81089088, 0.260540091, 41, 0, 0],\n",
    "    [1, 67, 56, 20, 12, 31.54429623, 0.116002259, 40, 0, 0],\n",
    "    [3, 130, 49, 28, 150, 51.06064081, 0.081957536, 21, 0, 0],\n",
    "    [4, 89, 71, 20, 116, 20.36519701, 0.105820288, 59, 1, 0],\n",
    "    [4, 148, 62, 9, 0, 36.33764183, 0.559926645, 67, 1, 0],\n",
    "    [1, 112, 90, 22, 63, 27.10024265, 0.679502021, 37, 1, 0],\n",
    "    [2, 143, 82, 10, 18, 30.43337864, 0.145064816, 49, 0, 0],\n",
    "    [3, 101, 90, 43, 156, 23.19386062, 0.165994, 28, 1, 0],\n",
    "    [2, 122, 61, 16, 181, 38.15396827, 0.491571652, 46, 1, 0],\n",
    "    [3, 156, 71, 26, 0, 31.69252407, 0.039152253, 48, 0, 0],\n",
    "    [4, 111, 38, 19, 146, 39.61217485, 0.278828256, 54, 0, 0],\n",
    "    [1, 102, 66, 7, 14, 33.22671636, 0.462085911, 46, 0, 0],\n",
    "    [3, 139, 71, 7, 59, 18.47863216, 0.090168205, 33, 0, 0],\n",
    "    [3, 139, 71, 27, 82, 39.67579957, 0.238599802, 64, 0, 0],\n",
    "    [3, 103, 69, 35, 225, 17.90899557, 0.501099654, 57, 0, 0],\n",
    "    [5, 60, 70, 12, 0, 18.91068122, 0.155102847, 33, 1, 0],\n",
    "    [0, 101, 37, 7, 146, 25.57958124, 0.096417867, 58, 0, 0],\n",
    "    [1, 140, 73, 16, 0, 25.67301121, 0.255078432, 45, 1, 0],\n",
    "    [4, 96, 75, 10, 0, 41.77214956, 0.376397231, 67, 0, 0],\n",
    "]\n"
   ]
  },
  {
   "cell_type": "code",
   "execution_count": 106,
   "id": "138e6ea8",
   "metadata": {},
   "outputs": [],
   "source": [
    "df = pd.DataFrame(df, columns = [\n",
    "    \"Pregnancies\",\n",
    "    \"Glucose\",\n",
    "    \"BloodPressure\",\n",
    "    \"SkinThickness\",\n",
    "    \"Insulin\",\n",
    "    \"BMI\",\n",
    "    \"DiabetesPedigreeFunction\",\n",
    "    \"Age\",\n",
    "    \"Outcome\",\n",
    "    \"Outlier\"\n",
    "]\n",
    ")"
   ]
  },
  {
   "cell_type": "code",
   "execution_count": 107,
   "id": "3dc4c290",
   "metadata": {},
   "outputs": [
    {
     "name": "stdout",
     "output_type": "stream",
     "text": [
      "   Pregnancies  Glucose  BloodPressure  SkinThickness  Insulin        BMI  \\\n",
      "0            4      122             61              7       52  27.822196   \n",
      "1            1      104             56             11        0  24.245030   \n",
      "2            3      109             62             23        0  18.876902   \n",
      "3            3      117             87             21      108  30.492157   \n",
      "4            2      114             56             28       10  23.147904   \n",
      "\n",
      "   DiabetesPedigreeFunction  Age  Outcome  Outlier  \n",
      "0                  0.635762   48        0        0  \n",
      "1                  0.089848   60        0        0  \n",
      "2                  0.332317   61        0        0  \n",
      "3                  0.405408   25        1        0  \n",
      "4                  0.120256   25        0        0  \n"
     ]
    }
   ],
   "source": [
    "print(df.head())"
   ]
  },
  {
   "cell_type": "code",
   "execution_count": 108,
   "id": "f3f605dc",
   "metadata": {},
   "outputs": [
    {
     "name": "stdout",
     "output_type": "stream",
     "text": [
      "(30, 10)\n"
     ]
    }
   ],
   "source": [
    "print(df.shape)"
   ]
  },
  {
   "cell_type": "code",
   "execution_count": null,
   "id": "bccded26",
   "metadata": {},
   "outputs": [
    {
     "name": "stdout",
     "output_type": "stream",
     "text": [
      "21\n"
     ]
    }
   ],
   "source": [
    "test_ratio = 0.3\n",
    "split_idx = int(len(df) * (1 - test_ratio))\n",
    "print(split_idx)\n",
    "train_df = df[:split_idx]\n",
    "test_df = df[split_idx:]"
   ]
  },
  {
   "cell_type": "code",
   "execution_count": 110,
   "id": "9315e2fb",
   "metadata": {},
   "outputs": [],
   "source": [
    "train_X = train_df.iloc[:, :-2]\n",
    "train_y = train_df.iloc[:, -2]"
   ]
  },
  {
   "cell_type": "code",
   "execution_count": 111,
   "id": "3986aeb0",
   "metadata": {},
   "outputs": [],
   "source": [
    "def gaussian_prob(X, mean, std):\n",
    "    return (1 / (std * np.sqrt(2 * np.pi))) * np.exp(-0.5 * ((X - mean) / std) ** 2)"
   ]
  },
  {
   "cell_type": "code",
   "execution_count": 112,
   "id": "17520fb6",
   "metadata": {},
   "outputs": [],
   "source": [
    "def train_bayes(train_df):\n",
    "    n_samples, n_features = train_df.shape[0], train_df.shape[1] - 2\n",
    "    class_0_data = train_df[train_df.iloc[:, -2] == 0]\n",
    "    class_1_data = train_df[train_df.iloc[:, -2] == 1]\n",
    "\n",
    "    class_0_prior = len(class_0_data) / n_samples\n",
    "    class_1_prior = len(class_1_data) / n_samples\n",
    "\n",
    "    means_0 = class_0_data.iloc[:, :-2].mean()\n",
    "    stds_0 = class_0_data.iloc[:, :-2].std(ddof=0)\n",
    "\n",
    "    means_1 = class_1_data.iloc[:, :-2].mean()\n",
    "    stds_1 = class_1_data.iloc[:, :-2].std(ddof=0)\n",
    "\n",
    "    return class_0_prior, class_1_prior, means_0, stds_0, means_1, stds_1\n",
    "\n",
    "\n"
   ]
  },
  {
   "cell_type": "code",
   "execution_count": 113,
   "id": "76176c91",
   "metadata": {},
   "outputs": [],
   "source": [
    "class_0_prior, class_1_prior, means_0, stds_0, means_1, stds_1 = train_bayes(train_df)"
   ]
  },
  {
   "cell_type": "code",
   "execution_count": 114,
   "id": "e0c14af9",
   "metadata": {},
   "outputs": [],
   "source": [
    "test_X = test_df.iloc[:, :-2]\n",
    "test_y = test_df.iloc[:, -2]"
   ]
  },
  {
   "cell_type": "code",
   "execution_count": 115,
   "id": "19a1deb0",
   "metadata": {},
   "outputs": [],
   "source": [
    "def predict(test_data, class_0_prior, class_1_prior, means_0, stds_0, means_1, stds_1):\n",
    "    sample_data = test_data.iloc[:, :-2]\n",
    "    probs_0 = gaussian_prob(sample_data, means_0, stds_0)\n",
    "    like_0 = probs_0.prod(axis=1) * class_0_prior\n",
    "\n",
    "    probs_1 = gaussian_prob(sample_data, means_1, stds_1)\n",
    "    like_1 = probs_1.prod(axis=1) * class_1_prior\n",
    "\n",
    "    pred = (like_1 > like_0).astype(int)\n",
    "    return pred"
   ]
  },
  {
   "cell_type": "code",
   "execution_count": 116,
   "id": "e9f6f98a",
   "metadata": {},
   "outputs": [],
   "source": [
    "def metrics(predictions, actual_labels):\n",
    "    accuracy = np.sum(np.array(predictions) == np.array(actual_labels)) / len(actual_labels)\n",
    "    precision = np.sum((np.array(predictions) == 1) & (np.array(actual_labels) == 1)) / np.sum(np.array(predictions) == 1) if np.sum(np.array(predictions) == 1) > 0 else 0\n",
    "    recall = np.sum((np.array(predictions) == 1) & (np.array(actual_labels) == 1)) / np.sum(np.array(actual_labels) == 1) if np.sum(np.array(actual_labels) == 1) > 0 else 0\n",
    "    f1_score = 2 * (precision * recall) / (precision + recall) if (precision + recall) > 0 else 0\n",
    "\n",
    "    return accuracy, precision, recall, f1_score"
   ]
  },
  {
   "cell_type": "code",
   "execution_count": 117,
   "id": "077b8985",
   "metadata": {},
   "outputs": [],
   "source": [
    "predictions = predict(test_df, class_0_prior, class_1_prior, means_0, stds_0, means_1, stds_1)"
   ]
  },
  {
   "cell_type": "code",
   "execution_count": 118,
   "id": "ebefbbab",
   "metadata": {},
   "outputs": [],
   "source": [
    "accuracy, precision, recall, f1_score = metrics(predictions, test_y)"
   ]
  },
  {
   "cell_type": "code",
   "execution_count": 121,
   "id": "4fb8a33a",
   "metadata": {},
   "outputs": [
    {
     "name": "stdout",
     "output_type": "stream",
     "text": [
      "Training samples: 21\n",
      "Test samples: 9\n",
      "Class 0 Prior: 0.62\n",
      "Class 1 Prior: 0.38\n",
      "Predictions: [1, 0, 0, 0, 1, 0, 0, 0, 0]\n",
      "Actual: [0, 0, 0, 0, 0, 1, 0, 1, 0]\n",
      "Accuracy=0.56\n",
      "Precision=0.00\n",
      "Recall=0.00\n",
      "F1=0.00\n"
     ]
    }
   ],
   "source": [
    "print(f\"Training samples: {len(train_df)}\")\n",
    "print(f\"Test samples: {len(test_df)}\")\n",
    "print(f\"Class 0 Prior: {class_0_prior:.2f}\")\n",
    "print(f\"Class 1 Prior: {class_1_prior:.2f}\")\n",
    "print(f\"Predictions: {[int(x) for x in predictions.tolist()]}\")\n",
    "print(f\"Actual: {[int(x) for x in test_y.tolist()]}\")\n",
    "print(f\"Accuracy={accuracy:.2f}\")\n",
    "print(f\"Precision={precision:.2f}\")\n",
    "print(f\"Recall={recall:.2f}\")\n",
    "print(f\"F1={f1_score:.2f}\")"
   ]
  },
  {
   "cell_type": "markdown",
   "id": "d087cb4e",
   "metadata": {},
   "source": [
    "# Multinomial Naive Bayes"
   ]
  },
  {
   "cell_type": "code",
   "execution_count": 165,
   "id": "495bd389",
   "metadata": {},
   "outputs": [],
   "source": [
    "import math"
   ]
  },
  {
   "cell_type": "code",
   "execution_count": 166,
   "id": "f06631fb",
   "metadata": {},
   "outputs": [],
   "source": [
    "df = [\n",
    "    [\"I love this movie\", 1],\n",
    "    [\"This film was great\", 1],\n",
    "    [\"Amazing acting and story\", 1],\n",
    "    [\"What a fantastic performance\", 1],\n",
    "    [\"The direction was brilliant\", 1],\n",
    "    [\"Highly enjoyable and emotional\", 1],\n",
    "    [\"I really liked the soundtrack\", 1],\n",
    "    [\"The characters were inspiring\", 1],\n",
    "    [\"This was a boring movie\", 0],\n",
    "    [\"I did not like the film\", 0],\n",
    "    [\"Terrible acting and weak story\", 0],\n",
    "    [\"The performance was disappointing\", 0],\n",
    "    [\"It was a waste of time\", 0],\n",
    "    [\"Not enjoyable at all\", 0],\n",
    "    [\"I hated the soundtrack\", 0],\n",
    "    [\"The characters were dull\", 0],\n",
    "    [\"Amazing visuals but boring story\", 0],\n",
    "    [\"Loved the emotional moments\", 1],\n",
    "    [\"Brilliant soundtrack and acting\", 1],\n",
    "    [\"Terrible direction and slow pace\", 0],\n",
    "    [\"Enjoyable family film\", 1],\n",
    "    [\"Weak characters and dull ending\", 0],\n",
    "    [\"Fantastic film overall\", 1],\n",
    "    [\"Not worth watching\", 0]\n",
    "]\n"
   ]
  },
  {
   "cell_type": "code",
   "execution_count": 167,
   "id": "66caa579",
   "metadata": {},
   "outputs": [],
   "source": [
    "df = pd.DataFrame(df, columns=['Text', 'Label'])"
   ]
  },
  {
   "cell_type": "code",
   "execution_count": 168,
   "id": "2c5e08ae",
   "metadata": {},
   "outputs": [
    {
     "name": "stdout",
     "output_type": "stream",
     "text": [
      "                           Text  Label\n",
      "0             I love this movie      1\n",
      "1           This film was great      1\n",
      "2      Amazing acting and story      1\n",
      "3  What a fantastic performance      1\n",
      "4   The direction was brilliant      1\n"
     ]
    }
   ],
   "source": [
    "print(df.head())"
   ]
  },
  {
   "cell_type": "code",
   "execution_count": 169,
   "id": "e16daa99",
   "metadata": {},
   "outputs": [
    {
     "name": "stdout",
     "output_type": "stream",
     "text": [
      "(24, 2)\n"
     ]
    }
   ],
   "source": [
    "print(df.shape)"
   ]
  },
  {
   "cell_type": "code",
   "execution_count": 170,
   "id": "7b3c39d7",
   "metadata": {},
   "outputs": [],
   "source": [
    "test_ratio = 0.3\n",
    "split_idx = int(len(df) * (1 - test_ratio))\n",
    "train_df = df[:split_idx]\n",
    "test_df = df[split_idx:]"
   ]
  },
  {
   "cell_type": "code",
   "execution_count": 171,
   "id": "359c5748",
   "metadata": {},
   "outputs": [],
   "source": [
    "counts = {0: 0, 1: 0}\n",
    "wfreq = {0: {}, 1: {}}\n",
    "words_set = set()"
   ]
  },
  {
   "cell_type": "code",
   "execution_count": 172,
   "id": "912450fb",
   "metadata": {},
   "outputs": [
    {
     "name": "stdout",
     "output_type": "stream",
     "text": [
      "{0: 0.5, 1: 0.5}\n"
     ]
    }
   ],
   "source": [
    "for sen, cat in train_df.values:\n",
    "    counts[cat] += 1\n",
    "    for word in sen.split():\n",
    "        words_set.add(word)\n",
    "        wfreq[cat][word] = wfreq[cat].get(word, 0) + 1\n",
    "doc_count = len(train_df)\n",
    "p = {x: counts[x] / doc_count for x in [0, 1]}\n",
    "total_words = len(words_set)\n",
    "pword = {0: {}, 1: {}}\n",
    "for x in [0, 1]:\n",
    "    total_word_count = sum(wfreq[x].values())\n",
    "    for word in words_set:\n",
    "        pword[x][word] = (wfreq[x].get(word, 0) + 1) / (total_word_count + total_words)\n",
    "\n",
    "print(p)"
   ]
  },
  {
   "cell_type": "code",
   "execution_count": 173,
   "id": "1ea5ffcb",
   "metadata": {},
   "outputs": [],
   "source": [
    "def classify(sen):\n",
    "    tokens = sen.split()\n",
    "    results = {}\n",
    "    for x in [0, 1]:\n",
    "        score = math.log(p[x])\n",
    "        for token in tokens:\n",
    "            if token in words_set:\n",
    "                score += math.log(pword[x][token])\n",
    "        results[x] = score\n",
    "    return max(results, key=results.get)"
   ]
  },
  {
   "cell_type": "code",
   "execution_count": 174,
   "id": "11b02dd1",
   "metadata": {},
   "outputs": [],
   "source": [
    "predicted_labels = []\n",
    "true_labels = []\n",
    "for sen, cat in test_df.values:\n",
    "    pred = classify(sen.lower())\n",
    "    predicted_labels.append(pred)\n",
    "    true_labels.append(cat)"
   ]
  },
  {
   "cell_type": "code",
   "execution_count": 175,
   "id": "cb72e914",
   "metadata": {},
   "outputs": [],
   "source": [
    "true_pos = sum((p == 1 and a == 1) for p, a in zip(predicted_labels, true_labels))\n",
    "true_neg = sum((p == 0 and a == 0) for p, a in zip(predicted_labels, true_labels))\n",
    "false_pos = sum((p == 1 and a == 0) for p, a in zip(predicted_labels, true_labels))\n",
    "false_neg = sum((p == 0 and a == 1) for p, a in zip(predicted_labels, true_labels))"
   ]
  },
  {
   "cell_type": "code",
   "execution_count": 176,
   "id": "315e70fd",
   "metadata": {},
   "outputs": [],
   "source": [
    "acc = (true_pos + true_neg) / len(true_labels)\n",
    "prec = true_pos / (true_pos + false_pos) if (true_pos + false_pos) > 0 else 0\n",
    "rec = true_pos / (true_pos + false_neg) if (true_pos + false_neg) > 0 else 0\n",
    "f1_score = (2 * prec * rec) / (prec + rec) if (prec + rec) > 0 else 0"
   ]
  },
  {
   "cell_type": "code",
   "execution_count": 177,
   "id": "e2d30ec4",
   "metadata": {},
   "outputs": [
    {
     "name": "stdout",
     "output_type": "stream",
     "text": [
      "Training samples: 16\n",
      "Test samples: 8\n",
      "Class 0 Prior: 0.50\n",
      "Class 1 Prior: 0.50\n",
      "Predictions: [0, 1, 1, 1, 1, 0, 1, 0]\n",
      "Actual: [0, 1, 1, 0, 1, 0, 1, 0]\n",
      "Accuracy=0.88\n",
      "Precision=0.80\n",
      "Recall=1.00\n",
      "F1=0.89\n"
     ]
    }
   ],
   "source": [
    "print(f\"Training samples: {len(train_df)}\")\n",
    "print(f\"Test samples: {len(test_df)}\")\n",
    "print(f\"Class 0 Prior: {p[0]:.2f}\")\n",
    "print(f\"Class 1 Prior: {p[1]:.2f}\")\n",
    "print(\"Predictions:\", predicted_labels)\n",
    "print(\"Actual:\", true_labels)\n",
    "print(f\"Accuracy={acc:.2f}\")\n",
    "print(f\"Precision={prec:.2f}\")\n",
    "print(f\"Recall={rec:.2f}\")\n",
    "print(f\"F1={f1_score:.2f}\")"
   ]
  },
  {
   "cell_type": "code",
   "execution_count": null,
   "id": "faaa3d1e",
   "metadata": {},
   "outputs": [],
   "source": []
  }
 ],
 "metadata": {
  "kernelspec": {
   "display_name": "Python 3",
   "language": "python",
   "name": "python3"
  },
  "language_info": {
   "codemirror_mode": {
    "name": "ipython",
    "version": 3
   },
   "file_extension": ".py",
   "mimetype": "text/x-python",
   "name": "python",
   "nbconvert_exporter": "python",
   "pygments_lexer": "ipython3",
   "version": "3.12.1"
  }
 },
 "nbformat": 4,
 "nbformat_minor": 5
}
