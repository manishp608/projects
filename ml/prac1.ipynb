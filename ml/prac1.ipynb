{
 "cells": [
  {
   "cell_type": "markdown",
   "id": "45aed8a2",
   "metadata": {},
   "source": [
    "# Univariate Linear Regression"
   ]
  },
  {
   "cell_type": "code",
   "execution_count": 1,
   "id": "febcff8a",
   "metadata": {},
   "outputs": [
    {
     "name": "stderr",
     "output_type": "stream",
     "text": [
      "C:\\Users\\manis\\AppData\\Local\\Temp\\ipykernel_6060\\1662815981.py:2: DeprecationWarning: \n",
      "Pyarrow will become a required dependency of pandas in the next major release of pandas (pandas 3.0),\n",
      "(to allow more performant data types, such as the Arrow string type, and better interoperability with other libraries)\n",
      "but was not found to be installed on your system.\n",
      "If this would cause problems for you,\n",
      "please provide us feedback at https://github.com/pandas-dev/pandas/issues/54466\n",
      "        \n",
      "  import pandas as pd\n"
     ]
    }
   ],
   "source": [
    "import numpy as np\n",
    "import pandas as pd"
   ]
  },
  {
   "cell_type": "code",
   "execution_count": 9,
   "id": "66d9d500",
   "metadata": {},
   "outputs": [],
   "source": [
    "df = [\n",
    "    [35.0, 179.0],\n",
    "    [42.0, 200.0],\n",
    "    [50.0, 221.0],\n",
    "    [60.0, 263.0],\n",
    "    [67.0, 280.0],\n",
    "    [75.0, 314.0],\n",
    "    [80.0, 327.0],\n",
    "    [90.0, 360.0],\n",
    "    [95.0, 377.0],\n",
    "    [100.0, 391.0],\n",
    "    [110.0, 425.0],\n",
    "    [120.0, 462.0],\n",
    "    [130.0, 493.0],\n",
    "    [140.0, 521.0],\n",
    "    [150.0, 552.0],\n",
    "    [160.0, 582.0],\n",
    "    [175.0, 631.0],\n",
    "    [190.0, 675.0],\n",
    "    [210.0, 740.0],\n",
    "    [230.0, 804.0]\n",
    "]\n"
   ]
  },
  {
   "cell_type": "code",
   "execution_count": 10,
   "id": "09958e8f",
   "metadata": {},
   "outputs": [],
   "source": [
    "df = pd.DataFrame(df, columns=['feature', 'target'])"
   ]
  },
  {
   "cell_type": "code",
   "execution_count": 11,
   "id": "9ac85cdb",
   "metadata": {},
   "outputs": [
    {
     "name": "stdout",
     "output_type": "stream",
     "text": [
      "   feature  target\n",
      "0     35.0   179.0\n",
      "1     42.0   200.0\n",
      "2     50.0   221.0\n",
      "3     60.0   263.0\n",
      "4     67.0   280.0\n"
     ]
    }
   ],
   "source": [
    "print(df.head())"
   ]
  },
  {
   "cell_type": "code",
   "execution_count": 12,
   "id": "1a267dea",
   "metadata": {},
   "outputs": [
    {
     "name": "stdout",
     "output_type": "stream",
     "text": [
      "(20, 2)\n"
     ]
    }
   ],
   "source": [
    "print(df.shape)"
   ]
  },
  {
   "cell_type": "code",
   "execution_count": 13,
   "id": "22737d18",
   "metadata": {},
   "outputs": [],
   "source": [
    "X = df['feature']\n",
    "y = df['target']"
   ]
  },
  {
   "cell_type": "code",
   "execution_count": 14,
   "id": "005f8cee",
   "metadata": {},
   "outputs": [
    {
     "name": "stdout",
     "output_type": "stream",
     "text": [
      "0    35.0\n",
      "1    42.0\n",
      "2    50.0\n",
      "3    60.0\n",
      "4    67.0\n",
      "Name: feature, dtype: float64\n",
      "0    179.0\n",
      "1    200.0\n",
      "2    221.0\n",
      "3    263.0\n",
      "4    280.0\n",
      "Name: target, dtype: float64\n"
     ]
    }
   ],
   "source": [
    "print(X.head())\n",
    "print(y.head())"
   ]
  },
  {
   "cell_type": "code",
   "execution_count": 16,
   "id": "7830db36",
   "metadata": {},
   "outputs": [
    {
     "name": "stdout",
     "output_type": "stream",
     "text": [
      "115.45 35.00 230.00 55.22\n",
      "439.85 179.00 804.00 177.34\n"
     ]
    }
   ],
   "source": [
    "X_mean = X.mean()\n",
    "X_min = X.min()\n",
    "X_max = X.max()\n",
    "X_std = X.std(ddof=0)\n",
    "\n",
    "y_mean =y.mean()\n",
    "y_min = y.min()\n",
    "y_max = y.max()\n",
    "y_std = y.std(ddof=0)\n",
    "\n",
    "print(f\"{X_mean:.2f} {X_min:.2f} {X_max:.2f} {X_std:.2f}\")\n",
    "print(f\"{y_mean:.2f} {y_min:.2f} {y_max:.2f} {y_std:.2f}\")"
   ]
  },
  {
   "cell_type": "code",
   "execution_count": 17,
   "id": "9eff421b",
   "metadata": {},
   "outputs": [],
   "source": [
    "alpha = 0.01\n",
    "epochs = 1000"
   ]
  },
  {
   "cell_type": "code",
   "execution_count": 18,
   "id": "01aaaf3f",
   "metadata": {},
   "outputs": [],
   "source": [
    "X_norm = (X - X_mean) / (X_std)"
   ]
  },
  {
   "cell_type": "code",
   "execution_count": 19,
   "id": "f4177991",
   "metadata": {},
   "outputs": [
    {
     "name": "stdout",
     "output_type": "stream",
     "text": [
      "0   -1.456972\n",
      "1   -1.330200\n",
      "2   -1.185317\n",
      "3   -1.004215\n",
      "4   -0.877443\n",
      "Name: feature, dtype: float64\n"
     ]
    }
   ],
   "source": [
    "print(X_norm.head())"
   ]
  },
  {
   "cell_type": "code",
   "execution_count": 28,
   "id": "ee1488b4",
   "metadata": {},
   "outputs": [],
   "source": [
    "def gradient_descent(X, y, alpha=0.01, epochs=1000):\n",
    "    theta0, theta1 = 0, 0\n",
    "    \n",
    "    n = len(X)\n",
    "\n",
    "    for epoch in range(epochs):\n",
    "        y_cap = theta0 + (theta1 * X)\n",
    "        grad0 = sum((y_cap - y)) / n\n",
    "        grad1 = sum(((y_cap - y) * X)) / n\n",
    "\n",
    "        theta0 -= alpha * grad0\n",
    "        theta1 -= alpha * grad1\n",
    "\n",
    "    return theta0, theta1"
   ]
  },
  {
   "cell_type": "code",
   "execution_count": 29,
   "id": "854c6cde",
   "metadata": {},
   "outputs": [],
   "source": [
    "theta0, theta1 = gradient_descent(X_norm, y)"
   ]
  },
  {
   "cell_type": "code",
   "execution_count": 30,
   "id": "c882123d",
   "metadata": {},
   "outputs": [
    {
     "name": "stdout",
     "output_type": "stream",
     "text": [
      "439.83101112682647 177.29315298210062\n"
     ]
    }
   ],
   "source": [
    "print(theta0, theta1)"
   ]
  },
  {
   "cell_type": "code",
   "execution_count": 31,
   "id": "e69ad3fe",
   "metadata": {},
   "outputs": [],
   "source": [
    "def mse(X, y):\n",
    "    y_cap = theta0 + (theta1 * X)\n",
    "    n = len(X)\n",
    "    return sum((y_cap - y) ** 2) / (2 * n)"
   ]
  },
  {
   "cell_type": "code",
   "execution_count": 32,
   "id": "8134c0ec",
   "metadata": {},
   "outputs": [],
   "source": [
    "error = mse(X_norm, y)"
   ]
  },
  {
   "cell_type": "code",
   "execution_count": 33,
   "id": "245f55bb",
   "metadata": {},
   "outputs": [
    {
     "name": "stdout",
     "output_type": "stream",
     "text": [
      "7.57582866937003\n"
     ]
    }
   ],
   "source": [
    "print(error)"
   ]
  },
  {
   "cell_type": "code",
   "execution_count": 38,
   "id": "2d3fe7ab",
   "metadata": {},
   "outputs": [],
   "source": [
    "def predict(val):\n",
    "    X = (val - X_mean) / X_std\n",
    "    return theta0 + (theta1 * X)"
   ]
  },
  {
   "cell_type": "code",
   "execution_count": 39,
   "id": "a3864d8d",
   "metadata": {},
   "outputs": [
    {
     "name": "stdout",
     "output_type": "stream",
     "text": [
      "550.7651054617813\n",
      "711.3064865543353\n"
     ]
    }
   ],
   "source": [
    "print(predict(150))\n",
    "print(predict(200))"
   ]
  },
  {
   "cell_type": "markdown",
   "id": "21e49ee6",
   "metadata": {},
   "source": [
    "# Multi Variate Linear Regression"
   ]
  },
  {
   "cell_type": "code",
   "execution_count": 40,
   "id": "81100dbb",
   "metadata": {},
   "outputs": [],
   "source": [
    "df = [\n",
    "    [35.0, 1.0, 20.0, 179.0],\n",
    "    [42.0, 2.0, 15.0, 200.0],\n",
    "    [50.0, 2.0, 18.0, 221.0],\n",
    "    [60.0, 3.0, 10.0, 263.0],\n",
    "    [67.0, 3.0, 8.0, 280.0],\n",
    "    [75.0, 3.0, 12.0, 314.0],\n",
    "    [80.0, 4.0, 5.0, 327.0],\n",
    "    [90.0, 4.0, 5.0, 360.0],\n",
    "    [95.0, 4.0, 6.0, 377.0],\n",
    "    [100.0, 5.0, 5.0, 391.0],\n",
    "    [110.0, 5.0, 3.0, 425.0],\n",
    "    [120.0, 5.0, 2.0, 462.0],\n",
    "    [130.0, 6.0, 2.0, 493.0],\n",
    "    [140.0, 6.0, 1.0, 521.0],\n",
    "    [150.0, 6.0, 1.0, 552.0],\n",
    "    [160.0, 7.0, 1.0, 582.0],\n",
    "    [175.0, 7.0, 2.0, 631.0],\n",
    "    [190.0, 8.0, 2.0, 675.0],\n",
    "    [210.0, 8.0, 1.0, 740.0],\n",
    "    [230.0, 9.0, 1.0, 804.0]\n",
    "]\n"
   ]
  },
  {
   "cell_type": "code",
   "execution_count": 41,
   "id": "70e3d2d7",
   "metadata": {},
   "outputs": [],
   "source": [
    "df = pd.DataFrame(df, columns=['size', 'rooms', 'age', 'price'])"
   ]
  },
  {
   "cell_type": "code",
   "execution_count": 42,
   "id": "ac8dcb96",
   "metadata": {},
   "outputs": [
    {
     "name": "stdout",
     "output_type": "stream",
     "text": [
      "   size  rooms   age  price\n",
      "0  35.0    1.0  20.0  179.0\n",
      "1  42.0    2.0  15.0  200.0\n",
      "2  50.0    2.0  18.0  221.0\n",
      "3  60.0    3.0  10.0  263.0\n",
      "4  67.0    3.0   8.0  280.0\n"
     ]
    }
   ],
   "source": [
    "print(df.head())"
   ]
  },
  {
   "cell_type": "code",
   "execution_count": 43,
   "id": "246e2a97",
   "metadata": {},
   "outputs": [
    {
     "name": "stdout",
     "output_type": "stream",
     "text": [
      "(20, 4)\n"
     ]
    }
   ],
   "source": [
    "print(df.shape)"
   ]
  },
  {
   "cell_type": "code",
   "execution_count": 45,
   "id": "e0cbc179",
   "metadata": {},
   "outputs": [],
   "source": [
    "mean_vals = df.mean()\n",
    "min_vals = df.min()\n",
    "max_vals = df.max()\n",
    "std_vals = df.std(ddof=0)"
   ]
  },
  {
   "cell_type": "code",
   "execution_count": 46,
   "id": "72d36c1f",
   "metadata": {},
   "outputs": [
    {
     "name": "stdout",
     "output_type": "stream",
     "text": [
      "size     115.45\n",
      "rooms      4.90\n",
      "age        6.00\n",
      "price    439.85\n",
      "dtype: float64 size      35.0\n",
      "rooms      1.0\n",
      "age        1.0\n",
      "price    179.0\n",
      "dtype: float64 size     230.0\n",
      "rooms      9.0\n",
      "age       20.0\n",
      "price    804.0\n",
      "dtype: float64 size      55.217275\n",
      "rooms      2.165641\n",
      "age        5.822371\n",
      "price    177.343530\n",
      "dtype: float64\n"
     ]
    }
   ],
   "source": [
    "print(mean_vals, min_vals, max_vals, std_vals)"
   ]
  },
  {
   "cell_type": "code",
   "execution_count": 47,
   "id": "2e0598d0",
   "metadata": {},
   "outputs": [],
   "source": [
    "alpha = 0.01\n",
    "epochs = 300"
   ]
  },
  {
   "cell_type": "code",
   "execution_count": 48,
   "id": "f9620f18",
   "metadata": {},
   "outputs": [],
   "source": [
    "X = df.iloc[:, :-1]\n",
    "y = df.iloc[:, -1]"
   ]
  },
  {
   "cell_type": "code",
   "execution_count": 49,
   "id": "c6e8432d",
   "metadata": {},
   "outputs": [
    {
     "name": "stdout",
     "output_type": "stream",
     "text": [
      "   size  rooms   age\n",
      "0  35.0    1.0  20.0\n",
      "1  42.0    2.0  15.0\n",
      "2  50.0    2.0  18.0\n",
      "3  60.0    3.0  10.0\n",
      "4  67.0    3.0   8.0\n",
      "0    179.0\n",
      "1    200.0\n",
      "2    221.0\n",
      "3    263.0\n",
      "4    280.0\n",
      "Name: price, dtype: float64\n"
     ]
    }
   ],
   "source": [
    "print(X.head())\n",
    "print(y.head())"
   ]
  },
  {
   "cell_type": "code",
   "execution_count": 50,
   "id": "1c15ea6a",
   "metadata": {},
   "outputs": [],
   "source": [
    "X_mean = mean_vals[:-1]\n",
    "X_std = std_vals[:-1]\n",
    "X_norm = (X - X_mean) / X_std"
   ]
  },
  {
   "cell_type": "code",
   "execution_count": 52,
   "id": "2e58b79d",
   "metadata": {},
   "outputs": [
    {
     "name": "stdout",
     "output_type": "stream",
     "text": [
      "       size     rooms       age\n",
      "0 -1.456972 -1.800853  2.404519\n",
      "1 -1.330200 -1.339096  1.545762\n",
      "2 -1.185317 -1.339096  2.061016\n",
      "3 -1.004215 -0.877338  0.687005\n",
      "4 -0.877443 -0.877338  0.343503\n"
     ]
    }
   ],
   "source": [
    "print(X_norm.head())"
   ]
  },
  {
   "cell_type": "code",
   "execution_count": 54,
   "id": "f54d90b1",
   "metadata": {},
   "outputs": [],
   "source": [
    "X_aug = np.c_[np.ones(X_norm.shape[0]), X_norm]\n"
   ]
  },
  {
   "cell_type": "code",
   "execution_count": 69,
   "id": "f522ad72",
   "metadata": {},
   "outputs": [],
   "source": [
    "def gradient_descent(X, y, theta, alpha=0.01, epochs=300):\n",
    "    theta = np.zeros(X.shape[1])\n",
    "    n = len(X)\n",
    "\n",
    "    for epoch in range(epochs):\n",
    "        y_cap = X.dot(theta)\n",
    "        grad = X.T.dot(y_cap - y) / n\n",
    "        theta -= alpha * grad\n",
    "    \n",
    "    return theta"
   ]
  },
  {
   "cell_type": "code",
   "execution_count": 70,
   "id": "14a61a83",
   "metadata": {},
   "outputs": [],
   "source": [
    "theta = 0\n",
    "theta = gradient_descent(X_aug, y, theta)"
   ]
  },
  {
   "cell_type": "code",
   "execution_count": 71,
   "id": "b038bb0a",
   "metadata": {},
   "outputs": [
    {
     "name": "stdout",
     "output_type": "stream",
     "text": [
      "[418.27936274  82.59776628  69.70922778 -25.24441416]\n"
     ]
    }
   ],
   "source": [
    "print(theta)"
   ]
  },
  {
   "cell_type": "code",
   "execution_count": 72,
   "id": "e1aae1e7",
   "metadata": {},
   "outputs": [],
   "source": [
    "def mse(X, y, theta):\n",
    "    n = len(X)\n",
    "    y_cap = X.dot(theta)\n",
    "    error = np.sum((y_cap - y) ** 2) / (2 * n)\n",
    "    return error"
   ]
  },
  {
   "cell_type": "code",
   "execution_count": 73,
   "id": "da2e90fc",
   "metadata": {},
   "outputs": [],
   "source": [
    "error = mse(X_aug, y, theta)"
   ]
  },
  {
   "cell_type": "code",
   "execution_count": 74,
   "id": "257e5ec4",
   "metadata": {},
   "outputs": [
    {
     "name": "stdout",
     "output_type": "stream",
     "text": [
      "507.4749084772522\n"
     ]
    }
   ],
   "source": [
    "print(error)"
   ]
  },
  {
   "cell_type": "code",
   "execution_count": 75,
   "id": "a0979eca",
   "metadata": {},
   "outputs": [],
   "source": [
    "theta_norm = np.linalg.inv(X_aug.T.dot(X_aug)).dot(X_aug.T).dot(y)"
   ]
  },
  {
   "cell_type": "code",
   "execution_count": 76,
   "id": "0d8e2bd3",
   "metadata": {},
   "outputs": [
    {
     "name": "stdout",
     "output_type": "stream",
     "text": [
      "[439.85       178.33638311  -5.88264569  -5.86457497] [418.27936274  82.59776628  69.70922778 -25.24441416]\n"
     ]
    }
   ],
   "source": [
    "print(theta_norm, theta)"
   ]
  },
  {
   "cell_type": "code",
   "execution_count": 77,
   "id": "09d09c29",
   "metadata": {},
   "outputs": [],
   "source": [
    "mse_norm = mse(X_aug, y, theta_norm)"
   ]
  },
  {
   "cell_type": "code",
   "execution_count": 78,
   "id": "e464e3ec",
   "metadata": {},
   "outputs": [
    {
     "name": "stdout",
     "output_type": "stream",
     "text": [
      "3.7089239283979465\n"
     ]
    }
   ],
   "source": [
    "print(mse_norm)"
   ]
  },
  {
   "cell_type": "code",
   "execution_count": 80,
   "id": "0edfecef",
   "metadata": {},
   "outputs": [
    {
     "name": "stdout",
     "output_type": "stream",
     "text": [
      "MSE Difference=503.76598\n"
     ]
    }
   ],
   "source": [
    "print(f\"MSE Difference={round(abs(error - mse_norm), 5)}\")"
   ]
  },
  {
   "cell_type": "code",
   "execution_count": 87,
   "id": "1bd8bdd0",
   "metadata": {},
   "outputs": [],
   "source": [
    "new = pd.DataFrame([[150, 3, 5], [200, 4, 2]], columns=['size', 'rooms', 'age'])\n",
    "new_norm = (new - X_mean) / (X_std)\n",
    "new_aug = np.c_[np.ones(new_norm.shape[0]), new_norm]"
   ]
  },
  {
   "cell_type": "code",
   "execution_count": 88,
   "id": "dc055e2f",
   "metadata": {},
   "outputs": [
    {
     "name": "stdout",
     "output_type": "stream",
     "text": [
      "413.14\n",
      "533.13\n"
     ]
    }
   ],
   "source": [
    "pred_gd = new_aug.dot(theta)\n",
    "\n",
    "for price in pred_gd:\n",
    "    print(round(price, 2))"
   ]
  },
  {
   "cell_type": "code",
   "execution_count": null,
   "id": "f17b0fd3",
   "metadata": {},
   "outputs": [],
   "source": []
  },
  {
   "cell_type": "markdown",
   "id": "6b5750e9",
   "metadata": {},
   "source": [
    "# Univariate Logisitic Regression"
   ]
  },
  {
   "cell_type": "code",
   "execution_count": 1,
   "id": "c72f80e1",
   "metadata": {},
   "outputs": [
    {
     "name": "stderr",
     "output_type": "stream",
     "text": [
      "C:\\Users\\manis\\AppData\\Local\\Temp\\ipykernel_21140\\1662815981.py:2: DeprecationWarning: \n",
      "Pyarrow will become a required dependency of pandas in the next major release of pandas (pandas 3.0),\n",
      "(to allow more performant data types, such as the Arrow string type, and better interoperability with other libraries)\n",
      "but was not found to be installed on your system.\n",
      "If this would cause problems for you,\n",
      "please provide us feedback at https://github.com/pandas-dev/pandas/issues/54466\n",
      "        \n",
      "  import pandas as pd\n"
     ]
    }
   ],
   "source": [
    "import numpy as np\n",
    "import pandas as pd"
   ]
  },
  {
   "cell_type": "code",
   "execution_count": 2,
   "id": "ccd6c995",
   "metadata": {},
   "outputs": [],
   "source": [
    "df = [\n",
    "    [35.0, 0.0],\n",
    "    [42.0, 0.0],\n",
    "    [50.0, 0.0],\n",
    "    [60.0, 0.0],\n",
    "    [67.0, 1.0],\n",
    "    [75.0, 1.0],\n",
    "    [80.0, 1.0],\n",
    "    [90.0, 1.0],\n",
    "    [95.0, 1.0],\n",
    "    [100.0, 1.0],\n",
    "    [110.0, 1.0],\n",
    "    [120.0, 1.0],\n",
    "    [130.0, 1.0],\n",
    "    [140.0, 1.0],\n",
    "    [150.0, 1.0],\n",
    "    [160.0, 1.0],\n",
    "    [175.0, 1.0],\n",
    "    [190.0, 1.0],\n",
    "    [210.0, 1.0],\n",
    "    [230.0, 1.0]\n",
    "]\n"
   ]
  },
  {
   "cell_type": "code",
   "execution_count": 3,
   "id": "5b1adbca",
   "metadata": {},
   "outputs": [],
   "source": [
    "df = pd.DataFrame(df, columns=['exam_score', 'admitted'])"
   ]
  },
  {
   "cell_type": "code",
   "execution_count": 4,
   "id": "94b9bf4a",
   "metadata": {},
   "outputs": [
    {
     "name": "stdout",
     "output_type": "stream",
     "text": [
      "   exam_score  admitted\n",
      "0        35.0       0.0\n",
      "1        42.0       0.0\n",
      "2        50.0       0.0\n",
      "3        60.0       0.0\n",
      "4        67.0       1.0\n"
     ]
    }
   ],
   "source": [
    "print(df.head())"
   ]
  },
  {
   "cell_type": "code",
   "execution_count": 5,
   "id": "e0beccb2",
   "metadata": {},
   "outputs": [
    {
     "name": "stdout",
     "output_type": "stream",
     "text": [
      "(20, 2)\n"
     ]
    }
   ],
   "source": [
    "print(df.shape)"
   ]
  },
  {
   "cell_type": "code",
   "execution_count": 6,
   "id": "9785304f",
   "metadata": {},
   "outputs": [],
   "source": [
    "X = df['exam_score']\n",
    "y = df['admitted']"
   ]
  },
  {
   "cell_type": "code",
   "execution_count": 7,
   "id": "acb50718",
   "metadata": {},
   "outputs": [
    {
     "name": "stdout",
     "output_type": "stream",
     "text": [
      "0    35.0\n",
      "1    42.0\n",
      "2    50.0\n",
      "3    60.0\n",
      "4    67.0\n",
      "Name: exam_score, dtype: float64\n",
      "0    0.0\n",
      "1    0.0\n",
      "2    0.0\n",
      "3    0.0\n",
      "4    1.0\n",
      "Name: admitted, dtype: float64\n"
     ]
    }
   ],
   "source": [
    "print(X.head())\n",
    "print(y.head())"
   ]
  },
  {
   "cell_type": "code",
   "execution_count": 8,
   "id": "4362e639",
   "metadata": {},
   "outputs": [],
   "source": [
    "X_mean = X.mean()\n",
    "X_min = X.min()\n",
    "X_max = X.max()\n",
    "X_std = X.std(ddof=0)"
   ]
  },
  {
   "cell_type": "code",
   "execution_count": 9,
   "id": "bce9bfcd",
   "metadata": {},
   "outputs": [
    {
     "name": "stdout",
     "output_type": "stream",
     "text": [
      "115.45 35.0 230.0 55.21727537646167\n"
     ]
    }
   ],
   "source": [
    "print(X_mean, X_min, X_max, X_std)"
   ]
  },
  {
   "cell_type": "code",
   "execution_count": 10,
   "id": "e0373c04",
   "metadata": {},
   "outputs": [],
   "source": [
    "def sigmoid(z):\n",
    "    return 1 / (1 + np.exp(-z))"
   ]
  },
  {
   "cell_type": "code",
   "execution_count": 11,
   "id": "40f13178",
   "metadata": {},
   "outputs": [],
   "source": [
    "def loss_fn(X, y, theta0, theta1):\n",
    "    ep = 1e-8\n",
    "    n = len(X)\n",
    "    z = theta0 + (theta1 * X)\n",
    "    y_cap = sigmoid(z)\n",
    "\n",
    "    grad = np.sum((y * np.log(y_cap + ep)) + ((1 - y) * np.log(1 - y_cap + ep)))\n",
    "    return (-1 / n) * grad"
   ]
  },
  {
   "cell_type": "code",
   "execution_count": 12,
   "id": "749da7ec",
   "metadata": {},
   "outputs": [],
   "source": [
    "def gradient_descent(X, y, alpha=0.01, epochs=1000):\n",
    "    theta0, theta1 = 0, 0\n",
    "    n = len(X)\n",
    "    for epoch in range(epochs):\n",
    "        z = theta0 + (theta1 * X)\n",
    "        y_cap = sigmoid(z)\n",
    "\n",
    "        grad0 = np.sum(y_cap - y) / n\n",
    "        grad1 = np.sum((y_cap - y) * X) / n\n",
    "\n",
    "        theta0 -= alpha * grad0\n",
    "        theta1 -= alpha * grad1\n",
    "\n",
    "    return theta0, theta1"
   ]
  },
  {
   "cell_type": "code",
   "execution_count": 13,
   "id": "58ea4867",
   "metadata": {},
   "outputs": [],
   "source": [
    "theta0, theta1 = gradient_descent(X, y)"
   ]
  },
  {
   "cell_type": "code",
   "execution_count": 14,
   "id": "6b3d8559",
   "metadata": {},
   "outputs": [
    {
     "name": "stdout",
     "output_type": "stream",
     "text": [
      "-1.176757571288268 0.19101263702684323\n"
     ]
    }
   ],
   "source": [
    "print(theta0, theta1)"
   ]
  },
  {
   "cell_type": "code",
   "execution_count": 15,
   "id": "1a7a73f6",
   "metadata": {},
   "outputs": [],
   "source": [
    "final_loss = loss_fn(X, y, theta0, theta1)"
   ]
  },
  {
   "cell_type": "code",
   "execution_count": 16,
   "id": "08326ea9",
   "metadata": {},
   "outputs": [
    {
     "name": "stdout",
     "output_type": "stream",
     "text": [
      "1.5508684160835362\n"
     ]
    }
   ],
   "source": [
    "print(final_loss)"
   ]
  },
  {
   "cell_type": "code",
   "execution_count": 17,
   "id": "6413e668",
   "metadata": {},
   "outputs": [],
   "source": [
    "def predict(val):\n",
    "    z = theta0 + (theta1 * val)\n",
    "    y_cap = sigmoid(z)\n",
    "    return y_cap"
   ]
  },
  {
   "cell_type": "code",
   "execution_count": 18,
   "id": "5cf638f7",
   "metadata": {},
   "outputs": [
    {
     "name": "stdout",
     "output_type": "stream",
     "text": [
      "0.9999868498446497\n",
      "0.9999999999995504\n"
     ]
    }
   ],
   "source": [
    "print(predict(65))\n",
    "print(predict(155))"
   ]
  },
  {
   "cell_type": "code",
   "execution_count": null,
   "id": "a09dd89b",
   "metadata": {},
   "outputs": [],
   "source": []
  }
 ],
 "metadata": {
  "kernelspec": {
   "display_name": "Python 3",
   "language": "python",
   "name": "python3"
  },
  "language_info": {
   "codemirror_mode": {
    "name": "ipython",
    "version": 3
   },
   "file_extension": ".py",
   "mimetype": "text/x-python",
   "name": "python",
   "nbconvert_exporter": "python",
   "pygments_lexer": "ipython3",
   "version": "3.12.1"
  }
 },
 "nbformat": 4,
 "nbformat_minor": 5
}
