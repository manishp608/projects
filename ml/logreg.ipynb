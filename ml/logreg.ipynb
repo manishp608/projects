{
 "cells": [
  {
   "cell_type": "markdown",
   "id": "462804e0",
   "metadata": {},
   "source": [
    "# Logistic Regression"
   ]
  },
  {
   "cell_type": "markdown",
   "id": "6d6e06dd",
   "metadata": {},
   "source": [
    "## One Variable"
   ]
  },
  {
   "cell_type": "code",
   "execution_count": 1,
   "id": "e16718bc",
   "metadata": {},
   "outputs": [
    {
     "name": "stderr",
     "output_type": "stream",
     "text": [
      "C:\\Users\\manis\\AppData\\Local\\Temp\\ipykernel_1012\\2162656668.py:1: DeprecationWarning: \n",
      "Pyarrow will become a required dependency of pandas in the next major release of pandas (pandas 3.0),\n",
      "(to allow more performant data types, such as the Arrow string type, and better interoperability with other libraries)\n",
      "but was not found to be installed on your system.\n",
      "If this would cause problems for you,\n",
      "please provide us feedback at https://github.com/pandas-dev/pandas/issues/54466\n",
      "        \n",
      "  import pandas as pd\n"
     ]
    }
   ],
   "source": [
    "import pandas as pd\n",
    "import numpy as np"
   ]
  },
  {
   "cell_type": "code",
   "execution_count": 2,
   "id": "f145346a",
   "metadata": {},
   "outputs": [],
   "source": [
    "df = [\n",
    "    [35.0, 0.0],\n",
    "    [42.0, 0.0],\n",
    "    [50.0, 0.0],\n",
    "    [60.0, 0.0],\n",
    "    [67.0, 1.0],\n",
    "    [75.0, 1.0],\n",
    "    [80.0, 1.0],\n",
    "    [90.0, 1.0],\n",
    "    [95.0, 1.0],\n",
    "    [100.0, 1.0],\n",
    "    [110.0, 1.0],\n",
    "    [120.0, 1.0],\n",
    "    [130.0, 1.0],\n",
    "    [140.0, 1.0],\n",
    "    [150.0, 1.0],\n",
    "    [160.0, 1.0],\n",
    "    [175.0, 1.0],\n",
    "    [190.0, 1.0],\n",
    "    [210.0, 1.0],\n",
    "    [230.0, 1.0]\n",
    "]\n"
   ]
  },
  {
   "cell_type": "code",
   "execution_count": 3,
   "id": "5d616023",
   "metadata": {},
   "outputs": [],
   "source": [
    "df = pd.DataFrame(df, columns=['exam_score', 'admitted'])"
   ]
  },
  {
   "cell_type": "code",
   "execution_count": 4,
   "id": "132bbf98",
   "metadata": {},
   "outputs": [
    {
     "name": "stdout",
     "output_type": "stream",
     "text": [
      "   exam_score  admitted\n",
      "0        35.0       0.0\n",
      "1        42.0       0.0\n",
      "2        50.0       0.0\n",
      "3        60.0       0.0\n",
      "4        67.0       1.0\n"
     ]
    }
   ],
   "source": [
    "print(df.head())"
   ]
  },
  {
   "cell_type": "code",
   "execution_count": 5,
   "id": "d02d49a0",
   "metadata": {},
   "outputs": [
    {
     "name": "stdout",
     "output_type": "stream",
     "text": [
      "(20, 2)\n"
     ]
    }
   ],
   "source": [
    "print(df.shape)"
   ]
  },
  {
   "cell_type": "code",
   "execution_count": 6,
   "id": "e06098f8",
   "metadata": {},
   "outputs": [],
   "source": [
    "X = df['exam_score']\n",
    "y = df['admitted']"
   ]
  },
  {
   "cell_type": "code",
   "execution_count": 7,
   "id": "15a0777b",
   "metadata": {},
   "outputs": [
    {
     "name": "stdout",
     "output_type": "stream",
     "text": [
      "115.45 55.22 35.00 230.00\n"
     ]
    }
   ],
   "source": [
    "mean_val = X.mean()\n",
    "std_val = X.std(ddof=0)\n",
    "min_val = X.min()\n",
    "max_val = X.max()\n",
    "\n",
    "print(f\"{mean_val:.2f} {std_val:.2f} {min_val:.2f} {max_val:.2f}\")"
   ]
  },
  {
   "cell_type": "markdown",
   "id": "2d3b7597",
   "metadata": {},
   "source": [
    "### Logistic Functions"
   ]
  },
  {
   "cell_type": "code",
   "execution_count": 8,
   "id": "7ce39409",
   "metadata": {},
   "outputs": [],
   "source": [
    "alpha = 0.01\n",
    "epochs = 1000\n",
    "theta0 = 0.0\n",
    "theta1 = 0.0\n",
    "n = len(df)"
   ]
  },
  {
   "cell_type": "code",
   "execution_count": 9,
   "id": "6805a218",
   "metadata": {},
   "outputs": [],
   "source": [
    "def sigmoid(z):\n",
    "    return 1 / (1 + np.exp(-z))"
   ]
  },
  {
   "cell_type": "code",
   "execution_count": 10,
   "id": "23bb75f4",
   "metadata": {},
   "outputs": [],
   "source": [
    "for i in range(epochs):\n",
    "    z = theta0 + (theta1 * X)\n",
    "    y_cap = sigmoid(z)\n",
    "\n",
    "    grad0 = np.mean(y_cap - y)\n",
    "    grad1 = np.mean((y_cap - y) * X)\n",
    "\n",
    "    theta0 -= alpha * grad0\n",
    "    theta1 -= alpha * grad1"
   ]
  },
  {
   "cell_type": "code",
   "execution_count": 11,
   "id": "2db5c5d1",
   "metadata": {},
   "outputs": [
    {
     "name": "stdout",
     "output_type": "stream",
     "text": [
      "-1.18 0.19\n"
     ]
    }
   ],
   "source": [
    "print(f\"{theta0:.2f} {theta1:.2f}\")"
   ]
  },
  {
   "cell_type": "code",
   "execution_count": 12,
   "id": "932fc61a",
   "metadata": {},
   "outputs": [],
   "source": [
    "def calculate_loss(y, y_cap):\n",
    "    ep = 1e-8\n",
    "    return -np.mean((y * np.log(y_cap + ep)) + ((1 - y) * np.log(1 - y_cap + ep)))"
   ]
  },
  {
   "cell_type": "code",
   "execution_count": 13,
   "id": "7a167f3f",
   "metadata": {},
   "outputs": [],
   "source": [
    "z = theta0 + (theta1 * X)\n",
    "ypred = sigmoid(z)\n",
    "loss = calculate_loss(y, ypred)"
   ]
  },
  {
   "cell_type": "code",
   "execution_count": 14,
   "id": "0fe34965",
   "metadata": {},
   "outputs": [
    {
     "name": "stdout",
     "output_type": "stream",
     "text": [
      "1.55\n"
     ]
    }
   ],
   "source": [
    "print(f\"{loss:.2f}\")"
   ]
  },
  {
   "cell_type": "code",
   "execution_count": 15,
   "id": "551e6e41",
   "metadata": {},
   "outputs": [],
   "source": [
    "def predict(val):\n",
    "    z = theta0 + (theta1 * val)\n",
    "    return sigmoid(z)"
   ]
  },
  {
   "cell_type": "code",
   "execution_count": 16,
   "id": "c74a00a3",
   "metadata": {},
   "outputs": [
    {
     "name": "stdout",
     "output_type": "stream",
     "text": [
      "1.00\n",
      "1.00\n"
     ]
    }
   ],
   "source": [
    "print(f\"{predict(65):.2f}\")\n",
    "print(f\"{predict(155):.2f}\")"
   ]
  },
  {
   "cell_type": "markdown",
   "id": "17750dad",
   "metadata": {},
   "source": [
    "## Multi Variable"
   ]
  },
  {
   "cell_type": "code",
   "execution_count": 17,
   "id": "c4ff6235",
   "metadata": {},
   "outputs": [],
   "source": [
    "import pandas as pd\n",
    "import numpy as np"
   ]
  },
  {
   "cell_type": "code",
   "execution_count": 45,
   "id": "8a13c721",
   "metadata": {},
   "outputs": [],
   "source": [
    "df = [\n",
    "    [35, 40, 5, 0],\n",
    "    [42, 50, 6, 0],\n",
    "    [50, 52, 7, 0],\n",
    "    [60, 65, 8, 0],\n",
    "    [67, 70, 9, 1],\n",
    "    [75, 78, 10, 1],\n",
    "    [80, 85, 12, 1],\n",
    "    [90, 88, 14, 1],\n",
    "    [95, 90, 15, 1],\n",
    "    [100, 92, 16, 1],\n",
    "    [110, 100, 17, 1],\n",
    "    [120, 105, 18, 1],\n",
    "    [130, 110, 19, 1],\n",
    "    [140, 115, 20, 1],\n",
    "    [150, 118, 22, 1],\n",
    "    [160, 120, 24, 1],\n",
    "    [175, 125, 25, 1],\n",
    "    [190, 128, 26, 1],\n",
    "    [210, 130, 28, 1],\n",
    "    [230, 135, 30, 1]\n",
    "]\n",
    "\n",
    "df = pd.DataFrame(df, columns=['exam1', 'exam2', 'hours_study', 'admitted'])\n"
   ]
  },
  {
   "cell_type": "code",
   "execution_count": 46,
   "id": "e034898b",
   "metadata": {},
   "outputs": [
    {
     "name": "stdout",
     "output_type": "stream",
     "text": [
      "   exam1  exam2  hours_study  admitted\n",
      "0     35     40            5         0\n",
      "1     42     50            6         0\n",
      "2     50     52            7         0\n",
      "3     60     65            8         0\n",
      "4     67     70            9         1\n"
     ]
    }
   ],
   "source": [
    "print(df.head())"
   ]
  },
  {
   "cell_type": "code",
   "execution_count": 47,
   "id": "9c64a551",
   "metadata": {},
   "outputs": [
    {
     "name": "stdout",
     "output_type": "stream",
     "text": [
      "(20, 4)\n"
     ]
    }
   ],
   "source": [
    "print(df.shape)"
   ]
  },
  {
   "cell_type": "code",
   "execution_count": 48,
   "id": "de8e85fc",
   "metadata": {},
   "outputs": [],
   "source": [
    "X = df.iloc[:, :-1]\n",
    "y = df.iloc[:, -1]"
   ]
  },
  {
   "cell_type": "code",
   "execution_count": 49,
   "id": "98694e56",
   "metadata": {},
   "outputs": [
    {
     "name": "stdout",
     "output_type": "stream",
     "text": [
      "   exam1  exam2  hours_study\n",
      "0     35     40            5\n",
      "1     42     50            6\n",
      "2     50     52            7\n",
      "3     60     65            8\n",
      "4     67     70            9\n"
     ]
    }
   ],
   "source": [
    "print(X.head())"
   ]
  },
  {
   "cell_type": "code",
   "execution_count": 50,
   "id": "fb2a9b59",
   "metadata": {},
   "outputs": [
    {
     "name": "stdout",
     "output_type": "stream",
     "text": [
      "0    0\n",
      "1    0\n",
      "2    0\n",
      "3    0\n",
      "4    1\n",
      "Name: admitted, dtype: int64\n"
     ]
    }
   ],
   "source": [
    "print(y.head())"
   ]
  },
  {
   "cell_type": "code",
   "execution_count": 53,
   "id": "6c909fef",
   "metadata": {},
   "outputs": [],
   "source": [
    "mean_vals = X.mean()\n",
    "min_vals = X.min()\n",
    "max_vals = X.max()\n",
    "std_vals = X.std(ddof=1)"
   ]
  },
  {
   "cell_type": "code",
   "execution_count": 54,
   "id": "43ff5dc4",
   "metadata": {},
   "outputs": [
    {
     "name": "stdout",
     "output_type": "stream",
     "text": [
      "35.00 230.00 115.45 56.65\n",
      "40.00 135.00 94.80 28.67\n",
      "5.00 30.00 16.55 7.67\n"
     ]
    },
    {
     "name": "stderr",
     "output_type": "stream",
     "text": [
      "C:\\Users\\manis\\AppData\\Local\\Temp\\ipykernel_1012\\2940200990.py:2: FutureWarning: Series.__getitem__ treating keys as positions is deprecated. In a future version, integer keys will always be treated as labels (consistent with DataFrame behavior). To access a value by position, use `ser.iloc[pos]`\n",
      "  print(f\"{min_vals[i]:.2f} {max_vals[i]:.2f} {mean_vals[i]:.2f} {std_vals[i]:.2f}\")\n"
     ]
    }
   ],
   "source": [
    "for i in range(3):\n",
    "    print(f\"{min_vals[i]:.2f} {max_vals[i]:.2f} {mean_vals[i]:.2f} {std_vals[i]:.2f}\")"
   ]
  },
  {
   "cell_type": "code",
   "execution_count": 55,
   "id": "8adeeb1e",
   "metadata": {},
   "outputs": [],
   "source": [
    "std_vals = X.std(ddof=0)"
   ]
  },
  {
   "cell_type": "code",
   "execution_count": 56,
   "id": "0ac6b6ba",
   "metadata": {},
   "outputs": [],
   "source": [
    "X_std = (X - mean_vals) / std_vals"
   ]
  },
  {
   "cell_type": "code",
   "execution_count": 57,
   "id": "6cf1e44b",
   "metadata": {},
   "outputs": [
    {
     "name": "stdout",
     "output_type": "stream",
     "text": [
      "      exam1     exam2  hours_study\n",
      "0 -1.456972 -1.961325    -1.545540\n",
      "1 -1.330200 -1.603419    -1.411727\n",
      "2 -1.185317 -1.531838    -1.277914\n",
      "3 -1.004215 -1.066560    -1.144101\n",
      "4 -0.877443 -0.887607    -1.010288\n"
     ]
    }
   ],
   "source": [
    "print(X_std.head())"
   ]
  },
  {
   "cell_type": "code",
   "execution_count": 101,
   "id": "d5f2cfc0",
   "metadata": {},
   "outputs": [],
   "source": [
    "X_aug = np.c_[np.ones(X.shape[0]), X_std]"
   ]
  },
  {
   "cell_type": "code",
   "execution_count": 102,
   "id": "a1f2b725",
   "metadata": {},
   "outputs": [
    {
     "name": "stdout",
     "output_type": "stream",
     "text": [
      "[[ 1.         -1.45697156 -1.96132514 -1.54553952]\n",
      " [ 1.         -1.33019964 -1.60341909 -1.41172658]\n",
      " [ 1.         -1.18531745 -1.53183788 -1.27791363]\n",
      " [ 1.         -1.00421471 -1.06656002 -1.14410069]\n",
      " [ 1.         -0.87744279 -0.887607   -1.01028774]\n",
      " [ 1.         -0.73256059 -0.60128216 -0.8764748 ]\n",
      " [ 1.         -0.64200922 -0.35074793 -0.6088489 ]\n",
      " [ 1.         -0.46090648 -0.24337611 -0.34122301]\n",
      " [ 1.         -0.37035511 -0.1717949  -0.20741007]\n",
      " [ 1.         -0.27980374 -0.10021369 -0.07359712]\n",
      " [ 1.         -0.09870099  0.18611114  0.06021583]\n",
      " [ 1.          0.08240175  0.36506417  0.19402877]\n",
      " [ 1.          0.26350449  0.54401719  0.32784172]\n",
      " [ 1.          0.44460723  0.72297022  0.46165466]\n",
      " [ 1.          0.62570998  0.83034203  0.72928055]\n",
      " [ 1.          0.80681272  0.90192324  0.99690645]\n",
      " [ 1.          1.07846683  1.08087626  1.13071939]\n",
      " [ 1.          1.35012094  1.18824808  1.26453234]\n",
      " [ 1.          1.71232643  1.25982929  1.53215823]\n",
      " [ 1.          2.07453191  1.43878231  1.79978412]]\n"
     ]
    }
   ],
   "source": [
    "print(X_aug)"
   ]
  },
  {
   "cell_type": "code",
   "execution_count": 103,
   "id": "2167ee3a",
   "metadata": {},
   "outputs": [
    {
     "data": {
      "text/plain": [
       "(20,)"
      ]
     },
     "execution_count": 103,
     "metadata": {},
     "output_type": "execute_result"
    }
   ],
   "source": [
    "y.shape"
   ]
  },
  {
   "cell_type": "code",
   "execution_count": 104,
   "id": "598be4ca",
   "metadata": {},
   "outputs": [],
   "source": [
    "def sigmoid(z):\n",
    "    return 1 / (1 + np.exp(-z))"
   ]
  },
  {
   "cell_type": "code",
   "execution_count": 105,
   "id": "9680151b",
   "metadata": {},
   "outputs": [],
   "source": [
    "def loss(X, y, theta):\n",
    "    y_cap = sigmoid(X.dot(theta))\n",
    "    ep = 1e-5\n",
    "    loss = (-1/n) * (y.dot(np.log(y_cap + ep)) + (1 - y).dot(np.log(1 - y_cap + ep)))\n",
    "    return loss"
   ]
  },
  {
   "cell_type": "code",
   "execution_count": 106,
   "id": "f3847179",
   "metadata": {},
   "outputs": [
    {
     "name": "stdout",
     "output_type": "stream",
     "text": [
      "20\n"
     ]
    }
   ],
   "source": [
    "print(n)"
   ]
  },
  {
   "cell_type": "code",
   "execution_count": 107,
   "id": "7a110ab5",
   "metadata": {},
   "outputs": [],
   "source": [
    "def gradient_descent(X, y, alpha=0.01, epochs=1500):\n",
    "    theta = np.zeros(X.shape[1])\n",
    "    for epoch in range(epochs):\n",
    "        h = sigmoid(X.dot(theta))\n",
    "        gradient = (1 / n) * (X.T.dot(h - y))\n",
    "        theta -= alpha * gradient\n",
    "    return theta"
   ]
  },
  {
   "cell_type": "code",
   "execution_count": 108,
   "id": "c20ffb42",
   "metadata": {},
   "outputs": [],
   "source": [
    "theta = gradient_descent(X_aug, y)\n",
    "final_loss = loss(X_aug, y, theta)"
   ]
  },
  {
   "cell_type": "code",
   "execution_count": 110,
   "id": "c6c7dec1",
   "metadata": {},
   "outputs": [],
   "source": [
    "t_final = np.round(theta.flatten(), 2)"
   ]
  },
  {
   "cell_type": "code",
   "execution_count": 111,
   "id": "0fcdcdec",
   "metadata": {},
   "outputs": [
    {
     "name": "stdout",
     "output_type": "stream",
     "text": [
      "Final theta: [1.86, 0.45, 1.06, 0.61]\n",
      "Final loss: 0.2 \n",
      "\n",
      "\n"
     ]
    }
   ],
   "source": [
    "print(f\"Final theta: {list(t_final)}\")\n",
    "print(f\"Final loss: {round(final_loss, 2)} \\n\\n\")"
   ]
  },
  {
   "cell_type": "code",
   "execution_count": null,
   "id": "ccd163cb",
   "metadata": {},
   "outputs": [],
   "source": [
    "def predict(X):\n",
    "    X_std = (X - mean_vals) / std_vals\n",
    "    X_aug = np.c_[np.ones(X_std.shape[0]), X_std]\n",
    "    p = sigmoid(X_aug.dot(theta))\n",
    "    return p"
   ]
  },
  {
   "cell_type": "code",
   "execution_count": 116,
   "id": "d6f2cdc6",
   "metadata": {},
   "outputs": [],
   "source": [
    "new = pd.DataFrame([[72, 80, 11], [150, 118, 20]], columns=['exam1', 'exam2', 'hours_study'])\n",
    "new_norm = (new - mean_vals) / (std_vals)\n",
    "new_aug = np.c_[np.ones(new_norm.shape[0]), new_norm]"
   ]
  },
  {
   "cell_type": "code",
   "execution_count": 123,
   "id": "96bba0be",
   "metadata": {},
   "outputs": [
    {
     "name": "stdout",
     "output_type": "stream",
     "text": [
      "0.62\n",
      "0.96\n"
     ]
    }
   ],
   "source": [
    "\n",
    "pred = new_aug.dot(theta)\n",
    "pred = sigmoid(pred)\n",
    "\n",
    "for price in pred:\n",
    "    print(round(price, 2))"
   ]
  },
  {
   "cell_type": "code",
   "execution_count": null,
   "id": "1d25b6a9",
   "metadata": {},
   "outputs": [],
   "source": []
  },
  {
   "cell_type": "code",
   "execution_count": null,
   "id": "fb32b806",
   "metadata": {},
   "outputs": [],
   "source": []
  }
 ],
 "metadata": {
  "kernelspec": {
   "display_name": "Python 3",
   "language": "python",
   "name": "python3"
  },
  "language_info": {
   "codemirror_mode": {
    "name": "ipython",
    "version": 3
   },
   "file_extension": ".py",
   "mimetype": "text/x-python",
   "name": "python",
   "nbconvert_exporter": "python",
   "pygments_lexer": "ipython3",
   "version": "3.12.1"
  }
 },
 "nbformat": 4,
 "nbformat_minor": 5
}
