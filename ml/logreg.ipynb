{
 "cells": [
  {
   "cell_type": "markdown",
   "id": "462804e0",
   "metadata": {},
   "source": [
    "# Logistic Regression"
   ]
  },
  {
   "cell_type": "markdown",
   "id": "6d6e06dd",
   "metadata": {},
   "source": [
    "## One Variable"
   ]
  },
  {
   "cell_type": "code",
   "execution_count": 1,
   "id": "e16718bc",
   "metadata": {},
   "outputs": [
    {
     "name": "stderr",
     "output_type": "stream",
     "text": [
      "C:\\Users\\manis\\AppData\\Local\\Temp\\ipykernel_31812\\2162656668.py:1: DeprecationWarning: \n",
      "Pyarrow will become a required dependency of pandas in the next major release of pandas (pandas 3.0),\n",
      "(to allow more performant data types, such as the Arrow string type, and better interoperability with other libraries)\n",
      "but was not found to be installed on your system.\n",
      "If this would cause problems for you,\n",
      "please provide us feedback at https://github.com/pandas-dev/pandas/issues/54466\n",
      "        \n",
      "  import pandas as pd\n"
     ]
    }
   ],
   "source": [
    "import pandas as pd\n",
    "import numpy as np"
   ]
  },
  {
   "cell_type": "code",
   "execution_count": 4,
   "id": "f145346a",
   "metadata": {},
   "outputs": [],
   "source": [
    "df = [\n",
    "    [35.0, 0.0],\n",
    "    [42.0, 0.0],\n",
    "    [50.0, 0.0],\n",
    "    [60.0, 0.0],\n",
    "    [67.0, 1.0],\n",
    "    [75.0, 1.0],\n",
    "    [80.0, 1.0],\n",
    "    [90.0, 1.0],\n",
    "    [95.0, 1.0],\n",
    "    [100.0, 1.0],\n",
    "    [110.0, 1.0],\n",
    "    [120.0, 1.0],\n",
    "    [130.0, 1.0],\n",
    "    [140.0, 1.0],\n",
    "    [150.0, 1.0],\n",
    "    [160.0, 1.0],\n",
    "    [175.0, 1.0],\n",
    "    [190.0, 1.0],\n",
    "    [210.0, 1.0],\n",
    "    [230.0, 1.0]\n",
    "]\n"
   ]
  },
  {
   "cell_type": "code",
   "execution_count": 5,
   "id": "5d616023",
   "metadata": {},
   "outputs": [],
   "source": [
    "df = pd.DataFrame(df, columns=['exam_score', 'admitted'])"
   ]
  },
  {
   "cell_type": "code",
   "execution_count": 6,
   "id": "132bbf98",
   "metadata": {},
   "outputs": [
    {
     "name": "stdout",
     "output_type": "stream",
     "text": [
      "   exam_score  admitted\n",
      "0        35.0       0.0\n",
      "1        42.0       0.0\n",
      "2        50.0       0.0\n",
      "3        60.0       0.0\n",
      "4        67.0       1.0\n"
     ]
    }
   ],
   "source": [
    "print(df.head())"
   ]
  },
  {
   "cell_type": "code",
   "execution_count": 8,
   "id": "d02d49a0",
   "metadata": {},
   "outputs": [
    {
     "name": "stdout",
     "output_type": "stream",
     "text": [
      "(20, 2)\n"
     ]
    }
   ],
   "source": [
    "print(df.shape)"
   ]
  },
  {
   "cell_type": "code",
   "execution_count": 36,
   "id": "e06098f8",
   "metadata": {},
   "outputs": [],
   "source": [
    "X = df['exam_score']\n",
    "y = df['admitted']"
   ]
  },
  {
   "cell_type": "code",
   "execution_count": 37,
   "id": "15a0777b",
   "metadata": {},
   "outputs": [
    {
     "name": "stdout",
     "output_type": "stream",
     "text": [
      "115.45 55.22 35.00 230.00\n"
     ]
    }
   ],
   "source": [
    "mean_val = X.mean()\n",
    "std_val = X.std(ddof=0)\n",
    "min_val = X.min()\n",
    "max_val = X.max()\n",
    "\n",
    "print(f\"{mean_val:.2f} {std_val:.2f} {min_val:.2f} {max_val:.2f}\")"
   ]
  },
  {
   "cell_type": "markdown",
   "id": "2d3b7597",
   "metadata": {},
   "source": [
    "### Logistic Functions"
   ]
  },
  {
   "cell_type": "code",
   "execution_count": 38,
   "id": "7ce39409",
   "metadata": {},
   "outputs": [],
   "source": [
    "alpha = 0.01\n",
    "epochs = 1000\n",
    "theta0 = 0.0\n",
    "theta1 = 0.0\n",
    "n = len(df)"
   ]
  },
  {
   "cell_type": "code",
   "execution_count": 39,
   "id": "6805a218",
   "metadata": {},
   "outputs": [],
   "source": [
    "def sigmoid(z):\n",
    "    return 1 / (1 + np.exp(-z))"
   ]
  },
  {
   "cell_type": "code",
   "execution_count": 40,
   "id": "23bb75f4",
   "metadata": {},
   "outputs": [],
   "source": [
    "for i in range(epochs):\n",
    "    z = theta0 + (theta1 * X)\n",
    "    y_cap = sigmoid(z)\n",
    "\n",
    "    grad0 = np.mean(y_cap - y)\n",
    "    grad1 = np.mean((y_cap - y) * X)\n",
    "\n",
    "    theta0 -= alpha * grad0\n",
    "    theta1 -= alpha * grad1"
   ]
  },
  {
   "cell_type": "code",
   "execution_count": 41,
   "id": "2db5c5d1",
   "metadata": {},
   "outputs": [
    {
     "name": "stdout",
     "output_type": "stream",
     "text": [
      "-1.18 0.19\n"
     ]
    }
   ],
   "source": [
    "print(f\"{theta0:.2f} {theta1:.2f}\")"
   ]
  },
  {
   "cell_type": "code",
   "execution_count": 42,
   "id": "932fc61a",
   "metadata": {},
   "outputs": [],
   "source": [
    "def calculate_loss(y, y_cap):\n",
    "    ep = 1e-8\n",
    "    return -np.mean((y * np.log(y_cap + ep)) + ((1 - y) * np.log(1 - y_cap + ep)))"
   ]
  },
  {
   "cell_type": "code",
   "execution_count": 43,
   "id": "7a167f3f",
   "metadata": {},
   "outputs": [],
   "source": [
    "z = theta0 + (theta1 * X)\n",
    "ypred = sigmoid(z)\n",
    "loss = calculate_loss(y, ypred)"
   ]
  },
  {
   "cell_type": "code",
   "execution_count": 44,
   "id": "0fe34965",
   "metadata": {},
   "outputs": [
    {
     "name": "stdout",
     "output_type": "stream",
     "text": [
      "1.55\n"
     ]
    }
   ],
   "source": [
    "print(f\"{loss:.2f}\")"
   ]
  },
  {
   "cell_type": "code",
   "execution_count": 45,
   "id": "551e6e41",
   "metadata": {},
   "outputs": [],
   "source": [
    "def predict(val):\n",
    "    z = theta0 + (theta1 * val)\n",
    "    return sigmoid(z)"
   ]
  },
  {
   "cell_type": "code",
   "execution_count": 46,
   "id": "c74a00a3",
   "metadata": {},
   "outputs": [
    {
     "name": "stdout",
     "output_type": "stream",
     "text": [
      "1.00\n",
      "1.00\n"
     ]
    }
   ],
   "source": [
    "print(f\"{predict(65):.2f}\")\n",
    "print(f\"{predict(155):.2f}\")"
   ]
  },
  {
   "cell_type": "code",
   "execution_count": null,
   "id": "17750dad",
   "metadata": {},
   "outputs": [],
   "source": []
  }
 ],
 "metadata": {
  "kernelspec": {
   "display_name": "Python 3",
   "language": "python",
   "name": "python3"
  },
  "language_info": {
   "codemirror_mode": {
    "name": "ipython",
    "version": 3
   },
   "file_extension": ".py",
   "mimetype": "text/x-python",
   "name": "python",
   "nbconvert_exporter": "python",
   "pygments_lexer": "ipython3",
   "version": "3.12.1"
  }
 },
 "nbformat": 4,
 "nbformat_minor": 5
}
