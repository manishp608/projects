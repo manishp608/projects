{
 "cells": [
  {
   "cell_type": "markdown",
   "id": "a3f39ba9",
   "metadata": {},
   "source": [
    "# Univariate Linear Regression"
   ]
  },
  {
   "cell_type": "code",
   "execution_count": 1,
   "id": "16d0c76a",
   "metadata": {},
   "outputs": [
    {
     "name": "stderr",
     "output_type": "stream",
     "text": [
      "C:\\Users\\manis\\AppData\\Local\\Temp\\ipykernel_5304\\1662815981.py:2: DeprecationWarning: \n",
      "Pyarrow will become a required dependency of pandas in the next major release of pandas (pandas 3.0),\n",
      "(to allow more performant data types, such as the Arrow string type, and better interoperability with other libraries)\n",
      "but was not found to be installed on your system.\n",
      "If this would cause problems for you,\n",
      "please provide us feedback at https://github.com/pandas-dev/pandas/issues/54466\n",
      "        \n",
      "  import pandas as pd\n"
     ]
    }
   ],
   "source": [
    "import numpy as np\n",
    "import pandas as pd"
   ]
  },
  {
   "cell_type": "code",
   "execution_count": 2,
   "id": "5553e8dd",
   "metadata": {},
   "outputs": [],
   "source": [
    "data = [\n",
    "    [35.0, 179.0],\n",
    "    [42.0, 200.0],\n",
    "    [50.0, 221.0],\n",
    "    [60.0, 263.0],\n",
    "    [67.0, 280.0],\n",
    "    [75.0, 314.0],\n",
    "    [80.0, 327.0],\n",
    "    [90.0, 360.0],\n",
    "    [95.0, 377.0],\n",
    "    [100.0, 391.0],\n",
    "    [110.0, 425.0],\n",
    "    [120.0, 462.0],\n",
    "    [130.0, 493.0],\n",
    "    [140.0, 521.0],\n",
    "    [150.0, 552.0],\n",
    "    [160.0, 582.0],\n",
    "    [175.0, 631.0],\n",
    "    [190.0, 675.0],\n",
    "    [210.0, 740.0],\n",
    "    [230.0, 804.0],\n",
    "]\n"
   ]
  },
  {
   "cell_type": "code",
   "execution_count": 3,
   "id": "5fa9da9d",
   "metadata": {},
   "outputs": [],
   "source": [
    "df = pd.DataFrame(data, columns=['feature', 'target'])"
   ]
  },
  {
   "cell_type": "code",
   "execution_count": 4,
   "id": "a629e023",
   "metadata": {},
   "outputs": [
    {
     "data": {
      "text/html": [
       "<div>\n",
       "<style scoped>\n",
       "    .dataframe tbody tr th:only-of-type {\n",
       "        vertical-align: middle;\n",
       "    }\n",
       "\n",
       "    .dataframe tbody tr th {\n",
       "        vertical-align: top;\n",
       "    }\n",
       "\n",
       "    .dataframe thead th {\n",
       "        text-align: right;\n",
       "    }\n",
       "</style>\n",
       "<table border=\"1\" class=\"dataframe\">\n",
       "  <thead>\n",
       "    <tr style=\"text-align: right;\">\n",
       "      <th></th>\n",
       "      <th>feature</th>\n",
       "      <th>target</th>\n",
       "    </tr>\n",
       "  </thead>\n",
       "  <tbody>\n",
       "    <tr>\n",
       "      <th>0</th>\n",
       "      <td>35.0</td>\n",
       "      <td>179.0</td>\n",
       "    </tr>\n",
       "    <tr>\n",
       "      <th>1</th>\n",
       "      <td>42.0</td>\n",
       "      <td>200.0</td>\n",
       "    </tr>\n",
       "    <tr>\n",
       "      <th>2</th>\n",
       "      <td>50.0</td>\n",
       "      <td>221.0</td>\n",
       "    </tr>\n",
       "    <tr>\n",
       "      <th>3</th>\n",
       "      <td>60.0</td>\n",
       "      <td>263.0</td>\n",
       "    </tr>\n",
       "    <tr>\n",
       "      <th>4</th>\n",
       "      <td>67.0</td>\n",
       "      <td>280.0</td>\n",
       "    </tr>\n",
       "  </tbody>\n",
       "</table>\n",
       "</div>"
      ],
      "text/plain": [
       "   feature  target\n",
       "0     35.0   179.0\n",
       "1     42.0   200.0\n",
       "2     50.0   221.0\n",
       "3     60.0   263.0\n",
       "4     67.0   280.0"
      ]
     },
     "execution_count": 4,
     "metadata": {},
     "output_type": "execute_result"
    }
   ],
   "source": [
    "df.head()"
   ]
  },
  {
   "cell_type": "code",
   "execution_count": 5,
   "id": "e9ae3094",
   "metadata": {},
   "outputs": [
    {
     "name": "stdout",
     "output_type": "stream",
     "text": [
      "(20, 2)\n"
     ]
    }
   ],
   "source": [
    "print(df.shape)"
   ]
  },
  {
   "cell_type": "code",
   "execution_count": 6,
   "id": "e772c71a",
   "metadata": {},
   "outputs": [
    {
     "name": "stdout",
     "output_type": "stream",
     "text": [
      "115.45\n",
      "55.22\n",
      "35.0\n",
      "230.0\n"
     ]
    }
   ],
   "source": [
    "mean_val = df.iloc[:, 0].mean()\n",
    "print(mean_val)\n",
    "std_val = round(df.iloc[:, 0].std(ddof=0), 2)\n",
    "print(std_val)\n",
    "print(df.iloc[:, 0].min())\n",
    "print(df.iloc[:, 0].max())"
   ]
  },
  {
   "cell_type": "code",
   "execution_count": 7,
   "id": "90faf221",
   "metadata": {},
   "outputs": [],
   "source": [
    "X = df.iloc[:, 0]\n",
    "y = df.iloc[:, 1]"
   ]
  },
  {
   "cell_type": "code",
   "execution_count": 8,
   "id": "9c57c647",
   "metadata": {},
   "outputs": [],
   "source": [
    "X_norm = (X - X.mean()) / (X.std(ddof=0))"
   ]
  },
  {
   "cell_type": "code",
   "execution_count": null,
   "id": "396b9714",
   "metadata": {},
   "outputs": [],
   "source": []
  },
  {
   "cell_type": "markdown",
   "id": "5ca351f8",
   "metadata": {},
   "source": [
    "## Gradient Descent"
   ]
  },
  {
   "cell_type": "code",
   "execution_count": 9,
   "id": "709063ce",
   "metadata": {},
   "outputs": [],
   "source": [
    "theta0 = 0\n",
    "theta1 = 0\n",
    "alpha = 0.01\n",
    "epochs = 1000\n",
    "n = len(df)"
   ]
  },
  {
   "cell_type": "code",
   "execution_count": 10,
   "id": "e4b82bdf",
   "metadata": {},
   "outputs": [
    {
     "name": "stdout",
     "output_type": "stream",
     "text": [
      "439.83101112682647 177.29315298210062\n"
     ]
    }
   ],
   "source": [
    "for i in range(epochs):\n",
    "    y_hat = theta0 + (theta1 * X_norm)\n",
    "\n",
    "    gtheta0 = (y_hat - y).sum() / n\n",
    "    gtheta1 = ((y_hat - y) * X_norm).sum()/ n\n",
    "\n",
    "    theta0 -= alpha * gtheta0\n",
    "    theta1 -= alpha * gtheta1\n",
    "\n",
    "print(theta0, theta1)\n"
   ]
  },
  {
   "cell_type": "code",
   "execution_count": 11,
   "id": "40e92e9b",
   "metadata": {},
   "outputs": [],
   "source": [
    "y_cap = theta0 + (theta1 * X_norm)"
   ]
  },
  {
   "cell_type": "code",
   "execution_count": 12,
   "id": "53b68fc5",
   "metadata": {},
   "outputs": [],
   "source": [
    "mse = ((y_cap - y) ** 2).sum() / (2 * n)"
   ]
  },
  {
   "cell_type": "code",
   "execution_count": 13,
   "id": "ff058740",
   "metadata": {},
   "outputs": [
    {
     "name": "stdout",
     "output_type": "stream",
     "text": [
      "Final theta0=439.831 | theta1=177.293 | Final MSE=7.58\n"
     ]
    }
   ],
   "source": [
    "print(f\"Final theta0={theta0:.3f} | theta1={theta1:.3f} | Final MSE={mse:.2f}\")"
   ]
  },
  {
   "cell_type": "code",
   "execution_count": 14,
   "id": "d31c2f1e",
   "metadata": {},
   "outputs": [
    {
     "name": "stdout",
     "output_type": "stream",
     "text": [
      "550.77\n",
      "711.31\n"
     ]
    }
   ],
   "source": [
    "\n",
    "X_new = np.array([150, 200])\n",
    "X_new_norm = (X_new - X.mean()) / (X.std(ddof=0))\n",
    "# X_new_norm = (X_new - mean_val) / std_val\n",
    "pred = theta0 + theta1 * X_new_norm\n",
    "\n",
    "for p in pred:\n",
    "    print(f\"{p:.2f}\")"
   ]
  },
  {
   "cell_type": "code",
   "execution_count": null,
   "id": "042bbe56",
   "metadata": {},
   "outputs": [],
   "source": []
  },
  {
   "cell_type": "code",
   "execution_count": null,
   "id": "659c25db",
   "metadata": {},
   "outputs": [],
   "source": []
  },
  {
   "cell_type": "code",
   "execution_count": null,
   "id": "45f60003",
   "metadata": {},
   "outputs": [],
   "source": []
  },
  {
   "cell_type": "markdown",
   "id": "be2f21dd",
   "metadata": {},
   "source": [
    "# Multivariate Linear Regression"
   ]
  },
  {
   "cell_type": "code",
   "execution_count": 15,
   "id": "796782e5",
   "metadata": {},
   "outputs": [],
   "source": [
    "import pandas as pd\n",
    "import numpy as np"
   ]
  },
  {
   "cell_type": "code",
   "execution_count": 118,
   "id": "e8a2a6b6",
   "metadata": {},
   "outputs": [],
   "source": [
    "df = [\n",
    "    [35.0, 1.0, 20.0, 179.0],\n",
    "    [42.0, 2.0, 15.0, 200.0],\n",
    "    [50.0, 2.0, 18.0, 221.0],\n",
    "    [60.0, 3.0, 10.0, 263.0],\n",
    "    [67.0, 3.0, 8.0, 280.0],\n",
    "    [75.0, 3.0, 12.0, 314.0],\n",
    "    [80.0, 4.0, 5.0, 327.0],\n",
    "    [90.0, 4.0, 5.0, 360.0],\n",
    "    [95.0, 4.0, 6.0, 377.0],\n",
    "    [100.0, 5.0, 5.0, 391.0],\n",
    "    [110.0, 5.0, 3.0, 425.0],\n",
    "    [120.0, 5.0, 2.0, 462.0],\n",
    "    [130.0, 6.0, 2.0, 493.0],\n",
    "    [140.0, 6.0, 1.0, 521.0],\n",
    "    [150.0, 6.0, 1.0, 552.0],\n",
    "    [160.0, 7.0, 1.0, 582.0],\n",
    "    [175.0, 7.0, 2.0, 631.0],\n",
    "    [190.0, 8.0, 2.0, 675.0],\n",
    "    [210.0, 8.0, 1.0, 740.0],\n",
    "    [230.0, 9.0, 1.0, 804.0]\n",
    "]\n"
   ]
  },
  {
   "cell_type": "code",
   "execution_count": 119,
   "id": "82caa541",
   "metadata": {},
   "outputs": [],
   "source": [
    "df = pd.DataFrame(df, columns=['size', 'rooms', 'age', 'price'])"
   ]
  },
  {
   "cell_type": "code",
   "execution_count": 120,
   "id": "c6047373",
   "metadata": {},
   "outputs": [
    {
     "name": "stdout",
     "output_type": "stream",
     "text": [
      "   size  rooms   age  price\n",
      "0  35.0    1.0  20.0  179.0\n",
      "1  42.0    2.0  15.0  200.0\n",
      "2  50.0    2.0  18.0  221.0\n",
      "3  60.0    3.0  10.0  263.0\n",
      "4  67.0    3.0   8.0  280.0\n"
     ]
    }
   ],
   "source": [
    "print(df.head())"
   ]
  },
  {
   "cell_type": "code",
   "execution_count": 121,
   "id": "d2d3e46c",
   "metadata": {},
   "outputs": [
    {
     "name": "stdout",
     "output_type": "stream",
     "text": [
      "(20, 4)\n"
     ]
    }
   ],
   "source": [
    "print(df.shape)"
   ]
  },
  {
   "cell_type": "code",
   "execution_count": 122,
   "id": "a7195e45",
   "metadata": {},
   "outputs": [],
   "source": [
    "X = df.iloc[:, :-1]\n",
    "y = df.iloc[:, -1]"
   ]
  },
  {
   "cell_type": "code",
   "execution_count": 123,
   "id": "3640a2a2",
   "metadata": {},
   "outputs": [],
   "source": [
    "mean_vals = X.mean(axis=0)\n",
    "std_vals = X.std(axis=0, ddof=0)\n",
    "min_vals = X.min(axis=0)\n",
    "max_vals = X.max(axis=0)"
   ]
  },
  {
   "cell_type": "code",
   "execution_count": 124,
   "id": "e6af6d4d",
   "metadata": {},
   "outputs": [],
   "source": [
    "n = len(df)\n",
    "cols = df.shape[1]"
   ]
  },
  {
   "cell_type": "code",
   "execution_count": 125,
   "id": "f005c26a",
   "metadata": {},
   "outputs": [
    {
     "name": "stdout",
     "output_type": "stream",
     "text": [
      "115.45 55.22 35.00 230.00\n",
      "4.90 2.17 1.00 9.00\n",
      "6.00 5.82 1.00 20.00\n"
     ]
    },
    {
     "name": "stderr",
     "output_type": "stream",
     "text": [
      "C:\\Users\\manis\\AppData\\Local\\Temp\\ipykernel_5304\\3673449494.py:2: FutureWarning: Series.__getitem__ treating keys as positions is deprecated. In a future version, integer keys will always be treated as labels (consistent with DataFrame behavior). To access a value by position, use `ser.iloc[pos]`\n",
      "  print(f\"{mean_vals[i]:.2f} {std_vals[i]:.2f} {min_vals[i]:.2f} {max_vals[i]:.2f}\")\n"
     ]
    }
   ],
   "source": [
    "for i in range(cols - 1):\n",
    "    print(f\"{mean_vals[i]:.2f} {std_vals[i]:.2f} {min_vals[i]:.2f} {max_vals[i]:.2f}\")"
   ]
  },
  {
   "cell_type": "code",
   "execution_count": 126,
   "id": "1a2b4db1",
   "metadata": {},
   "outputs": [],
   "source": [
    "X_norm = (X - mean_vals) / (std_vals)"
   ]
  },
  {
   "cell_type": "code",
   "execution_count": 127,
   "id": "922847c0",
   "metadata": {},
   "outputs": [
    {
     "name": "stdout",
     "output_type": "stream",
     "text": [
      "       size     rooms       age\n",
      "0 -1.456972 -1.800853  2.404519\n",
      "1 -1.330200 -1.339096  1.545762\n",
      "2 -1.185317 -1.339096  2.061016\n",
      "3 -1.004215 -0.877338  0.687005\n",
      "4 -0.877443 -0.877338  0.343503\n"
     ]
    }
   ],
   "source": [
    "print(X_norm.head())"
   ]
  },
  {
   "cell_type": "code",
   "execution_count": 128,
   "id": "3fe8f822",
   "metadata": {},
   "outputs": [],
   "source": [
    "X_aug = np.c_[np.ones(X_norm.shape[0]), X_norm]"
   ]
  },
  {
   "cell_type": "code",
   "execution_count": 129,
   "id": "d74c2e19",
   "metadata": {},
   "outputs": [],
   "source": [
    "def gradientDescent(X, y, alpha, epochs):\n",
    "    theta = np.zeros(X.shape[1])\n",
    "    # n is defined earlier\n",
    "    for i in range(epochs):\n",
    "        pred = X.dot(theta)\n",
    "        grad = (X.T.dot(pred - y)) / (n)\n",
    "        theta -= alpha * grad\n",
    "    return theta\n",
    "\n"
   ]
  },
  {
   "cell_type": "code",
   "execution_count": 130,
   "id": "02d6a01d",
   "metadata": {},
   "outputs": [],
   "source": [
    "alpha = 0.01\n",
    "epochs = 300"
   ]
  },
  {
   "cell_type": "code",
   "execution_count": 131,
   "id": "0b0e3837",
   "metadata": {},
   "outputs": [
    {
     "name": "stdout",
     "output_type": "stream",
     "text": [
      "[418.27936274  82.59776628  69.70922778 -25.24441416]\n"
     ]
    }
   ],
   "source": [
    "theta = gradientDescent(X_aug, y, alpha, epochs)\n",
    "print(theta)"
   ]
  },
  {
   "cell_type": "code",
   "execution_count": 132,
   "id": "2e66ec43",
   "metadata": {},
   "outputs": [],
   "source": [
    "theta_normal = np.linalg.inv(X_aug.T.dot(X_aug)).dot(X_aug.T).dot(y)"
   ]
  },
  {
   "cell_type": "code",
   "execution_count": 133,
   "id": "4ce72b20",
   "metadata": {},
   "outputs": [],
   "source": [
    "def mse(X, y, theta):\n",
    "    y_cap = X.dot(theta)\n",
    "    mse = np.sum((y_cap - y) ** 2) / (2 * n)\n",
    "\n",
    "    return mse"
   ]
  },
  {
   "cell_type": "code",
   "execution_count": 134,
   "id": "d372a867",
   "metadata": {},
   "outputs": [
    {
     "name": "stdout",
     "output_type": "stream",
     "text": [
      "[418.27936274  82.59776628  69.70922778 -25.24441416]\n"
     ]
    }
   ],
   "source": [
    "mse_gd = mse(X_aug, y, theta)\n",
    "print(theta)\n",
    "mse_normal = mse(X_aug, y, theta_normal)"
   ]
  },
  {
   "cell_type": "code",
   "execution_count": 135,
   "id": "d9ec56c3",
   "metadata": {},
   "outputs": [
    {
     "name": "stdout",
     "output_type": "stream",
     "text": [
      "Final theta=[418.279, 82.598, 69.709, -25.244]\n",
      "Final MSE=507.47\n",
      "MSE Difference=503.76598\n"
     ]
    }
   ],
   "source": [
    "print(f\"Final theta=[{', '.join(f'{x:.3f}' for x in theta)}]\")\n",
    "print(f\"Final MSE={round(mse_gd, 2)}\")\n",
    "print(f\"MSE Difference={round(abs(mse_gd - mse_normal), 5)}\")"
   ]
  },
  {
   "cell_type": "code",
   "execution_count": 144,
   "id": "21da2820",
   "metadata": {},
   "outputs": [
    {
     "name": "stdout",
     "output_type": "stream",
     "text": [
      "[418.27936274  82.59776628  69.70922778 -25.24441416]\n"
     ]
    }
   ],
   "source": [
    "print(theta)"
   ]
  },
  {
   "cell_type": "code",
   "execution_count": 153,
   "id": "f485d524",
   "metadata": {},
   "outputs": [],
   "source": [
    "new = pd.DataFrame([[150, 3, 5], [200, 4, 2]], columns=['size', 'rooms', 'age'])\n",
    "new_norm = (new - mean_vals) / (std_vals)\n",
    "new_aug = np.c_[np.ones(new_norm.shape[0]), new_norm]"
   ]
  },
  {
   "cell_type": "code",
   "execution_count": 155,
   "id": "10d69864",
   "metadata": {},
   "outputs": [
    {
     "name": "stdout",
     "output_type": "stream",
     "text": [
      "413.14\n",
      "533.13\n"
     ]
    }
   ],
   "source": [
    "pred_gd = new_aug.dot(theta)\n",
    "\n",
    "for price in pred_gd:\n",
    "    print(round(price, 2))"
   ]
  },
  {
   "cell_type": "code",
   "execution_count": null,
   "id": "f9588e4b",
   "metadata": {},
   "outputs": [],
   "source": []
  }
 ],
 "metadata": {
  "kernelspec": {
   "display_name": "Python 3",
   "language": "python",
   "name": "python3"
  },
  "language_info": {
   "codemirror_mode": {
    "name": "ipython",
    "version": 3
   },
   "file_extension": ".py",
   "mimetype": "text/x-python",
   "name": "python",
   "nbconvert_exporter": "python",
   "pygments_lexer": "ipython3",
   "version": "3.12.1"
  }
 },
 "nbformat": 4,
 "nbformat_minor": 5
}
