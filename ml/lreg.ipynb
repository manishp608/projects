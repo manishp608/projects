{
 "cells": [
  {
   "cell_type": "markdown",
   "id": "a3f39ba9",
   "metadata": {},
   "source": [
    "# Univariate Linear Regression"
   ]
  },
  {
   "cell_type": "code",
   "execution_count": 2,
   "id": "16d0c76a",
   "metadata": {},
   "outputs": [
    {
     "name": "stderr",
     "output_type": "stream",
     "text": [
      "C:\\Users\\manis\\AppData\\Local\\Temp\\ipykernel_8620\\1662815981.py:2: DeprecationWarning: \n",
      "Pyarrow will become a required dependency of pandas in the next major release of pandas (pandas 3.0),\n",
      "(to allow more performant data types, such as the Arrow string type, and better interoperability with other libraries)\n",
      "but was not found to be installed on your system.\n",
      "If this would cause problems for you,\n",
      "please provide us feedback at https://github.com/pandas-dev/pandas/issues/54466\n",
      "        \n",
      "  import pandas as pd\n"
     ]
    }
   ],
   "source": [
    "import numpy as np\n",
    "import pandas as pd"
   ]
  },
  {
   "cell_type": "code",
   "execution_count": 6,
   "id": "5553e8dd",
   "metadata": {},
   "outputs": [],
   "source": [
    "data = [\n",
    "    [35.0, 179.0],\n",
    "    [42.0, 200.0],\n",
    "    [50.0, 221.0],\n",
    "    [60.0, 263.0],\n",
    "    [67.0, 280.0],\n",
    "    [75.0, 314.0],\n",
    "    [80.0, 327.0],\n",
    "    [90.0, 360.0],\n",
    "    [95.0, 377.0],\n",
    "    [100.0, 391.0],\n",
    "    [110.0, 425.0],\n",
    "    [120.0, 462.0],\n",
    "    [130.0, 493.0],\n",
    "    [140.0, 521.0],\n",
    "    [150.0, 552.0],\n",
    "    [160.0, 582.0],\n",
    "    [175.0, 631.0],\n",
    "    [190.0, 675.0],\n",
    "    [210.0, 740.0],\n",
    "    [230.0, 804.0],\n",
    "]\n"
   ]
  },
  {
   "cell_type": "code",
   "execution_count": 8,
   "id": "5fa9da9d",
   "metadata": {},
   "outputs": [],
   "source": [
    "df = pd.DataFrame(data, columns=['feature', 'target'])"
   ]
  },
  {
   "cell_type": "code",
   "execution_count": 13,
   "id": "a629e023",
   "metadata": {},
   "outputs": [
    {
     "data": {
      "text/html": [
       "<div>\n",
       "<style scoped>\n",
       "    .dataframe tbody tr th:only-of-type {\n",
       "        vertical-align: middle;\n",
       "    }\n",
       "\n",
       "    .dataframe tbody tr th {\n",
       "        vertical-align: top;\n",
       "    }\n",
       "\n",
       "    .dataframe thead th {\n",
       "        text-align: right;\n",
       "    }\n",
       "</style>\n",
       "<table border=\"1\" class=\"dataframe\">\n",
       "  <thead>\n",
       "    <tr style=\"text-align: right;\">\n",
       "      <th></th>\n",
       "      <th>feature</th>\n",
       "      <th>target</th>\n",
       "    </tr>\n",
       "  </thead>\n",
       "  <tbody>\n",
       "    <tr>\n",
       "      <th>0</th>\n",
       "      <td>35.0</td>\n",
       "      <td>179.0</td>\n",
       "    </tr>\n",
       "    <tr>\n",
       "      <th>1</th>\n",
       "      <td>42.0</td>\n",
       "      <td>200.0</td>\n",
       "    </tr>\n",
       "    <tr>\n",
       "      <th>2</th>\n",
       "      <td>50.0</td>\n",
       "      <td>221.0</td>\n",
       "    </tr>\n",
       "    <tr>\n",
       "      <th>3</th>\n",
       "      <td>60.0</td>\n",
       "      <td>263.0</td>\n",
       "    </tr>\n",
       "    <tr>\n",
       "      <th>4</th>\n",
       "      <td>67.0</td>\n",
       "      <td>280.0</td>\n",
       "    </tr>\n",
       "  </tbody>\n",
       "</table>\n",
       "</div>"
      ],
      "text/plain": [
       "   feature  target\n",
       "0     35.0   179.0\n",
       "1     42.0   200.0\n",
       "2     50.0   221.0\n",
       "3     60.0   263.0\n",
       "4     67.0   280.0"
      ]
     },
     "execution_count": 13,
     "metadata": {},
     "output_type": "execute_result"
    }
   ],
   "source": [
    "df.head()"
   ]
  },
  {
   "cell_type": "code",
   "execution_count": 14,
   "id": "e9ae3094",
   "metadata": {},
   "outputs": [
    {
     "name": "stdout",
     "output_type": "stream",
     "text": [
      "(20, 2)\n"
     ]
    }
   ],
   "source": [
    "print(df.shape)"
   ]
  },
  {
   "cell_type": "code",
   "execution_count": 27,
   "id": "e772c71a",
   "metadata": {},
   "outputs": [
    {
     "name": "stdout",
     "output_type": "stream",
     "text": [
      "115.45\n",
      "55.22\n",
      "35.0\n",
      "230.0\n"
     ]
    }
   ],
   "source": [
    "print(df.iloc[:, 0].mean())\n",
    "print(round(df.iloc[:, 0].std(ddof=0), 2))\n",
    "print(df.iloc[:, 0].min())\n",
    "print(df.iloc[:, 0].max())"
   ]
  },
  {
   "cell_type": "code",
   "execution_count": 30,
   "id": "90faf221",
   "metadata": {},
   "outputs": [],
   "source": [
    "X = df.iloc[:, 0]\n",
    "y = df.iloc[:, 1]"
   ]
  },
  {
   "cell_type": "code",
   "execution_count": 31,
   "id": "9c57c647",
   "metadata": {},
   "outputs": [],
   "source": [
    "X_norm = (X - X.mean()) / (X.std(ddof=0))"
   ]
  },
  {
   "cell_type": "code",
   "execution_count": null,
   "id": "396b9714",
   "metadata": {},
   "outputs": [
    {
     "name": "stdout",
     "output_type": "stream",
     "text": [
      "0      35.0\n",
      "1      42.0\n",
      "2      50.0\n",
      "3      60.0\n",
      "4      67.0\n",
      "5      75.0\n",
      "6      80.0\n",
      "7      90.0\n",
      "8      95.0\n",
      "9     100.0\n",
      "10    110.0\n",
      "11    120.0\n",
      "12    130.0\n",
      "13    140.0\n",
      "14    150.0\n",
      "15    160.0\n",
      "16    175.0\n",
      "17    190.0\n",
      "18    210.0\n",
      "19    230.0\n",
      "Name: feature, dtype: float64 0    -1.456972\n",
      "1    -1.330200\n",
      "2    -1.185317\n",
      "3    -1.004215\n",
      "4    -0.877443\n",
      "5    -0.732561\n",
      "6    -0.642009\n",
      "7    -0.460906\n",
      "8    -0.370355\n",
      "9    -0.279804\n",
      "10   -0.098701\n",
      "11    0.082402\n",
      "12    0.263504\n",
      "13    0.444607\n",
      "14    0.625710\n",
      "15    0.806813\n",
      "16    1.078467\n",
      "17    1.350121\n",
      "18    1.712326\n",
      "19    2.074532\n",
      "Name: feature, dtype: float64\n"
     ]
    }
   ],
   "source": []
  },
  {
   "cell_type": "markdown",
   "id": "5ca351f8",
   "metadata": {},
   "source": [
    "## Gradient Descent"
   ]
  },
  {
   "cell_type": "code",
   "execution_count": null,
   "id": "709063ce",
   "metadata": {},
   "outputs": [
    {
     "name": "stdout",
     "output_type": "stream",
     "text": [
      "20\n"
     ]
    }
   ],
   "source": [
    "theta0 = 0\n",
    "theta1 = 0\n",
    "alpha = 0.01\n",
    "epochs = 1000\n",
    "n = len(df)"
   ]
  },
  {
   "cell_type": "code",
   "execution_count": 40,
   "id": "e4b82bdf",
   "metadata": {},
   "outputs": [
    {
     "name": "stdout",
     "output_type": "stream",
     "text": [
      "439.85 177.3008072791177\n"
     ]
    }
   ],
   "source": [
    "for i in range(epochs):\n",
    "    y_hat = theta0 + (theta1 * X_norm)\n",
    "\n",
    "    gtheta0 = (y_hat - y).sum() / n\n",
    "    gtheta1 = ((y_hat - y) * X_norm).sum()/ n\n",
    "\n",
    "    theta0 -= alpha * gtheta0\n",
    "    theta1 -= alpha * gtheta1\n",
    "\n",
    "print(theta0, theta1)\n"
   ]
  },
  {
   "cell_type": "code",
   "execution_count": null,
   "id": "40e92e9b",
   "metadata": {},
   "outputs": [],
   "source": []
  }
 ],
 "metadata": {
  "kernelspec": {
   "display_name": "Python 3",
   "language": "python",
   "name": "python3"
  },
  "language_info": {
   "codemirror_mode": {
    "name": "ipython",
    "version": 3
   },
   "file_extension": ".py",
   "mimetype": "text/x-python",
   "name": "python",
   "nbconvert_exporter": "python",
   "pygments_lexer": "ipython3",
   "version": "3.12.1"
  }
 },
 "nbformat": 4,
 "nbformat_minor": 5
}
