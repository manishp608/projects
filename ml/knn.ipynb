{
 "cells": [
  {
   "cell_type": "markdown",
   "id": "637880ac",
   "metadata": {},
   "source": [
    "# KNN"
   ]
  },
  {
   "cell_type": "markdown",
   "id": "2d502778",
   "metadata": {},
   "source": [
    "## Univariate"
   ]
  },
  {
   "cell_type": "code",
   "execution_count": 1,
   "id": "805c0a15",
   "metadata": {},
   "outputs": [
    {
     "name": "stderr",
     "output_type": "stream",
     "text": [
      "C:\\Users\\manis\\AppData\\Local\\Temp\\ipykernel_17384\\2162656668.py:1: DeprecationWarning: \n",
      "Pyarrow will become a required dependency of pandas in the next major release of pandas (pandas 3.0),\n",
      "(to allow more performant data types, such as the Arrow string type, and better interoperability with other libraries)\n",
      "but was not found to be installed on your system.\n",
      "If this would cause problems for you,\n",
      "please provide us feedback at https://github.com/pandas-dev/pandas/issues/54466\n",
      "        \n",
      "  import pandas as pd\n"
     ]
    }
   ],
   "source": [
    "import pandas as pd\n",
    "import numpy as np"
   ]
  },
  {
   "cell_type": "code",
   "execution_count": 2,
   "id": "7c3aff9c",
   "metadata": {},
   "outputs": [],
   "source": [
    "df = [\n",
    "    [5.1, 3.5, 1.4, 0.2, \"setosa\"],\n",
    "    [4.9, 3.0, 1.4, 0.2, \"setosa\"],\n",
    "    [4.7, 3.2, 1.3, 0.2, \"setosa\"],\n",
    "    [4.6, 3.1, 1.5, 0.2, \"setosa\"],\n",
    "    [5.0, 3.6, 1.4, 0.2, \"setosa\"],\n",
    "    [5.4, 3.9, 1.7, 0.4, \"setosa\"],\n",
    "    [5.8, 4.0, 1.2, 0.2, \"setosa\"],\n",
    "    [6.0, 2.2, 4.0, 1.5, \"versicolor\"],\n",
    "    [6.1, 2.8, 4.7, 1.4, \"versicolor\"],\n",
    "    [5.9, 3.0, 4.2, 1.5, \"versicolor\"],\n",
    "    [6.7, 3.1, 4.4, 1.4, \"versicolor\"],\n",
    "    [6.3, 2.5, 4.9, 1.5, \"versicolor\"],\n",
    "    [6.5, 3.0, 5.1, 2.0, \"virginica\"],\n",
    "    [6.2, 2.8, 4.5, 1.5, \"versicolor\"],\n",
    "    [6.4, 2.9, 4.3, 1.3, \"versicolor\"],\n",
    "    [5.5, 2.4, 4.0, 1.3, \"versicolor\"],\n",
    "    [5.7, 2.8, 4.1, 1.3, \"versicolor\"],\n",
    "    [5.8, 2.7, 5.1, 1.9, \"virginica\"],\n",
    "    [6.9, 3.1, 5.4, 2.3, \"virginica\"],\n",
    "    [6.0, 2.2, 5.0, 1.5, \"virginica\"],\n",
    "    [6.3, 2.3, 5.6, 2.4, \"virginica\"],\n",
    "    [6.1, 2.8, 5.6, 2.4, \"virginica\"],\n",
    "    [5.6, 2.9, 3.6, 1.3, \"versicolor\"],\n",
    "    [5.8, 2.7, 4.1, 1.0, \"versicolor\"],\n",
    "    [6.0, 2.9, 4.5, 1.5, \"versicolor\"],\n",
    "    [6.1, 2.6, 4.7, 1.4, \"versicolor\"],\n",
    "    [6.5, 3.0, 5.2, 2.0, \"virginica\"],\n",
    "    [6.2, 2.9, 5.4, 2.3, \"virginica\"],\n",
    "    [5.9, 3.0, 5.1, 1.8, \"virginica\"],\n",
    "    [6.3, 2.7, 5.6, 2.1, \"virginica\"]\n",
    "]\n"
   ]
  },
  {
   "cell_type": "code",
   "execution_count": 3,
   "id": "fd136305",
   "metadata": {},
   "outputs": [],
   "source": [
    "df = pd.DataFrame(df, columns=['SepalLength', 'SepalWidth', 'PetalLength', 'PetalWdith', 'Class'])"
   ]
  },
  {
   "cell_type": "code",
   "execution_count": 4,
   "id": "c1a2d35d",
   "metadata": {},
   "outputs": [
    {
     "name": "stdout",
     "output_type": "stream",
     "text": [
      "   SepalLength  SepalWidth  PetalLength  PetalWdith   Class\n",
      "0          5.1         3.5          1.4         0.2  setosa\n",
      "1          4.9         3.0          1.4         0.2  setosa\n",
      "2          4.7         3.2          1.3         0.2  setosa\n",
      "3          4.6         3.1          1.5         0.2  setosa\n",
      "4          5.0         3.6          1.4         0.2  setosa\n"
     ]
    }
   ],
   "source": [
    "print(df.head())"
   ]
  },
  {
   "cell_type": "code",
   "execution_count": 5,
   "id": "377e4542",
   "metadata": {},
   "outputs": [
    {
     "name": "stdout",
     "output_type": "stream",
     "text": [
      "(30, 5)\n"
     ]
    }
   ],
   "source": [
    "print(df.shape)"
   ]
  },
  {
   "cell_type": "code",
   "execution_count": 6,
   "id": "2ad35ccb",
   "metadata": {},
   "outputs": [],
   "source": [
    "X = df.iloc[:, :-1]\n",
    "y = df.iloc[:, -1]"
   ]
  },
  {
   "cell_type": "code",
   "execution_count": 7,
   "id": "b42c8c6b",
   "metadata": {},
   "outputs": [
    {
     "name": "stdout",
     "output_type": "stream",
     "text": [
      "   SepalLength  SepalWidth  PetalLength  PetalWdith\n",
      "0          5.1         3.5          1.4         0.2\n",
      "1          4.9         3.0          1.4         0.2\n",
      "2          4.7         3.2          1.3         0.2\n",
      "3          4.6         3.1          1.5         0.2\n",
      "4          5.0         3.6          1.4         0.2\n",
      "0    setosa\n",
      "1    setosa\n",
      "2    setosa\n",
      "3    setosa\n",
      "4    setosa\n",
      "Name: Class, dtype: object\n"
     ]
    }
   ],
   "source": [
    "print(X.head())\n",
    "print(y.head())"
   ]
  },
  {
   "cell_type": "code",
   "execution_count": null,
   "id": "695f2466",
   "metadata": {},
   "outputs": [],
   "source": []
  }
 ],
 "metadata": {
  "kernelspec": {
   "display_name": "Python 3",
   "language": "python",
   "name": "python3"
  },
  "language_info": {
   "codemirror_mode": {
    "name": "ipython",
    "version": 3
   },
   "file_extension": ".py",
   "mimetype": "text/x-python",
   "name": "python",
   "nbconvert_exporter": "python",
   "pygments_lexer": "ipython3",
   "version": "3.12.1"
  }
 },
 "nbformat": 4,
 "nbformat_minor": 5
}
