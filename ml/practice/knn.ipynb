{
 "cells": [
  {
   "cell_type": "markdown",
   "id": "637880ac",
   "metadata": {},
   "source": [
    "# KNN"
   ]
  },
  {
   "cell_type": "markdown",
   "id": "2d502778",
   "metadata": {},
   "source": [
    "## Univariate"
   ]
  },
  {
   "cell_type": "code",
   "execution_count": 176,
   "id": "805c0a15",
   "metadata": {},
   "outputs": [],
   "source": [
    "import pandas as pd\n",
    "import numpy as np\n",
    "import math\n",
    "from collections import Counter"
   ]
  },
  {
   "cell_type": "code",
   "execution_count": 177,
   "id": "7c3aff9c",
   "metadata": {},
   "outputs": [],
   "source": [
    "df = [\n",
    "    [5.1, 3.5, 1.4, 0.2, \"setosa\"],\n",
    "    [4.9, 3.0, 1.4, 0.2, \"setosa\"],\n",
    "    [4.7, 3.2, 1.3, 0.2, \"setosa\"],\n",
    "    [4.6, 3.1, 1.5, 0.2, \"setosa\"],\n",
    "    [5.0, 3.6, 1.4, 0.2, \"setosa\"],\n",
    "    [5.4, 3.9, 1.7, 0.4, \"setosa\"],\n",
    "    [5.8, 4.0, 1.2, 0.2, \"setosa\"],\n",
    "    [6.0, 2.2, 4.0, 1.5, \"versicolor\"],\n",
    "    [6.1, 2.8, 4.7, 1.4, \"versicolor\"],\n",
    "    [5.9, 3.0, 4.2, 1.5, \"versicolor\"],\n",
    "    [6.7, 3.1, 4.4, 1.4, \"versicolor\"],\n",
    "    [6.3, 2.5, 4.9, 1.5, \"versicolor\"],\n",
    "    [6.5, 3.0, 5.1, 2.0, \"virginica\"],\n",
    "    [6.2, 2.8, 4.5, 1.5, \"versicolor\"],\n",
    "    [6.4, 2.9, 4.3, 1.3, \"versicolor\"],\n",
    "    [5.5, 2.4, 4.0, 1.3, \"versicolor\"],\n",
    "    [5.7, 2.8, 4.1, 1.3, \"versicolor\"],\n",
    "    [5.8, 2.7, 5.1, 1.9, \"virginica\"],\n",
    "    [6.9, 3.1, 5.4, 2.3, \"virginica\"],\n",
    "    [6.0, 2.2, 5.0, 1.5, \"virginica\"],\n",
    "    [6.3, 2.3, 5.6, 2.4, \"virginica\"],\n",
    "    [6.1, 2.8, 5.6, 2.4, \"virginica\"],\n",
    "    [5.6, 2.9, 3.6, 1.3, \"versicolor\"],\n",
    "    [5.8, 2.7, 4.1, 1.0, \"versicolor\"],\n",
    "    [6.0, 2.9, 4.5, 1.5, \"versicolor\"],\n",
    "    [6.1, 2.6, 4.7, 1.4, \"versicolor\"],\n",
    "    [6.5, 3.0, 5.2, 2.0, \"virginica\"],\n",
    "    [6.2, 2.9, 5.4, 2.3, \"virginica\"],\n",
    "    [5.9, 3.0, 5.1, 1.8, \"virginica\"],\n",
    "    [6.3, 2.7, 5.6, 2.1, \"virginica\"]\n",
    "]\n"
   ]
  },
  {
   "cell_type": "code",
   "execution_count": 178,
   "id": "fd136305",
   "metadata": {},
   "outputs": [],
   "source": [
    "df = pd.DataFrame(df, columns=['SepalLength', 'SepalWidth', 'PetalLength', 'PetalWdith', 'Class'])"
   ]
  },
  {
   "cell_type": "code",
   "execution_count": 179,
   "id": "c1a2d35d",
   "metadata": {},
   "outputs": [
    {
     "name": "stdout",
     "output_type": "stream",
     "text": [
      "   SepalLength  SepalWidth  PetalLength  PetalWdith   Class\n",
      "0          5.1         3.5          1.4         0.2  setosa\n",
      "1          4.9         3.0          1.4         0.2  setosa\n",
      "2          4.7         3.2          1.3         0.2  setosa\n",
      "3          4.6         3.1          1.5         0.2  setosa\n",
      "4          5.0         3.6          1.4         0.2  setosa\n"
     ]
    }
   ],
   "source": [
    "print(df.head())"
   ]
  },
  {
   "cell_type": "code",
   "execution_count": 180,
   "id": "377e4542",
   "metadata": {},
   "outputs": [
    {
     "name": "stdout",
     "output_type": "stream",
     "text": [
      "(30, 5)\n"
     ]
    }
   ],
   "source": [
    "print(df.shape)"
   ]
  },
  {
   "cell_type": "code",
   "execution_count": 181,
   "id": "2ad35ccb",
   "metadata": {},
   "outputs": [],
   "source": [
    "X = df.iloc[:, :-1]\n",
    "y = df.iloc[:, -1]"
   ]
  },
  {
   "cell_type": "code",
   "execution_count": 182,
   "id": "b42c8c6b",
   "metadata": {},
   "outputs": [
    {
     "name": "stdout",
     "output_type": "stream",
     "text": [
      "   SepalLength  SepalWidth  PetalLength  PetalWdith\n",
      "0          5.1         3.5          1.4         0.2\n",
      "1          4.9         3.0          1.4         0.2\n",
      "2          4.7         3.2          1.3         0.2\n",
      "3          4.6         3.1          1.5         0.2\n",
      "4          5.0         3.6          1.4         0.2\n",
      "0    setosa\n",
      "1    setosa\n",
      "2    setosa\n",
      "3    setosa\n",
      "4    setosa\n",
      "Name: Class, dtype: object\n"
     ]
    }
   ],
   "source": [
    "print(X.head())\n",
    "print(y.head())"
   ]
  },
  {
   "cell_type": "code",
   "execution_count": 183,
   "id": "695f2466",
   "metadata": {},
   "outputs": [],
   "source": [
    "df = df.sample(frac=1, random_state=42).reset_index(drop=True)"
   ]
  },
  {
   "cell_type": "code",
   "execution_count": 184,
   "id": "3242e955",
   "metadata": {},
   "outputs": [
    {
     "data": {
      "text/html": [
       "<div>\n",
       "<style scoped>\n",
       "    .dataframe tbody tr th:only-of-type {\n",
       "        vertical-align: middle;\n",
       "    }\n",
       "\n",
       "    .dataframe tbody tr th {\n",
       "        vertical-align: top;\n",
       "    }\n",
       "\n",
       "    .dataframe thead th {\n",
       "        text-align: right;\n",
       "    }\n",
       "</style>\n",
       "<table border=\"1\" class=\"dataframe\">\n",
       "  <thead>\n",
       "    <tr style=\"text-align: right;\">\n",
       "      <th></th>\n",
       "      <th>SepalLength</th>\n",
       "      <th>SepalWidth</th>\n",
       "      <th>PetalLength</th>\n",
       "      <th>PetalWdith</th>\n",
       "      <th>Class</th>\n",
       "    </tr>\n",
       "  </thead>\n",
       "  <tbody>\n",
       "    <tr>\n",
       "      <th>0</th>\n",
       "      <td>6.2</td>\n",
       "      <td>2.9</td>\n",
       "      <td>5.4</td>\n",
       "      <td>2.3</td>\n",
       "      <td>virginica</td>\n",
       "    </tr>\n",
       "    <tr>\n",
       "      <th>1</th>\n",
       "      <td>5.5</td>\n",
       "      <td>2.4</td>\n",
       "      <td>4.0</td>\n",
       "      <td>1.3</td>\n",
       "      <td>versicolor</td>\n",
       "    </tr>\n",
       "    <tr>\n",
       "      <th>2</th>\n",
       "      <td>5.8</td>\n",
       "      <td>2.7</td>\n",
       "      <td>4.1</td>\n",
       "      <td>1.0</td>\n",
       "      <td>versicolor</td>\n",
       "    </tr>\n",
       "    <tr>\n",
       "      <th>3</th>\n",
       "      <td>5.8</td>\n",
       "      <td>2.7</td>\n",
       "      <td>5.1</td>\n",
       "      <td>1.9</td>\n",
       "      <td>virginica</td>\n",
       "    </tr>\n",
       "    <tr>\n",
       "      <th>4</th>\n",
       "      <td>6.1</td>\n",
       "      <td>2.8</td>\n",
       "      <td>4.7</td>\n",
       "      <td>1.4</td>\n",
       "      <td>versicolor</td>\n",
       "    </tr>\n",
       "    <tr>\n",
       "      <th>5</th>\n",
       "      <td>5.9</td>\n",
       "      <td>3.0</td>\n",
       "      <td>4.2</td>\n",
       "      <td>1.5</td>\n",
       "      <td>versicolor</td>\n",
       "    </tr>\n",
       "    <tr>\n",
       "      <th>6</th>\n",
       "      <td>5.9</td>\n",
       "      <td>3.0</td>\n",
       "      <td>5.1</td>\n",
       "      <td>1.8</td>\n",
       "      <td>virginica</td>\n",
       "    </tr>\n",
       "    <tr>\n",
       "      <th>7</th>\n",
       "      <td>6.0</td>\n",
       "      <td>2.9</td>\n",
       "      <td>4.5</td>\n",
       "      <td>1.5</td>\n",
       "      <td>versicolor</td>\n",
       "    </tr>\n",
       "    <tr>\n",
       "      <th>8</th>\n",
       "      <td>6.5</td>\n",
       "      <td>3.0</td>\n",
       "      <td>5.1</td>\n",
       "      <td>2.0</td>\n",
       "      <td>virginica</td>\n",
       "    </tr>\n",
       "    <tr>\n",
       "      <th>9</th>\n",
       "      <td>5.1</td>\n",
       "      <td>3.5</td>\n",
       "      <td>1.4</td>\n",
       "      <td>0.2</td>\n",
       "      <td>setosa</td>\n",
       "    </tr>\n",
       "    <tr>\n",
       "      <th>10</th>\n",
       "      <td>5.0</td>\n",
       "      <td>3.6</td>\n",
       "      <td>1.4</td>\n",
       "      <td>0.2</td>\n",
       "      <td>setosa</td>\n",
       "    </tr>\n",
       "    <tr>\n",
       "      <th>11</th>\n",
       "      <td>5.7</td>\n",
       "      <td>2.8</td>\n",
       "      <td>4.1</td>\n",
       "      <td>1.3</td>\n",
       "      <td>versicolor</td>\n",
       "    </tr>\n",
       "    <tr>\n",
       "      <th>12</th>\n",
       "      <td>5.4</td>\n",
       "      <td>3.9</td>\n",
       "      <td>1.7</td>\n",
       "      <td>0.4</td>\n",
       "      <td>setosa</td>\n",
       "    </tr>\n",
       "    <tr>\n",
       "      <th>13</th>\n",
       "      <td>6.2</td>\n",
       "      <td>2.8</td>\n",
       "      <td>4.5</td>\n",
       "      <td>1.5</td>\n",
       "      <td>versicolor</td>\n",
       "    </tr>\n",
       "    <tr>\n",
       "      <th>14</th>\n",
       "      <td>6.3</td>\n",
       "      <td>2.5</td>\n",
       "      <td>4.9</td>\n",
       "      <td>1.5</td>\n",
       "      <td>versicolor</td>\n",
       "    </tr>\n",
       "    <tr>\n",
       "      <th>15</th>\n",
       "      <td>5.6</td>\n",
       "      <td>2.9</td>\n",
       "      <td>3.6</td>\n",
       "      <td>1.3</td>\n",
       "      <td>versicolor</td>\n",
       "    </tr>\n",
       "    <tr>\n",
       "      <th>16</th>\n",
       "      <td>4.9</td>\n",
       "      <td>3.0</td>\n",
       "      <td>1.4</td>\n",
       "      <td>0.2</td>\n",
       "      <td>setosa</td>\n",
       "    </tr>\n",
       "    <tr>\n",
       "      <th>17</th>\n",
       "      <td>4.7</td>\n",
       "      <td>3.2</td>\n",
       "      <td>1.3</td>\n",
       "      <td>0.2</td>\n",
       "      <td>setosa</td>\n",
       "    </tr>\n",
       "    <tr>\n",
       "      <th>18</th>\n",
       "      <td>6.1</td>\n",
       "      <td>2.6</td>\n",
       "      <td>4.7</td>\n",
       "      <td>1.4</td>\n",
       "      <td>versicolor</td>\n",
       "    </tr>\n",
       "    <tr>\n",
       "      <th>19</th>\n",
       "      <td>4.6</td>\n",
       "      <td>3.1</td>\n",
       "      <td>1.5</td>\n",
       "      <td>0.2</td>\n",
       "      <td>setosa</td>\n",
       "    </tr>\n",
       "    <tr>\n",
       "      <th>20</th>\n",
       "      <td>6.1</td>\n",
       "      <td>2.8</td>\n",
       "      <td>5.6</td>\n",
       "      <td>2.4</td>\n",
       "      <td>virginica</td>\n",
       "    </tr>\n",
       "    <tr>\n",
       "      <th>21</th>\n",
       "      <td>6.5</td>\n",
       "      <td>3.0</td>\n",
       "      <td>5.2</td>\n",
       "      <td>2.0</td>\n",
       "      <td>virginica</td>\n",
       "    </tr>\n",
       "    <tr>\n",
       "      <th>22</th>\n",
       "      <td>6.9</td>\n",
       "      <td>3.1</td>\n",
       "      <td>5.4</td>\n",
       "      <td>2.3</td>\n",
       "      <td>virginica</td>\n",
       "    </tr>\n",
       "    <tr>\n",
       "      <th>23</th>\n",
       "      <td>6.3</td>\n",
       "      <td>2.7</td>\n",
       "      <td>5.6</td>\n",
       "      <td>2.1</td>\n",
       "      <td>virginica</td>\n",
       "    </tr>\n",
       "    <tr>\n",
       "      <th>24</th>\n",
       "      <td>6.3</td>\n",
       "      <td>2.3</td>\n",
       "      <td>5.6</td>\n",
       "      <td>2.4</td>\n",
       "      <td>virginica</td>\n",
       "    </tr>\n",
       "    <tr>\n",
       "      <th>25</th>\n",
       "      <td>6.0</td>\n",
       "      <td>2.2</td>\n",
       "      <td>4.0</td>\n",
       "      <td>1.5</td>\n",
       "      <td>versicolor</td>\n",
       "    </tr>\n",
       "    <tr>\n",
       "      <th>26</th>\n",
       "      <td>6.7</td>\n",
       "      <td>3.1</td>\n",
       "      <td>4.4</td>\n",
       "      <td>1.4</td>\n",
       "      <td>versicolor</td>\n",
       "    </tr>\n",
       "    <tr>\n",
       "      <th>27</th>\n",
       "      <td>6.4</td>\n",
       "      <td>2.9</td>\n",
       "      <td>4.3</td>\n",
       "      <td>1.3</td>\n",
       "      <td>versicolor</td>\n",
       "    </tr>\n",
       "    <tr>\n",
       "      <th>28</th>\n",
       "      <td>6.0</td>\n",
       "      <td>2.2</td>\n",
       "      <td>5.0</td>\n",
       "      <td>1.5</td>\n",
       "      <td>virginica</td>\n",
       "    </tr>\n",
       "    <tr>\n",
       "      <th>29</th>\n",
       "      <td>5.8</td>\n",
       "      <td>4.0</td>\n",
       "      <td>1.2</td>\n",
       "      <td>0.2</td>\n",
       "      <td>setosa</td>\n",
       "    </tr>\n",
       "  </tbody>\n",
       "</table>\n",
       "</div>"
      ],
      "text/plain": [
       "    SepalLength  SepalWidth  PetalLength  PetalWdith       Class\n",
       "0           6.2         2.9          5.4         2.3   virginica\n",
       "1           5.5         2.4          4.0         1.3  versicolor\n",
       "2           5.8         2.7          4.1         1.0  versicolor\n",
       "3           5.8         2.7          5.1         1.9   virginica\n",
       "4           6.1         2.8          4.7         1.4  versicolor\n",
       "5           5.9         3.0          4.2         1.5  versicolor\n",
       "6           5.9         3.0          5.1         1.8   virginica\n",
       "7           6.0         2.9          4.5         1.5  versicolor\n",
       "8           6.5         3.0          5.1         2.0   virginica\n",
       "9           5.1         3.5          1.4         0.2      setosa\n",
       "10          5.0         3.6          1.4         0.2      setosa\n",
       "11          5.7         2.8          4.1         1.3  versicolor\n",
       "12          5.4         3.9          1.7         0.4      setosa\n",
       "13          6.2         2.8          4.5         1.5  versicolor\n",
       "14          6.3         2.5          4.9         1.5  versicolor\n",
       "15          5.6         2.9          3.6         1.3  versicolor\n",
       "16          4.9         3.0          1.4         0.2      setosa\n",
       "17          4.7         3.2          1.3         0.2      setosa\n",
       "18          6.1         2.6          4.7         1.4  versicolor\n",
       "19          4.6         3.1          1.5         0.2      setosa\n",
       "20          6.1         2.8          5.6         2.4   virginica\n",
       "21          6.5         3.0          5.2         2.0   virginica\n",
       "22          6.9         3.1          5.4         2.3   virginica\n",
       "23          6.3         2.7          5.6         2.1   virginica\n",
       "24          6.3         2.3          5.6         2.4   virginica\n",
       "25          6.0         2.2          4.0         1.5  versicolor\n",
       "26          6.7         3.1          4.4         1.4  versicolor\n",
       "27          6.4         2.9          4.3         1.3  versicolor\n",
       "28          6.0         2.2          5.0         1.5   virginica\n",
       "29          5.8         4.0          1.2         0.2      setosa"
      ]
     },
     "execution_count": 184,
     "metadata": {},
     "output_type": "execute_result"
    }
   ],
   "source": [
    "df"
   ]
  },
  {
   "cell_type": "code",
   "execution_count": 185,
   "id": "d0d74da9",
   "metadata": {},
   "outputs": [],
   "source": [
    "data_list = df.values.tolist()"
   ]
  },
  {
   "cell_type": "code",
   "execution_count": 186,
   "id": "03699310",
   "metadata": {},
   "outputs": [],
   "source": [
    "\n",
    "def split_folds(data, num_folds=5):\n",
    "    fold_size = len(data) // num_folds\n",
    "    return [data[i * fold_size: (i + 1) * fold_size] for i in range(num_folds)]"
   ]
  },
  {
   "cell_type": "code",
   "execution_count": 187,
   "id": "4c344784",
   "metadata": {},
   "outputs": [],
   "source": [
    "def euclidean(p1, p2):\n",
    "    summ = 0\n",
    "    for i in range(len(p1)):\n",
    "        summ += (p1[i] - p2[i]) ** 2\n",
    "\n",
    "    return math.sqrt(summ)"
   ]
  },
  {
   "cell_type": "code",
   "execution_count": 188,
   "id": "b912e021",
   "metadata": {},
   "outputs": [],
   "source": [
    "def knn(train, test, k):\n",
    "    distances = [(euclidean(test[:-1], row[:-1]), row[-1]) for row in train]\n",
    "    distances.sort()\n",
    "    k_nearest = [label for _, label in distances[:k]]\n",
    "    return Counter(k_nearest).most_common(1)[0][0]"
   ]
  },
  {
   "cell_type": "code",
   "execution_count": 189,
   "id": "97c7398c",
   "metadata": {},
   "outputs": [],
   "source": [
    "def cross_validate(data, k_values, num_folds=5):\n",
    "    folds = split_folds(data, num_folds)\n",
    "    results = []\n",
    "\n",
    "    for k in k_values:\n",
    "        accuracies = []\n",
    "        for i in range(num_folds):\n",
    "            test_set = folds[i]\n",
    "            train_set = [item for j, fold in enumerate(folds) if j != i for item in fold]\n",
    "            correct = sum(knn(train_set, row, k) == row[-1] for row in test_set)\n",
    "            accuracy = correct / len(test_set)\n",
    "            accuracies.append(accuracy)\n",
    "        print(accuracies)\n",
    "        mean_accuracy = sum(accuracies) / len(accuracies)\n",
    "        results.append((k, mean_accuracy))\n",
    "    return results\n"
   ]
  },
  {
   "cell_type": "code",
   "execution_count": 190,
   "id": "1ff7f16f",
   "metadata": {},
   "outputs": [],
   "source": [
    "k_values = [1, 3, 5, 7, 9]"
   ]
  },
  {
   "cell_type": "code",
   "execution_count": 191,
   "id": "58d1dbeb",
   "metadata": {},
   "outputs": [
    {
     "name": "stdout",
     "output_type": "stream",
     "text": [
      "[1.0, 1.0, 1.0, 1.0, 0.8333333333333334]\n",
      "[1.0, 1.0, 1.0, 1.0, 0.8333333333333334]\n",
      "[1.0, 1.0, 1.0, 1.0, 0.8333333333333334]\n",
      "[1.0, 0.8333333333333334, 1.0, 1.0, 0.8333333333333334]\n",
      "[1.0, 1.0, 0.3333333333333333, 1.0, 0.8333333333333334]\n",
      "[(1, 0.9666666666666666), (3, 0.9666666666666666), (5, 0.9666666666666666), (7, 0.9333333333333333), (9, 0.8333333333333334)]\n"
     ]
    }
   ],
   "source": [
    "results = cross_validate(data_list, k_values)\n",
    "print(results)"
   ]
  },
  {
   "cell_type": "code",
   "execution_count": 192,
   "id": "087d9631",
   "metadata": {},
   "outputs": [],
   "source": [
    "best_k, _ = max(results, key=lambda x: (x[1], -x[0]))"
   ]
  },
  {
   "cell_type": "code",
   "execution_count": 193,
   "id": "61584bc6",
   "metadata": {},
   "outputs": [],
   "source": [
    "train_size = int(0.8 * len(df))\n",
    "train_df = df.iloc[:train_size]\n",
    "test_df = df.iloc[train_size:]"
   ]
  },
  {
   "cell_type": "code",
   "execution_count": 194,
   "id": "e7550dcf",
   "metadata": {},
   "outputs": [],
   "source": [
    "train_data = train_df.values.tolist()\n",
    "test_data = test_df.values.tolist()"
   ]
  },
  {
   "cell_type": "code",
   "execution_count": 195,
   "id": "fe96af03",
   "metadata": {},
   "outputs": [],
   "source": [
    "correct = sum(knn(train_data, row, k=best_k) == row[-1] for row in test_data)\n",
    "test_accuracy = correct / len(test_data)"
   ]
  },
  {
   "cell_type": "code",
   "execution_count": 196,
   "id": "d6c00651",
   "metadata": {},
   "outputs": [
    {
     "name": "stdout",
     "output_type": "stream",
     "text": [
      "1\n"
     ]
    }
   ],
   "source": [
    "print(best_k)"
   ]
  },
  {
   "cell_type": "markdown",
   "id": "e20a1512",
   "metadata": {},
   "source": [
    "## knn normalize "
   ]
  },
  {
   "cell_type": "code",
   "execution_count": 197,
   "id": "b86a7954",
   "metadata": {},
   "outputs": [],
   "source": [
    "import pandas as pd\n",
    "import numpy as np\n",
    "from collections import Counter"
   ]
  },
  {
   "cell_type": "code",
   "execution_count": 198,
   "id": "093a8faa",
   "metadata": {},
   "outputs": [],
   "source": [
    "df = [\n",
    "    [5.2, 3.4, 1.5, 0.2, \"setosa\"],\n",
    "    [4.8, 3.1, 1.6, 0.3, \"setosa\"],\n",
    "    [5.0, 3.2, 1.2, 0.2, \"setosa\"],\n",
    "    [5.3, 3.7, 1.4, 0.3, \"setosa\"],\n",
    "    [4.9, 3.0, 1.5, 0.1, \"setosa\"],\n",
    "    [5.1, 3.5, 1.3, 0.3, \"setosa\"],\n",
    "    [5.4, 3.4, 1.7, 0.2, \"setosa\"],\n",
    "    [5.0, 3.3, 1.4, 0.2, \"setosa\"],\n",
    "    [6.0, 2.7, 4.2, 1.3, \"versicolor\"],\n",
    "    [6.2, 2.9, 4.3, 1.3, \"versicolor\"],\n",
    "    [5.7, 2.6, 3.5, 1.0, \"versicolor\"],\n",
    "    [5.8, 2.7, 4.1, 1.2, \"versicolor\"],\n",
    "    [6.1, 3.0, 4.6, 1.4, \"versicolor\"],\n",
    "    [5.6, 2.8, 4.0, 1.3, \"versicolor\"],\n",
    "    [6.3, 2.5, 4.9, 1.5, \"versicolor\"],\n",
    "    [6.0, 3.4, 4.5, 1.6, \"versicolor\"],\n",
    "    [5.9, 3.0, 4.2, 1.5, \"versicolor\"],\n",
    "    [6.4, 2.8, 5.0, 1.7, \"versicolor\"],\n",
    "    [5.5, 2.5, 4.0, 1.2, \"versicolor\"],\n",
    "    [6.2, 2.2, 4.8, 1.8, \"versicolor\"],\n",
    "    [6.5, 3.0, 5.2, 2.0, \"virginica\"],\n",
    "    [6.9, 3.1, 5.4, 2.1, \"virginica\"],\n",
    "    [6.7, 3.0, 5.8, 2.2, \"virginica\"],\n",
    "    [7.1, 3.0, 5.9, 2.1, \"virginica\"],\n",
    "    [6.3, 2.9, 5.6, 1.8, \"virginica\"],\n",
    "    [6.6, 2.8, 5.3, 2.0, \"virginica\"],\n",
    "    [7.0, 3.2, 5.7, 2.3, \"virginica\"],\n",
    "    [6.5, 3.2, 5.1, 2.0, \"virginica\"],\n",
    "    [6.8, 3.0, 5.5, 2.1, \"virginica\"],\n",
    "    [6.4, 2.9, 5.6, 2.2, \"virginica\"],\n",
    "    [6.2, 3.4, 5.4, 2.3, \"virginica\"],\n",
    "    [6.9, 3.1, 5.1, 2.3, \"virginica\"],\n",
    "    [7.2, 3.2, 6.0, 2.2, \"virginica\"],\n",
    "    [6.3, 2.8, 5.7, 1.9, \"virginica\"],\n",
    "    [6.1, 3.0, 5.5, 1.8, \"virginica\"],\n",
    "    [6.7, 3.3, 5.7, 2.1, \"virginica\"],\n",
    "    [6.4, 3.1, 5.5, 1.8, \"virginica\"],\n",
    "    [6.8, 3.2, 5.9, 2.3, \"virginica\"],\n",
    "    [7.3, 2.9, 6.1, 2.5, \"virginica\"],\n",
    "    [6.5, 3.0, 5.8, 2.2, \"virginica\"]\n",
    "]\n"
   ]
  },
  {
   "cell_type": "code",
   "execution_count": 199,
   "id": "8404ece8",
   "metadata": {},
   "outputs": [],
   "source": [
    "df = pd.DataFrame(df, columns=['SepalLength', 'SepalWidth', 'PetalLength', 'PetalWidth', 'Class'])"
   ]
  },
  {
   "cell_type": "code",
   "execution_count": 201,
   "id": "0d72ef42",
   "metadata": {},
   "outputs": [
    {
     "name": "stdout",
     "output_type": "stream",
     "text": [
      "   SepalLength  SepalWidth  PetalLength  PetalWidth   Class\n",
      "0          5.2         3.4          1.5         0.2  setosa\n",
      "1          4.8         3.1          1.6         0.3  setosa\n",
      "2          5.0         3.2          1.2         0.2  setosa\n",
      "3          5.3         3.7          1.4         0.3  setosa\n",
      "4          4.9         3.0          1.5         0.1  setosa\n"
     ]
    }
   ],
   "source": [
    "print(df.head())"
   ]
  },
  {
   "cell_type": "code",
   "execution_count": 202,
   "id": "0f89990d",
   "metadata": {},
   "outputs": [],
   "source": [
    "def normalize(df):\n",
    "    df_norm = df.copy()\n",
    "    for col in df.columns[:-1]:\n",
    "        df_norm[col] = (df[col] - df[col].min()) / (df[col].max() - df[col].min())\n",
    "    return df_norm"
   ]
  },
  {
   "cell_type": "code",
   "execution_count": 203,
   "id": "2d39f34c",
   "metadata": {},
   "outputs": [],
   "source": [
    "df = normalize(df)"
   ]
  },
  {
   "cell_type": "code",
   "execution_count": 204,
   "id": "7409e33f",
   "metadata": {},
   "outputs": [
    {
     "name": "stdout",
     "output_type": "stream",
     "text": [
      "   SepalLength  SepalWidth  PetalLength  PetalWidth   Class\n",
      "0         0.16    0.800000     0.061224    0.041667  setosa\n",
      "1         0.00    0.600000     0.081633    0.083333  setosa\n",
      "2         0.08    0.666667     0.000000    0.041667  setosa\n",
      "3         0.20    1.000000     0.040816    0.083333  setosa\n",
      "4         0.04    0.533333     0.061224    0.000000  setosa\n"
     ]
    }
   ],
   "source": [
    "print(df.head())"
   ]
  },
  {
   "cell_type": "code",
   "execution_count": 205,
   "id": "63f9cd13",
   "metadata": {},
   "outputs": [],
   "source": [
    "def manhattan_distance(a, b):\n",
    "    return np.sum(np.abs(a - b))"
   ]
  },
  {
   "cell_type": "code",
   "execution_count": 206,
   "id": "a6608700",
   "metadata": {},
   "outputs": [],
   "source": [
    "def knn_predict(train_X, train_y, test_x, k):\n",
    "    distances = []\n",
    "    for i in range(len(train_X)):\n",
    "        dist = manhattan_distance(train_X.iloc[i], test_x)\n",
    "        distances.append((dist, train_y.iloc[i]))\n",
    "    distances.sort(key=lambda x: x[0])\n",
    "    top_k = [label for _, label in distances[:k]]\n",
    "    return Counter(top_k).most_common(1)[0][0]"
   ]
  },
  {
   "cell_type": "code",
   "execution_count": 207,
   "id": "3c30f388",
   "metadata": {},
   "outputs": [],
   "source": [
    "def k_fold_split(df, k=5):\n",
    "    df_shuffled = df.sample(frac=1, random_state=1).reset_index(drop=True)\n",
    "    return np.array_split(df_shuffled, k)"
   ]
  },
  {
   "cell_type": "code",
   "execution_count": 208,
   "id": "0610441e",
   "metadata": {},
   "outputs": [],
   "source": [
    "def cross_validate(df, k_values, folds=5):\n",
    "    results = {}\n",
    "    split_data = k_fold_split(df, folds)\n",
    "    for k in k_values:\n",
    "        acc_list = []\n",
    "        for i in range(folds):\n",
    "            test_df = split_data[i]\n",
    "            train_df = pd.concat([split_data[j] for j in range(folds) if j != i])\n",
    "            train_X, train_y = train_df.iloc[:, :-1], train_df.iloc[:, -1]\n",
    "            test_X, test_y = test_df.iloc[:, :-1], test_df.iloc[:, -1]\n",
    "            correct = 0\n",
    "            for idx in range(len(test_df)):\n",
    "                pred = knn_predict(train_X, train_y, test_X.iloc[idx], k)\n",
    "                if pred == test_y.iloc[idx]:\n",
    "                    correct += 1\n",
    "            acc_list.append(correct / len(test_df))\n",
    "        results[k] = round(np.mean(acc_list), 4)\n",
    "    return results\n",
    "            "
   ]
  },
  {
   "cell_type": "code",
   "execution_count": null,
   "id": "2fbe19db",
   "metadata": {},
   "outputs": [],
   "source": []
  }
 ],
 "metadata": {
  "kernelspec": {
   "display_name": "Python 3",
   "language": "python",
   "name": "python3"
  },
  "language_info": {
   "codemirror_mode": {
    "name": "ipython",
    "version": 3
   },
   "file_extension": ".py",
   "mimetype": "text/x-python",
   "name": "python",
   "nbconvert_exporter": "python",
   "pygments_lexer": "ipython3",
   "version": "3.12.1"
  }
 },
 "nbformat": 4,
 "nbformat_minor": 5
}
