{
 "cells": [
  {
   "cell_type": "markdown",
   "id": "45d6b452",
   "metadata": {},
   "source": [
    "# Kmeans1"
   ]
  },
  {
   "cell_type": "code",
   "execution_count": 3,
   "id": "028a783f",
   "metadata": {},
   "outputs": [],
   "source": [
    "import numpy as np\n",
    "import matplotlib.pyplot as plt"
   ]
  },
  {
   "cell_type": "code",
   "execution_count": null,
   "id": "6f840542",
   "metadata": {},
   "outputs": [],
   "source": [
    "class KMeans:\n",
    "    def __init__(self, k=2, epochs=100, ep=1e-4, seed=42):\n",
    "        self.k = k\n",
    "        self.ep = ep\n",
    "        self.epochs = epochs\n",
    "        np.random.seed(seed)\n",
    "        self.centroids = None\n",
    "        self.labels = None\n",
    "        self.j_hist = []\n",
    "\n",
    "    def init_centroids(self, X):\n",
    "        idxs = np.random.choice(X.shape[0], self.k, replace=False)\n",
    "        return X[idxs]\n",
    "    \n",
    "    def assign_cluster(self, X, centroids):\n",
    "        assign = []\n",
    "        for x in X:\n",
    "            distances = [self._dist(x, pt) for pt in centroids]\n",
    "            assign.append(np.argmin(distances))\n",
    "        return np.array(assign)\n",
    "    \n",
    "    def _dist(self, a, b):\n",
    "        return np.sqrt(np.sum((a - b) ** 2))\n",
    "    \n",
    "    def update_centroids(self, X, labels):\n",
    "        centroids = np.zeros((self.k, X.shape[1]))\n",
    "        for i in range(self.k):\n",
    "            points = X[labels == i]\n",
    "            if len(points) > 0:\n",
    "                centroids[i] = points.mean(axis=0)\n",
    "            else:\n",
    "                centroids[i] = X[np.random.choice(X.shape[0])]\n",
    "        return centroids\n",
    "    \n",
    "    def compute_objective(self, X, labels, centroids):\n",
    "        total = 0\n",
    "        for i in range(self.k):\n",
    "            cluster_points = X[labels == i]\n",
    "            total += np.sum((cluster_points - centroids[i]) ** 2)\n",
    "\n",
    "        return total / X.shape[0]\n",
    "    \n",
    "    def fit(self, X):\n",
    "        self.centroids = self.init_centroids(X)\n",
    "        for i in range(self.epochs):\n",
    "            labels = self.assign_cluster(X, self.centroids)\n",
    "            new_centroids = self.update_centroids(X, labels)\n",
    "            j = self.compute_objective(X, labels, new_centroids)\n",
    "            self.j_hist.append(round(j, 4))\n",
    "            if np.linalg.norm(new_centroids - self.centroids) < self.ep:\n",
    "                break\n",
    "            self.centroids = new_centroids\n",
    "        self.labels = labels\n",
    "        return self\n",
    "    \n",
    "    def plot_convergence(self):\n",
    "        plt.figure()\n",
    "        plt.plot(range(1, len(self.j_hist) + 1), self.j_hist, marker='o')\n",
    "        plt.title('Convergece of KMeans Objective j')\n",
    "        plt.xlabel('epochs')\n",
    "        plt.ylabel('J (Average Squared Distance)')\n",
    "        plt.grid(True)\n",
    "        plt.show()\n",
    "\n",
    "    def plot_clusters(self, X):\n",
    "        plt.figure()\n",
    "        colors = ['red', 'blue', 'green', 'purple', 'orange', 'cyan']\n",
    "        for i in range(self.k):\n",
    "            pts = X[self.labels == i]\n",
    "            plt.scatter(pts[:, 0], pts[:, 1], s=50, c=colors[i % len(colors)], label=f\"Cluster {i + 1}\")\n",
    "        plt.scatter(self.centroids[:, 0], self.centroids[:, 1], c='black', s=150, marker='x', label='centroids')\n",
    "        plt.title('K Means clustering Result')\n",
    "        plt.xlabel('X')\n",
    "        plt.ylabel('Y')\n",
    "        plt.legend()\n",
    "        plt.show()"
   ]
  },
  {
   "cell_type": "code",
   "execution_count": null,
   "id": "4380e47b",
   "metadata": {},
   "outputs": [],
   "source": []
  }
 ],
 "metadata": {
  "kernelspec": {
   "display_name": "Python 3",
   "language": "python",
   "name": "python3"
  },
  "language_info": {
   "codemirror_mode": {
    "name": "ipython",
    "version": 3
   },
   "file_extension": ".py",
   "mimetype": "text/x-python",
   "name": "python",
   "nbconvert_exporter": "python",
   "pygments_lexer": "ipython3",
   "version": "3.12.1"
  }
 },
 "nbformat": 4,
 "nbformat_minor": 5
}
